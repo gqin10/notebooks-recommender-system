{
 "cells": [
  {
   "cell_type": "code",
   "execution_count": 1,
   "id": "e74aaec2",
   "metadata": {
    "pycharm": {
     "name": "#%%\n"
    }
   },
   "outputs": [],
   "source": [
    "from Constraint import Constraint, Problem\n",
    "from Nature import Nature, attribute_nature\n",
    "from values import real_data_path, Attribute, simulated_data_path\n",
    "from constraint_relax import search_preferred_diagnosis\n",
    "import copy\n",
    "from IPython.display import display, HTML"
   ]
  },
  {
   "cell_type": "markdown",
   "id": "c9016df1",
   "metadata": {
    "pycharm": {
     "name": "#%% md\n"
    }
   },
   "source": [
    "# 1. Relaxation with Soft Relaxation-based Approach and Hard Relaxation-based Approach"
   ]
  },
  {
   "cell_type": "markdown",
   "id": "4db1dc5c",
   "metadata": {
    "pycharm": {
     "name": "#%% md\n"
    }
   },
   "source": [
    "## 1.1 Case 1"
   ]
  },
  {
   "cell_type": "code",
   "execution_count": 2,
   "id": "646a7e2f",
   "metadata": {
    "pycharm": {
     "name": "#%%\n"
    }
   },
   "outputs": [],
   "source": [
    "problem = Problem()\n",
    "problem.add_constraint_list([\n",
    "    Constraint(Attribute.RAM.value, 8, 7),\n",
    "    Constraint(Attribute.CPU.value, 'i5|ryzen 5', 7),\n",
    "    Constraint(Attribute.PRICE.value, 2500, 5),\n",
    "    Constraint(Attribute.OS.value, '11', 5)\n",
    "])"
   ]
  },
  {
   "cell_type": "code",
   "execution_count": 3,
   "id": "f37b99db",
   "metadata": {
    "pycharm": {
     "name": "#%%\n"
    }
   },
   "outputs": [
    {
     "name": "stdout",
     "output_type": "stream",
     "text": [
      "No items have been found\n"
     ]
    }
   ],
   "source": [
    "items = problem.retrieve_items()\n",
    "if items is None:\n",
    "    print('No items have been found')\n",
    "else:\n",
    "    display(items)"
   ]
  },
  {
   "cell_type": "code",
   "execution_count": 4,
   "id": "ec393096",
   "metadata": {
    "pycharm": {
     "name": "#%%\n"
    }
   },
   "outputs": [],
   "source": [
    "preferred_diagnosis = search_preferred_diagnosis(\n",
    "    problem.constraint_list,\n",
    "    real_data_path\n",
    ")"
   ]
  },
  {
   "cell_type": "code",
   "execution_count": 5,
   "id": "80e4fb4e",
   "metadata": {
    "pycharm": {
     "name": "#%%\n"
    }
   },
   "outputs": [
    {
     "data": {
      "text/plain": [
       "[{'name': 'price',\n",
       "  'value': 2500,\n",
       "  'priority': 5,\n",
       "  'nature': <Nature.LESS: 'less'>}]"
      ]
     },
     "execution_count": 5,
     "metadata": {},
     "output_type": "execute_result"
    }
   ],
   "source": [
    "[c.__dict__ for c in preferred_diagnosis]"
   ]
  },
  {
   "cell_type": "markdown",
   "id": "660053ce",
   "metadata": {
    "pycharm": {
     "name": "#%% md\n"
    }
   },
   "source": [
    "### 1.1.1 Soft Relaxation-based Approach"
   ]
  },
  {
   "cell_type": "code",
   "execution_count": 6,
   "id": "618b0d29",
   "metadata": {
    "pycharm": {
     "name": "#%%\n"
    }
   },
   "outputs": [
    {
     "data": {
      "text/html": [
       "<div>\n",
       "<style scoped>\n",
       "    .dataframe tbody tr th:only-of-type {\n",
       "        vertical-align: middle;\n",
       "    }\n",
       "\n",
       "    .dataframe tbody tr th {\n",
       "        vertical-align: top;\n",
       "    }\n",
       "\n",
       "    .dataframe thead th {\n",
       "        text-align: right;\n",
       "    }\n",
       "</style>\n",
       "<table border=\"1\" class=\"dataframe\">\n",
       "  <thead>\n",
       "    <tr style=\"text-align: right;\">\n",
       "      <th></th>\n",
       "      <th>brand</th>\n",
       "      <th>model</th>\n",
       "      <th>cpu</th>\n",
       "      <th>ram</th>\n",
       "      <th>storage</th>\n",
       "      <th>os</th>\n",
       "      <th>screen_size</th>\n",
       "      <th>gpu</th>\n",
       "      <th>camera</th>\n",
       "      <th>weight</th>\n",
       "      <th>price</th>\n",
       "    </tr>\n",
       "  </thead>\n",
       "  <tbody>\n",
       "    <tr>\n",
       "      <th>54</th>\n",
       "      <td>HP</td>\n",
       "      <td>Laptop 15s-du3023TX</td>\n",
       "      <td>Core i5-1135G7</td>\n",
       "      <td>8</td>\n",
       "      <td>512</td>\n",
       "      <td>Windows 11 Home</td>\n",
       "      <td>15.6</td>\n",
       "      <td>NVIDIA GeForce MX350</td>\n",
       "      <td>NaN</td>\n",
       "      <td>2.53</td>\n",
       "      <td>2999</td>\n",
       "    </tr>\n",
       "    <tr>\n",
       "      <th>97</th>\n",
       "      <td>Lenovo</td>\n",
       "      <td>IdeaPad 3 (82H80256MJ)</td>\n",
       "      <td>Core i5-1135G7</td>\n",
       "      <td>8</td>\n",
       "      <td>512</td>\n",
       "      <td>Windows 11 Home</td>\n",
       "      <td>15.6</td>\n",
       "      <td>Intel Iris Xe Graphics G7 80EUs</td>\n",
       "      <td>720p with Privacy Shutter</td>\n",
       "      <td>1.65</td>\n",
       "      <td>2997</td>\n",
       "    </tr>\n",
       "  </tbody>\n",
       "</table>\n",
       "</div>"
      ],
      "text/plain": [
       "     brand                   model             cpu  ram  storage  \\\n",
       "54      HP     Laptop 15s-du3023TX  Core i5-1135G7    8      512   \n",
       "97  Lenovo  IdeaPad 3 (82H80256MJ)  Core i5-1135G7    8      512   \n",
       "\n",
       "                 os  screen_size                              gpu  \\\n",
       "54  Windows 11 Home         15.6             NVIDIA GeForce MX350   \n",
       "97  Windows 11 Home         15.6  Intel Iris Xe Graphics G7 80EUs   \n",
       "\n",
       "                       camera  weight  price  \n",
       "54                        NaN    2.53   2999  \n",
       "97  720p with Privacy Shutter    1.65   2997  "
      ]
     },
     "metadata": {},
     "output_type": "display_data"
    }
   ],
   "source": [
    "problem.relax(preferred_diagnosis, 0) # soft relaxation-based approach\n",
    "display(problem.retrieve_items())"
   ]
  },
  {
   "cell_type": "markdown",
   "id": "5f6cac73",
   "metadata": {
    "pycharm": {
     "name": "#%% md\n"
    }
   },
   "source": [
    "### 1.1.2 Hard Relaxation-based Approach"
   ]
  },
  {
   "cell_type": "code",
   "execution_count": 7,
   "id": "21e490bb",
   "metadata": {
    "pycharm": {
     "name": "#%%\n"
    }
   },
   "outputs": [],
   "source": [
    "problem = Problem()\n",
    "problem.add_constraint_list([\n",
    "    Constraint(Attribute.RAM.value, 8, 7),\n",
    "    Constraint(Attribute.CPU.value, 'i5|ryzen 5', 7),\n",
    "    Constraint(Attribute.PRICE.value, 2500, 5),\n",
    "    Constraint(Attribute.OS.value, '11', 5)\n",
    "])\n",
    "\n",
    "preferred_diagnosis = search_preferred_diagnosis(\n",
    "    problem.constraint_list,\n",
    "    real_data_path\n",
    ")"
   ]
  },
  {
   "cell_type": "code",
   "execution_count": 8,
   "id": "0926d8b9",
   "metadata": {
    "pycharm": {
     "name": "#%%\n"
    }
   },
   "outputs": [
    {
     "data": {
      "text/html": [
       "<div>\n",
       "<style scoped>\n",
       "    .dataframe tbody tr th:only-of-type {\n",
       "        vertical-align: middle;\n",
       "    }\n",
       "\n",
       "    .dataframe tbody tr th {\n",
       "        vertical-align: top;\n",
       "    }\n",
       "\n",
       "    .dataframe thead th {\n",
       "        text-align: right;\n",
       "    }\n",
       "</style>\n",
       "<table border=\"1\" class=\"dataframe\">\n",
       "  <thead>\n",
       "    <tr style=\"text-align: right;\">\n",
       "      <th></th>\n",
       "      <th>brand</th>\n",
       "      <th>model</th>\n",
       "      <th>cpu</th>\n",
       "      <th>ram</th>\n",
       "      <th>storage</th>\n",
       "      <th>os</th>\n",
       "      <th>screen_size</th>\n",
       "      <th>gpu</th>\n",
       "      <th>camera</th>\n",
       "      <th>weight</th>\n",
       "      <th>price</th>\n",
       "    </tr>\n",
       "  </thead>\n",
       "  <tbody>\n",
       "    <tr>\n",
       "      <th>103</th>\n",
       "      <td>Acer</td>\n",
       "      <td>Nitro 5 (AN515-45-R7ND)</td>\n",
       "      <td>Ryzen 5 5600H</td>\n",
       "      <td>8</td>\n",
       "      <td>512</td>\n",
       "      <td>Windows 11 Home</td>\n",
       "      <td>15.6</td>\n",
       "      <td>NVIDIA GeForce GTX1650</td>\n",
       "      <td>HD</td>\n",
       "      <td>2.200</td>\n",
       "      <td>3699</td>\n",
       "    </tr>\n",
       "    <tr>\n",
       "      <th>80</th>\n",
       "      <td>Acer</td>\n",
       "      <td>Nitro 5 (AN515-57-536D)</td>\n",
       "      <td>Core i5-11400H</td>\n",
       "      <td>8</td>\n",
       "      <td>512</td>\n",
       "      <td>Windows 11 Home</td>\n",
       "      <td>15.6</td>\n",
       "      <td>NVIDIA GeForce RTX 3050</td>\n",
       "      <td>HD</td>\n",
       "      <td>2.200</td>\n",
       "      <td>4099</td>\n",
       "    </tr>\n",
       "    <tr>\n",
       "      <th>115</th>\n",
       "      <td>MSI</td>\n",
       "      <td>GF63 Thin 11UC-236</td>\n",
       "      <td>Core i5-11400H</td>\n",
       "      <td>8</td>\n",
       "      <td>512</td>\n",
       "      <td>Windows 11 Home</td>\n",
       "      <td>15.6</td>\n",
       "      <td>NVIDIA GeForce RTX 3050</td>\n",
       "      <td>HD</td>\n",
       "      <td>1.860</td>\n",
       "      <td>4299</td>\n",
       "    </tr>\n",
       "    <tr>\n",
       "      <th>53</th>\n",
       "      <td>HP</td>\n",
       "      <td>ENVY x360 Convert 13-ay1013AU</td>\n",
       "      <td>Ryzen 5 5600U</td>\n",
       "      <td>8</td>\n",
       "      <td>512</td>\n",
       "      <td>Windows 11 Home</td>\n",
       "      <td>13.3</td>\n",
       "      <td>AMD Radeon RX Vega 7</td>\n",
       "      <td>HP Wide Vision 720p HD camera with camera shut...</td>\n",
       "      <td>1.300</td>\n",
       "      <td>3999</td>\n",
       "    </tr>\n",
       "    <tr>\n",
       "      <th>86</th>\n",
       "      <td>HP</td>\n",
       "      <td>Pavilion Laptop 14-DV1006TX</td>\n",
       "      <td>Core i5-1155G7</td>\n",
       "      <td>8</td>\n",
       "      <td>512</td>\n",
       "      <td>Windows 11 Home</td>\n",
       "      <td>14.0</td>\n",
       "      <td>NVIDIA GeForce MX450</td>\n",
       "      <td>HP Wide Vision 720p HD camera with integrated ...</td>\n",
       "      <td>1.410</td>\n",
       "      <td>3899</td>\n",
       "    </tr>\n",
       "    <tr>\n",
       "      <th>95</th>\n",
       "      <td>HP</td>\n",
       "      <td>Pavilion Laptop 14-DV1028TU</td>\n",
       "      <td>Core i5-1155G7</td>\n",
       "      <td>8</td>\n",
       "      <td>512</td>\n",
       "      <td>Windows 11 Home</td>\n",
       "      <td>14.0</td>\n",
       "      <td>Intel Iris Xe Graphics G7 80EUs</td>\n",
       "      <td>HP Wide Vision 720p HD camera with integrated ...</td>\n",
       "      <td>1.410</td>\n",
       "      <td>3559</td>\n",
       "    </tr>\n",
       "    <tr>\n",
       "      <th>110</th>\n",
       "      <td>HP</td>\n",
       "      <td>Pavilion Laptop 15-EG1031TU</td>\n",
       "      <td>Core i5-1155G7</td>\n",
       "      <td>8</td>\n",
       "      <td>512</td>\n",
       "      <td>Windows 11 Home</td>\n",
       "      <td>15.6</td>\n",
       "      <td>Intel Iris Xe Graphics G7 80EUs</td>\n",
       "      <td>HP Wide Vision 720p HD camera with integrated ...</td>\n",
       "      <td>1.700</td>\n",
       "      <td>3559</td>\n",
       "    </tr>\n",
       "    <tr>\n",
       "      <th>54</th>\n",
       "      <td>HP</td>\n",
       "      <td>Laptop 15s-du3023TX</td>\n",
       "      <td>Core i5-1135G7</td>\n",
       "      <td>8</td>\n",
       "      <td>512</td>\n",
       "      <td>Windows 11 Home</td>\n",
       "      <td>15.6</td>\n",
       "      <td>NVIDIA GeForce MX350</td>\n",
       "      <td>NaN</td>\n",
       "      <td>2.530</td>\n",
       "      <td>2999</td>\n",
       "    </tr>\n",
       "    <tr>\n",
       "      <th>97</th>\n",
       "      <td>Lenovo</td>\n",
       "      <td>IdeaPad 3 (82H80256MJ)</td>\n",
       "      <td>Core i5-1135G7</td>\n",
       "      <td>8</td>\n",
       "      <td>512</td>\n",
       "      <td>Windows 11 Home</td>\n",
       "      <td>15.6</td>\n",
       "      <td>Intel Iris Xe Graphics G7 80EUs</td>\n",
       "      <td>720p with Privacy Shutter</td>\n",
       "      <td>1.650</td>\n",
       "      <td>2997</td>\n",
       "    </tr>\n",
       "    <tr>\n",
       "      <th>100</th>\n",
       "      <td>Acer</td>\n",
       "      <td>Swift 3 (SF314-511-51XN)</td>\n",
       "      <td>Core i5-1135G7</td>\n",
       "      <td>8</td>\n",
       "      <td>512</td>\n",
       "      <td>Windows 11 Home</td>\n",
       "      <td>14.0</td>\n",
       "      <td>Intel Iris Xe Graphics G7 80EUs</td>\n",
       "      <td>HD</td>\n",
       "      <td>1.200</td>\n",
       "      <td>3599</td>\n",
       "    </tr>\n",
       "    <tr>\n",
       "      <th>135</th>\n",
       "      <td>Microsoft</td>\n",
       "      <td>Surface Laptop Studio (THR-00017)</td>\n",
       "      <td>Core i5-11300H</td>\n",
       "      <td>16</td>\n",
       "      <td>256</td>\n",
       "      <td>Windows 11 Home</td>\n",
       "      <td>14.4</td>\n",
       "      <td>Intel Iris Xe Graphics</td>\n",
       "      <td>1080p with Windows Hello Authentication</td>\n",
       "      <td>1.743</td>\n",
       "      <td>7399</td>\n",
       "    </tr>\n",
       "  </tbody>\n",
       "</table>\n",
       "</div>"
      ],
      "text/plain": [
       "         brand                              model             cpu  ram  \\\n",
       "103       Acer            Nitro 5 (AN515-45-R7ND)   Ryzen 5 5600H    8   \n",
       "80        Acer            Nitro 5 (AN515-57-536D)  Core i5-11400H    8   \n",
       "115        MSI                 GF63 Thin 11UC-236  Core i5-11400H    8   \n",
       "53          HP      ENVY x360 Convert 13-ay1013AU   Ryzen 5 5600U    8   \n",
       "86          HP        Pavilion Laptop 14-DV1006TX  Core i5-1155G7    8   \n",
       "95          HP        Pavilion Laptop 14-DV1028TU  Core i5-1155G7    8   \n",
       "110         HP        Pavilion Laptop 15-EG1031TU  Core i5-1155G7    8   \n",
       "54          HP                Laptop 15s-du3023TX  Core i5-1135G7    8   \n",
       "97      Lenovo             IdeaPad 3 (82H80256MJ)  Core i5-1135G7    8   \n",
       "100       Acer           Swift 3 (SF314-511-51XN)  Core i5-1135G7    8   \n",
       "135  Microsoft  Surface Laptop Studio (THR-00017)  Core i5-11300H   16   \n",
       "\n",
       "     storage               os  screen_size                              gpu  \\\n",
       "103      512  Windows 11 Home         15.6           NVIDIA GeForce GTX1650   \n",
       "80       512  Windows 11 Home         15.6          NVIDIA GeForce RTX 3050   \n",
       "115      512  Windows 11 Home         15.6          NVIDIA GeForce RTX 3050   \n",
       "53       512  Windows 11 Home         13.3             AMD Radeon RX Vega 7   \n",
       "86       512  Windows 11 Home         14.0             NVIDIA GeForce MX450   \n",
       "95       512  Windows 11 Home         14.0  Intel Iris Xe Graphics G7 80EUs   \n",
       "110      512  Windows 11 Home         15.6  Intel Iris Xe Graphics G7 80EUs   \n",
       "54       512  Windows 11 Home         15.6             NVIDIA GeForce MX350   \n",
       "97       512  Windows 11 Home         15.6  Intel Iris Xe Graphics G7 80EUs   \n",
       "100      512  Windows 11 Home         14.0  Intel Iris Xe Graphics G7 80EUs   \n",
       "135      256  Windows 11 Home         14.4           Intel Iris Xe Graphics   \n",
       "\n",
       "                                                camera  weight  price  \n",
       "103                                                 HD   2.200   3699  \n",
       "80                                                  HD   2.200   4099  \n",
       "115                                                 HD   1.860   4299  \n",
       "53   HP Wide Vision 720p HD camera with camera shut...   1.300   3999  \n",
       "86   HP Wide Vision 720p HD camera with integrated ...   1.410   3899  \n",
       "95   HP Wide Vision 720p HD camera with integrated ...   1.410   3559  \n",
       "110  HP Wide Vision 720p HD camera with integrated ...   1.700   3559  \n",
       "54                                                 NaN   2.530   2999  \n",
       "97                           720p with Privacy Shutter   1.650   2997  \n",
       "100                                                 HD   1.200   3599  \n",
       "135            1080p with Windows Hello Authentication   1.743   7399  "
      ]
     },
     "metadata": {},
     "output_type": "display_data"
    }
   ],
   "source": [
    "problem.relax(preferred_diagnosis, 1) # hard relaxation-based approach\n",
    "display(problem.retrieve_items())"
   ]
  },
  {
   "cell_type": "markdown",
   "id": "568cdb67",
   "metadata": {
    "pycharm": {
     "name": "#%% md\n"
    }
   },
   "source": [
    "## 1.2 Case 2"
   ]
  },
  {
   "cell_type": "code",
   "execution_count": 9,
   "id": "d71209e3",
   "metadata": {
    "pycharm": {
     "name": "#%%\n"
    }
   },
   "outputs": [],
   "source": [
    "problem = Problem()\n",
    "problem.add_constraint_list([\n",
    "    Constraint(Attribute.RAM.value, 8, 7),\n",
    "    Constraint(Attribute.CPU.value, 'i5|ryzen 5', 7),\n",
    "    Constraint(Attribute.PRICE.value, 2500, 5),\n",
    "    Constraint(Attribute.OS.value, '11', 5),\n",
    "    Constraint(Attribute.GPU.value, 'gtx|rtx', 6),\n",
    "    Constraint(Attribute.SCREEN_SIZE.value, 16, 7)\n",
    "])"
   ]
  },
  {
   "cell_type": "code",
   "execution_count": 10,
   "id": "c9aac1ed",
   "metadata": {
    "pycharm": {
     "name": "#%%\n"
    }
   },
   "outputs": [
    {
     "name": "stdout",
     "output_type": "stream",
     "text": [
      "No items have been found\n"
     ]
    }
   ],
   "source": [
    "items = problem.retrieve_items()\n",
    "if items is None:\n",
    "    print('No items have been found')\n",
    "else:\n",
    "    display(items)"
   ]
  },
  {
   "cell_type": "code",
   "execution_count": 11,
   "id": "6f965dde",
   "metadata": {
    "pycharm": {
     "name": "#%%\n"
    }
   },
   "outputs": [],
   "source": [
    "preferred_diagnosis = search_preferred_diagnosis(\n",
    "    problem.constraint_list,\n",
    "    real_data_path\n",
    ")"
   ]
  },
  {
   "cell_type": "code",
   "execution_count": 12,
   "id": "aba3f866",
   "metadata": {
    "pycharm": {
     "name": "#%%\n"
    }
   },
   "outputs": [
    {
     "data": {
      "text/plain": [
       "[{'name': 'price',\n",
       "  'value': 2500,\n",
       "  'priority': 5,\n",
       "  'nature': <Nature.LESS: 'less'>}]"
      ]
     },
     "execution_count": 12,
     "metadata": {},
     "output_type": "execute_result"
    }
   ],
   "source": [
    "[c.__dict__ for c in preferred_diagnosis]"
   ]
  },
  {
   "cell_type": "markdown",
   "id": "6281083f",
   "metadata": {
    "pycharm": {
     "name": "#%% md\n"
    }
   },
   "source": [
    "### 1.2.1 Soft Relaxation-based Approach"
   ]
  },
  {
   "cell_type": "code",
   "execution_count": 13,
   "id": "e3fc5c43",
   "metadata": {
    "pycharm": {
     "name": "#%%\n"
    }
   },
   "outputs": [
    {
     "name": "stdout",
     "output_type": "stream",
     "text": [
      "No items have been found\n"
     ]
    }
   ],
   "source": [
    "problem.relax(preferred_diagnosis, 0)\n",
    "\n",
    "items = problem.retrieve_items()\n",
    "if items is None:\n",
    "    print('No items have been found')\n",
    "else:\n",
    "    display(items)"
   ]
  },
  {
   "cell_type": "markdown",
   "id": "0345fd37",
   "metadata": {
    "pycharm": {
     "name": "#%% md\n"
    }
   },
   "source": [
    "### 1.2.2 Hard Relaxation-based Approach"
   ]
  },
  {
   "cell_type": "code",
   "execution_count": 14,
   "id": "cdbfb7e1",
   "metadata": {
    "pycharm": {
     "name": "#%%\n"
    }
   },
   "outputs": [],
   "source": [
    "problem = Problem()\n",
    "problem.add_constraint_list([\n",
    "    Constraint(Attribute.RAM.value, 8, 7),\n",
    "    Constraint(Attribute.CPU.value, 'i5|ryzen 5', 7),\n",
    "    Constraint(Attribute.PRICE.value, 2500, 5),\n",
    "    Constraint(Attribute.OS.value, '11', 5),\n",
    "    Constraint(Attribute.GPU.value, 'gtx|rtx', 6),\n",
    "    Constraint(Attribute.SCREEN_SIZE.value, 16, 7)\n",
    "])\n",
    "preferred_diagnosis = search_preferred_diagnosis(problem.constraint_list, real_data_path)"
   ]
  },
  {
   "cell_type": "code",
   "execution_count": 15,
   "id": "a808658b",
   "metadata": {
    "pycharm": {
     "name": "#%%\n"
    }
   },
   "outputs": [
    {
     "data": {
      "text/html": [
       "<div>\n",
       "<style scoped>\n",
       "    .dataframe tbody tr th:only-of-type {\n",
       "        vertical-align: middle;\n",
       "    }\n",
       "\n",
       "    .dataframe tbody tr th {\n",
       "        vertical-align: top;\n",
       "    }\n",
       "\n",
       "    .dataframe thead th {\n",
       "        text-align: right;\n",
       "    }\n",
       "</style>\n",
       "<table border=\"1\" class=\"dataframe\">\n",
       "  <thead>\n",
       "    <tr style=\"text-align: right;\">\n",
       "      <th></th>\n",
       "      <th>brand</th>\n",
       "      <th>model</th>\n",
       "      <th>cpu</th>\n",
       "      <th>ram</th>\n",
       "      <th>storage</th>\n",
       "      <th>os</th>\n",
       "      <th>screen_size</th>\n",
       "      <th>gpu</th>\n",
       "      <th>camera</th>\n",
       "      <th>weight</th>\n",
       "      <th>price</th>\n",
       "    </tr>\n",
       "  </thead>\n",
       "  <tbody>\n",
       "    <tr>\n",
       "      <th>103</th>\n",
       "      <td>Acer</td>\n",
       "      <td>Nitro 5 (AN515-45-R7ND)</td>\n",
       "      <td>Ryzen 5 5600H</td>\n",
       "      <td>8</td>\n",
       "      <td>512</td>\n",
       "      <td>Windows 11 Home</td>\n",
       "      <td>15.6</td>\n",
       "      <td>NVIDIA GeForce GTX1650</td>\n",
       "      <td>HD</td>\n",
       "      <td>2.20</td>\n",
       "      <td>3699</td>\n",
       "    </tr>\n",
       "    <tr>\n",
       "      <th>80</th>\n",
       "      <td>Acer</td>\n",
       "      <td>Nitro 5 (AN515-57-536D)</td>\n",
       "      <td>Core i5-11400H</td>\n",
       "      <td>8</td>\n",
       "      <td>512</td>\n",
       "      <td>Windows 11 Home</td>\n",
       "      <td>15.6</td>\n",
       "      <td>NVIDIA GeForce RTX 3050</td>\n",
       "      <td>HD</td>\n",
       "      <td>2.20</td>\n",
       "      <td>4099</td>\n",
       "    </tr>\n",
       "    <tr>\n",
       "      <th>115</th>\n",
       "      <td>MSI</td>\n",
       "      <td>GF63 Thin 11UC-236</td>\n",
       "      <td>Core i5-11400H</td>\n",
       "      <td>8</td>\n",
       "      <td>512</td>\n",
       "      <td>Windows 11 Home</td>\n",
       "      <td>15.6</td>\n",
       "      <td>NVIDIA GeForce RTX 3050</td>\n",
       "      <td>HD</td>\n",
       "      <td>1.86</td>\n",
       "      <td>4299</td>\n",
       "    </tr>\n",
       "  </tbody>\n",
       "</table>\n",
       "</div>"
      ],
      "text/plain": [
       "    brand                    model             cpu  ram  storage  \\\n",
       "103  Acer  Nitro 5 (AN515-45-R7ND)   Ryzen 5 5600H    8      512   \n",
       "80   Acer  Nitro 5 (AN515-57-536D)  Core i5-11400H    8      512   \n",
       "115   MSI       GF63 Thin 11UC-236  Core i5-11400H    8      512   \n",
       "\n",
       "                  os  screen_size                      gpu camera  weight  \\\n",
       "103  Windows 11 Home         15.6   NVIDIA GeForce GTX1650     HD    2.20   \n",
       "80   Windows 11 Home         15.6  NVIDIA GeForce RTX 3050     HD    2.20   \n",
       "115  Windows 11 Home         15.6  NVIDIA GeForce RTX 3050     HD    1.86   \n",
       "\n",
       "     price  \n",
       "103   3699  \n",
       "80    4099  \n",
       "115   4299  "
      ]
     },
     "metadata": {},
     "output_type": "display_data"
    }
   ],
   "source": [
    "problem.relax(preferred_diagnosis, 1)\n",
    "\n",
    "items = problem.retrieve_items()\n",
    "if items is None:\n",
    "    print('No items have been found')\n",
    "else:\n",
    "    display(items)"
   ]
  },
  {
   "cell_type": "markdown",
   "id": "a14b7a87",
   "metadata": {
    "pycharm": {
     "name": "#%% md\n"
    }
   },
   "source": [
    "# Relaxation with Mixed Relaxation-based Approach"
   ]
  },
  {
   "cell_type": "code",
   "execution_count": 16,
   "id": "4f79c7d5",
   "metadata": {
    "pycharm": {
     "name": "#%%\n"
    }
   },
   "outputs": [],
   "source": [
    "problem = Problem()\n",
    "problem.add_constraint_list([\n",
    "    Constraint(Attribute.RAM.value, 16, 4),\n",
    "    Constraint(Attribute.PRICE.value, 3300, 9),\n",
    "    Constraint(Attribute.CPU.value, 'i3|i5', 5),\n",
    "    Constraint(Attribute.WEIGHT.value, 1.5, 2),\n",
    "    Constraint(Attribute.STORAGE.value, 1024, 6)\n",
    "])"
   ]
  },
  {
   "cell_type": "code",
   "execution_count": 17,
   "id": "4bfa61d6",
   "metadata": {
    "pycharm": {
     "name": "#%%\n"
    }
   },
   "outputs": [
    {
     "name": "stdout",
     "output_type": "stream",
     "text": [
      "No items have been found\n"
     ]
    }
   ],
   "source": [
    "items = problem.retrieve_items()\n",
    "if items is None:\n",
    "    print('No items have been found')\n",
    "else:\n",
    "    display(items)"
   ]
  },
  {
   "cell_type": "code",
   "execution_count": null,
   "outputs": [],
   "source": [
    "thresholds = [0, 0.5, 1]\n",
    "preferred_diagnosis = search_preferred_diagnosis(problem.constraint_list, real_data_path)\n",
    "print([c.__dict__ for c in preferred_diagnosis])\n",
    "for t in thresholds:\n",
    "    prob_copy = copy.deepcopy(problem)\n",
    "    prob_copy.relax(preferred_diagnosis, t)\n",
    "    \n",
    "    items = prob_copy.retrieve_items()\n",
    "    print(f'============= t = {t} =============')\n",
    "    if items is None:\n",
    "        print('No items have been found')\n",
    "    else:\n",
    "        display(items)\n",
    "    print('\\n')"
   ],
   "metadata": {
    "collapsed": false,
    "pycharm": {
     "name": "#%%\n"
    }
   }
  },
  {
   "cell_type": "code",
   "execution_count": null,
   "outputs": [],
   "source": [],
   "metadata": {
    "collapsed": false,
    "pycharm": {
     "name": "#%%\n"
    }
   }
  },
  {
   "cell_type": "code",
   "execution_count": null,
   "id": "55fcc34f",
   "metadata": {},
   "outputs": [],
   "source": []
  }
 ],
 "metadata": {
  "kernelspec": {
   "display_name": "Python 3 (ipykernel)",
   "language": "python",
   "name": "python3"
  },
  "language_info": {
   "codemirror_mode": {
    "name": "ipython",
    "version": 3
   },
   "file_extension": ".py",
   "mimetype": "text/x-python",
   "name": "python",
   "nbconvert_exporter": "python",
   "pygments_lexer": "ipython3",
   "version": "3.9.7"
  }
 },
 "nbformat": 4,
 "nbformat_minor": 5
}
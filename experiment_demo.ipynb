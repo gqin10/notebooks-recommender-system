{
 "cells": [
  {
   "cell_type": "markdown",
   "id": "c9016df1",
   "metadata": {},
   "source": [
    "# Relaxation with Soft Relaxation-based Approach and Hard Relaxation-based Approach"
   ]
  },
  {
   "cell_type": "code",
   "execution_count": 1,
   "id": "e74aaec2",
   "metadata": {},
   "outputs": [],
   "source": [
    "from Constraint import Constraint, Problem\n",
    "from Nature import Nature, attribute_nature\n",
    "from values import real_data_path, Attribute, simulated_data_path\n",
    "from constraint_relax import search_mfs\n",
    "import copy\n",
    "from IPython.display import display, HTML"
   ]
  },
  {
   "cell_type": "code",
   "execution_count": 2,
   "id": "995743e5",
   "metadata": {},
   "outputs": [],
   "source": [
    "problem = Problem()\n",
    "problem.add_constraint_list([\n",
    "    Constraint(Attribute.RAM.value, 8, 7),\n",
    "    Constraint(Attribute.CPU.value, 'i5|ryzen 5', 7),\n",
    "    Constraint(Attribute.PRICE.value, 2500, 5),\n",
    "    Constraint(Attribute.OS.value, '11', 5),\n",
    "    Constraint(Attribute.GPU.value, 'gtx|rtx', 6),\n",
    "    Constraint(Attribute.SCREEN_SIZE.value, 16, 7)\n",
    "])"
   ]
  },
  {
   "cell_type": "code",
   "execution_count": 3,
   "id": "1e469108",
   "metadata": {},
   "outputs": [
    {
     "name": "stdout",
     "output_type": "stream",
     "text": [
      "No items have been found\n"
     ]
    }
   ],
   "source": [
    "items = problem.retrieve_items()\n",
    "if items is None:\n",
    "    print('No items have been found')\n",
    "else:\n",
    "    display(items)"
   ]
  },
  {
   "cell_type": "code",
   "execution_count": 4,
   "id": "bc8afb88",
   "metadata": {},
   "outputs": [],
   "source": [
    "mfs = search_mfs(problem.constraint_list, real_data_path)"
   ]
  },
  {
   "cell_type": "code",
   "execution_count": 5,
   "id": "2e53a346",
   "metadata": {},
   "outputs": [
    {
     "data": {
      "text/plain": [
       "[{'name': 'price',\n",
       "  'value': 2500,\n",
       "  'priority': 5,\n",
       "  'nature': <Nature.LESS: 'less'>}]"
      ]
     },
     "execution_count": 5,
     "metadata": {},
     "output_type": "execute_result"
    }
   ],
   "source": [
    "[c.__dict__ for c in mfs]"
   ]
  },
  {
   "cell_type": "code",
   "execution_count": 6,
   "id": "e6c82d04",
   "metadata": {},
   "outputs": [],
   "source": [
    "problem.relax(mfs, 1)"
   ]
  },
  {
   "cell_type": "code",
   "execution_count": 7,
   "id": "590cfca4",
   "metadata": {},
   "outputs": [
    {
     "data": {
      "text/html": [
       "<div>\n",
       "<style scoped>\n",
       "    .dataframe tbody tr th:only-of-type {\n",
       "        vertical-align: middle;\n",
       "    }\n",
       "\n",
       "    .dataframe tbody tr th {\n",
       "        vertical-align: top;\n",
       "    }\n",
       "\n",
       "    .dataframe thead th {\n",
       "        text-align: right;\n",
       "    }\n",
       "</style>\n",
       "<table border=\"1\" class=\"dataframe\">\n",
       "  <thead>\n",
       "    <tr style=\"text-align: right;\">\n",
       "      <th></th>\n",
       "      <th>brand</th>\n",
       "      <th>model</th>\n",
       "      <th>cpu</th>\n",
       "      <th>ram</th>\n",
       "      <th>storage</th>\n",
       "      <th>os</th>\n",
       "      <th>screen_size</th>\n",
       "      <th>gpu</th>\n",
       "      <th>camera</th>\n",
       "      <th>weight</th>\n",
       "      <th>price</th>\n",
       "    </tr>\n",
       "  </thead>\n",
       "  <tbody>\n",
       "    <tr>\n",
       "      <th>80</th>\n",
       "      <td>Acer</td>\n",
       "      <td>Nitro 5 (AN515-57-536D)</td>\n",
       "      <td>Core i5-11400H</td>\n",
       "      <td>8</td>\n",
       "      <td>512</td>\n",
       "      <td>Windows 11 Home</td>\n",
       "      <td>15.6</td>\n",
       "      <td>NVIDIA GeForce RTX 3050</td>\n",
       "      <td>HD</td>\n",
       "      <td>2.20</td>\n",
       "      <td>4099</td>\n",
       "    </tr>\n",
       "    <tr>\n",
       "      <th>103</th>\n",
       "      <td>Acer</td>\n",
       "      <td>Nitro 5 (AN515-45-R7ND)</td>\n",
       "      <td>Ryzen 5 5600H</td>\n",
       "      <td>8</td>\n",
       "      <td>512</td>\n",
       "      <td>Windows 11 Home</td>\n",
       "      <td>15.6</td>\n",
       "      <td>NVIDIA GeForce GTX1650</td>\n",
       "      <td>HD</td>\n",
       "      <td>2.20</td>\n",
       "      <td>3699</td>\n",
       "    </tr>\n",
       "    <tr>\n",
       "      <th>115</th>\n",
       "      <td>MSI</td>\n",
       "      <td>GF63 Thin 11UC-236</td>\n",
       "      <td>Core i5-11400H</td>\n",
       "      <td>8</td>\n",
       "      <td>512</td>\n",
       "      <td>Windows 11 Home</td>\n",
       "      <td>15.6</td>\n",
       "      <td>NVIDIA GeForce RTX 3050</td>\n",
       "      <td>HD</td>\n",
       "      <td>1.86</td>\n",
       "      <td>4299</td>\n",
       "    </tr>\n",
       "  </tbody>\n",
       "</table>\n",
       "</div>"
      ],
      "text/plain": [
       "    brand                    model             cpu  ram  storage  \\\n",
       "80   Acer  Nitro 5 (AN515-57-536D)  Core i5-11400H    8      512   \n",
       "103  Acer  Nitro 5 (AN515-45-R7ND)   Ryzen 5 5600H    8      512   \n",
       "115   MSI       GF63 Thin 11UC-236  Core i5-11400H    8      512   \n",
       "\n",
       "                  os  screen_size                      gpu camera  weight  \\\n",
       "80   Windows 11 Home         15.6  NVIDIA GeForce RTX 3050     HD    2.20   \n",
       "103  Windows 11 Home         15.6   NVIDIA GeForce GTX1650     HD    2.20   \n",
       "115  Windows 11 Home         15.6  NVIDIA GeForce RTX 3050     HD    1.86   \n",
       "\n",
       "     price  \n",
       "80    4099  \n",
       "103   3699  \n",
       "115   4299  "
      ]
     },
     "metadata": {},
     "output_type": "display_data"
    }
   ],
   "source": [
    "items = problem.retrieve_items()\n",
    "if items is None:\n",
    "    print('No items have been found')\n",
    "else:\n",
    "    display(items)"
   ]
  },
  {
   "cell_type": "markdown",
   "id": "a14b7a87",
   "metadata": {},
   "source": [
    "# Relaxation with Mixed Relaxation-based Approach"
   ]
  },
  {
   "cell_type": "code",
   "execution_count": 8,
   "id": "4f79c7d5",
   "metadata": {},
   "outputs": [],
   "source": [
    "problem = Problem()\n",
    "problem.add_constraint_list([\n",
    "    Constraint(Attribute.RAM.value, 16, 4),\n",
    "    Constraint(Attribute.PRICE.value, 3300, 9),\n",
    "    Constraint(Attribute.CPU.value, 'i3|i5', 5),\n",
    "    Constraint(Attribute.WEIGHT.value, 1.5, 2),\n",
    "    Constraint(Attribute.STORAGE.value, 1024, 6)\n",
    "])"
   ]
  },
  {
   "cell_type": "code",
   "execution_count": 9,
   "id": "4bfa61d6",
   "metadata": {},
   "outputs": [
    {
     "name": "stdout",
     "output_type": "stream",
     "text": [
      "No items have been found\n"
     ]
    }
   ],
   "source": [
    "items = problem.retrieve_items()\n",
    "if items is None:\n",
    "    print('No items have been found')\n",
    "else:\n",
    "    display(items)"
   ]
  },
  {
   "cell_type": "code",
   "execution_count": 10,
   "id": "bd1fa84b",
   "metadata": {},
   "outputs": [
    {
     "name": "stdout",
     "output_type": "stream",
     "text": [
      "============= t = 0 =============\n",
      "No items have been found\n",
      "\n",
      "\n",
      "============= t = 0.5 =============\n"
     ]
    },
    {
     "data": {
      "text/html": [
       "<div>\n",
       "<style scoped>\n",
       "    .dataframe tbody tr th:only-of-type {\n",
       "        vertical-align: middle;\n",
       "    }\n",
       "\n",
       "    .dataframe tbody tr th {\n",
       "        vertical-align: top;\n",
       "    }\n",
       "\n",
       "    .dataframe thead th {\n",
       "        text-align: right;\n",
       "    }\n",
       "</style>\n",
       "<table border=\"1\" class=\"dataframe\">\n",
       "  <thead>\n",
       "    <tr style=\"text-align: right;\">\n",
       "      <th></th>\n",
       "      <th>brand</th>\n",
       "      <th>model</th>\n",
       "      <th>cpu</th>\n",
       "      <th>ram</th>\n",
       "      <th>storage</th>\n",
       "      <th>os</th>\n",
       "      <th>screen_size</th>\n",
       "      <th>gpu</th>\n",
       "      <th>camera</th>\n",
       "      <th>weight</th>\n",
       "      <th>price</th>\n",
       "    </tr>\n",
       "  </thead>\n",
       "  <tbody>\n",
       "    <tr>\n",
       "      <th>35</th>\n",
       "      <td>Lenovo</td>\n",
       "      <td>Ideapad 3 (81WD00N1MJ)</td>\n",
       "      <td>Core i3-1115G4</td>\n",
       "      <td>8</td>\n",
       "      <td>512</td>\n",
       "      <td>Windows 10 Home</td>\n",
       "      <td>14.0</td>\n",
       "      <td>Intel UHD Graphics Xe G4 48EUs</td>\n",
       "      <td>720p with Privacy Shutter</td>\n",
       "      <td>1.41</td>\n",
       "      <td>2197</td>\n",
       "    </tr>\n",
       "  </tbody>\n",
       "</table>\n",
       "</div>"
      ],
      "text/plain": [
       "     brand                   model             cpu  ram  storage  \\\n",
       "35  Lenovo  Ideapad 3 (81WD00N1MJ)  Core i3-1115G4    8      512   \n",
       "\n",
       "                 os  screen_size                             gpu  \\\n",
       "35  Windows 10 Home         14.0  Intel UHD Graphics Xe G4 48EUs   \n",
       "\n",
       "                       camera  weight  price  \n",
       "35  720p with Privacy Shutter    1.41   2197  "
      ]
     },
     "metadata": {},
     "output_type": "display_data"
    },
    {
     "name": "stdout",
     "output_type": "stream",
     "text": [
      "\n",
      "\n",
      "============= t = 1 =============\n"
     ]
    },
    {
     "data": {
      "text/html": [
       "<div>\n",
       "<style scoped>\n",
       "    .dataframe tbody tr th:only-of-type {\n",
       "        vertical-align: middle;\n",
       "    }\n",
       "\n",
       "    .dataframe tbody tr th {\n",
       "        vertical-align: top;\n",
       "    }\n",
       "\n",
       "    .dataframe thead th {\n",
       "        text-align: right;\n",
       "    }\n",
       "</style>\n",
       "<table border=\"1\" class=\"dataframe\">\n",
       "  <thead>\n",
       "    <tr style=\"text-align: right;\">\n",
       "      <th></th>\n",
       "      <th>brand</th>\n",
       "      <th>model</th>\n",
       "      <th>cpu</th>\n",
       "      <th>ram</th>\n",
       "      <th>storage</th>\n",
       "      <th>os</th>\n",
       "      <th>screen_size</th>\n",
       "      <th>gpu</th>\n",
       "      <th>camera</th>\n",
       "      <th>weight</th>\n",
       "      <th>price</th>\n",
       "    </tr>\n",
       "  </thead>\n",
       "  <tbody>\n",
       "    <tr>\n",
       "      <th>35</th>\n",
       "      <td>Lenovo</td>\n",
       "      <td>Ideapad 3 (81WD00N1MJ)</td>\n",
       "      <td>Core i3-1115G4</td>\n",
       "      <td>8</td>\n",
       "      <td>512</td>\n",
       "      <td>Windows 10 Home</td>\n",
       "      <td>14.0</td>\n",
       "      <td>Intel UHD Graphics Xe G4 48EUs</td>\n",
       "      <td>720p with Privacy Shutter</td>\n",
       "      <td>1.41</td>\n",
       "      <td>2197</td>\n",
       "    </tr>\n",
       "    <tr>\n",
       "      <th>66</th>\n",
       "      <td>MSI</td>\n",
       "      <td>Modern 14 B11MOU-870</td>\n",
       "      <td>Core i3-1115G4</td>\n",
       "      <td>4</td>\n",
       "      <td>512</td>\n",
       "      <td>Windows 11 Home</td>\n",
       "      <td>14.0</td>\n",
       "      <td>Intel UHD Graphics Xe G4 48EUs</td>\n",
       "      <td>HD type (30fps @ 720p)</td>\n",
       "      <td>1.30</td>\n",
       "      <td>2497</td>\n",
       "    </tr>\n",
       "    <tr>\n",
       "      <th>69</th>\n",
       "      <td>Lenovo</td>\n",
       "      <td>IdeaPad 3 (82H700D9MJ</td>\n",
       "      <td>Core i3-1115G4</td>\n",
       "      <td>4</td>\n",
       "      <td>512</td>\n",
       "      <td>Windows 10 Home</td>\n",
       "      <td>14.0</td>\n",
       "      <td>Intel UHD Graphics Xe G4 48EUs</td>\n",
       "      <td>720p with Privacy Shutter</td>\n",
       "      <td>1.41</td>\n",
       "      <td>2299</td>\n",
       "    </tr>\n",
       "    <tr>\n",
       "      <th>122</th>\n",
       "      <td>Lenovo</td>\n",
       "      <td>IdeaPad 3 (82H700D8MJ)</td>\n",
       "      <td>Core i3-1115G4</td>\n",
       "      <td>4</td>\n",
       "      <td>512</td>\n",
       "      <td>Windows 10 Home</td>\n",
       "      <td>14.0</td>\n",
       "      <td>Intel UHD Graphics Xe G4 48EUs</td>\n",
       "      <td>720p, with privacy shutter, fixed focus</td>\n",
       "      <td>1.41</td>\n",
       "      <td>2499</td>\n",
       "    </tr>\n",
       "  </tbody>\n",
       "</table>\n",
       "</div>"
      ],
      "text/plain": [
       "      brand                   model             cpu  ram  storage  \\\n",
       "35   Lenovo  Ideapad 3 (81WD00N1MJ)  Core i3-1115G4    8      512   \n",
       "66      MSI    Modern 14 B11MOU-870  Core i3-1115G4    4      512   \n",
       "69   Lenovo   IdeaPad 3 (82H700D9MJ  Core i3-1115G4    4      512   \n",
       "122  Lenovo  IdeaPad 3 (82H700D8MJ)  Core i3-1115G4    4      512   \n",
       "\n",
       "                  os  screen_size                             gpu  \\\n",
       "35   Windows 10 Home         14.0  Intel UHD Graphics Xe G4 48EUs   \n",
       "66   Windows 11 Home         14.0  Intel UHD Graphics Xe G4 48EUs   \n",
       "69   Windows 10 Home         14.0  Intel UHD Graphics Xe G4 48EUs   \n",
       "122  Windows 10 Home         14.0  Intel UHD Graphics Xe G4 48EUs   \n",
       "\n",
       "                                      camera  weight  price  \n",
       "35                 720p with Privacy Shutter    1.41   2197  \n",
       "66                    HD type (30fps @ 720p)    1.30   2497  \n",
       "69                 720p with Privacy Shutter    1.41   2299  \n",
       "122  720p, with privacy shutter, fixed focus    1.41   2499  "
      ]
     },
     "metadata": {},
     "output_type": "display_data"
    },
    {
     "name": "stdout",
     "output_type": "stream",
     "text": [
      "\n",
      "\n"
     ]
    }
   ],
   "source": [
    "thresholds = [0, 0.5, 1]\n",
    "mfs = search_mfs(problem.constraint_list, real_data_path)\n",
    "for t in thresholds:\n",
    "    prob_copy = copy.deepcopy(problem)\n",
    "    prob_copy.relax(mfs, t)\n",
    "    \n",
    "    items = prob_copy.retrieve_items()\n",
    "    print(f'============= t = {t} =============')\n",
    "    if items is None:\n",
    "        print('No items have been found')\n",
    "    else:\n",
    "        display(items)\n",
    "    print('\\n')"
   ]
  },
  {
   "cell_type": "code",
   "execution_count": null,
   "id": "1cea6ac1",
   "metadata": {},
   "outputs": [],
   "source": []
  }
 ],
 "metadata": {
  "kernelspec": {
   "display_name": "Python 3 (ipykernel)",
   "language": "python",
   "name": "python3"
  },
  "language_info": {
   "codemirror_mode": {
    "name": "ipython",
    "version": 3
   },
   "file_extension": ".py",
   "mimetype": "text/x-python",
   "name": "python",
   "nbconvert_exporter": "python",
   "pygments_lexer": "ipython3",
   "version": "3.9.7"
  }
 },
 "nbformat": 4,
 "nbformat_minor": 5
}
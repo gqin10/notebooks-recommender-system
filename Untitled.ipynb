{
 "cells": [
  {
   "cell_type": "code",
   "execution_count": 1,
   "id": "b7af7aaa",
   "metadata": {},
   "outputs": [],
   "source": [
    "from Constraint import Constraint, Problem\n",
    "from Nature import Nature, attribute_nature\n",
    "from values import real_data_path, Attribute\n",
    "from constraint_relax import search_mfs\n",
    "import copy"
   ]
  },
  {
   "cell_type": "code",
   "execution_count": 2,
   "id": "11ba594d",
   "metadata": {},
   "outputs": [],
   "source": [
    "problem = Problem(real_data_path)\n",
    "problem.add_constraint_list([\n",
    "    Constraint(Attribute.BRAND.value, 'microsoft|hp', 2),\n",
    "    Constraint(Attribute.RAM.value, 8, 7),\n",
    "    Constraint(Attribute.CAMERA.value, True, 3),\n",
    "    Constraint(Attribute.CPU.value, 'i5|ryzen 5', 7),\n",
    "    Constraint(Attribute.STORAGE.value, 512, 8),\n",
    "    Constraint(Attribute.GPU.value, 'mx|rtx|gtx', 5),\n",
    "    Constraint(Attribute.WEIGHT.value, 1.2, 3)\n",
    "])\n",
    "solution = problem.solve()"
   ]
  },
  {
   "cell_type": "code",
   "execution_count": 3,
   "id": "5c43b293",
   "metadata": {},
   "outputs": [
    {
     "name": "stdout",
     "output_type": "stream",
     "text": [
      "No item has been found\n"
     ]
    }
   ],
   "source": [
    "if solution is None:\n",
    "    print('No item has been found')\n",
    "else:\n",
    "    solution"
   ]
  },
  {
   "cell_type": "code",
   "execution_count": 4,
   "id": "6ff50a8f",
   "metadata": {},
   "outputs": [],
   "source": [
    "mfs = search_mfs(problem.constraint_list, copy.copy(problem.constraint_list), real_data_path)"
   ]
  },
  {
   "cell_type": "code",
   "execution_count": 5,
   "id": "8263d3ac",
   "metadata": {},
   "outputs": [
    {
     "data": {
      "text/plain": [
       "[{'name': 'brand',\n",
       "  'value': 'microsoft|hp',\n",
       "  'priority': 2,\n",
       "  'nature': <Nature.EQUAL: 'equal'>}]"
      ]
     },
     "execution_count": 5,
     "metadata": {},
     "output_type": "execute_result"
    }
   ],
   "source": [
    "[c.__dict__ for c in mfs]"
   ]
  },
  {
   "cell_type": "code",
   "execution_count": 6,
   "id": "55f52dee",
   "metadata": {},
   "outputs": [],
   "source": [
    "problem.relax(mfs, 0.5)"
   ]
  },
  {
   "cell_type": "code",
   "execution_count": 7,
   "id": "f8bfeec4",
   "metadata": {},
   "outputs": [
    {
     "data": {
      "text/html": [
       "<div>\n",
       "<style scoped>\n",
       "    .dataframe tbody tr th:only-of-type {\n",
       "        vertical-align: middle;\n",
       "    }\n",
       "\n",
       "    .dataframe tbody tr th {\n",
       "        vertical-align: top;\n",
       "    }\n",
       "\n",
       "    .dataframe thead th {\n",
       "        text-align: right;\n",
       "    }\n",
       "</style>\n",
       "<table border=\"1\" class=\"dataframe\">\n",
       "  <thead>\n",
       "    <tr style=\"text-align: right;\">\n",
       "      <th></th>\n",
       "      <th>brand</th>\n",
       "      <th>model</th>\n",
       "      <th>cpu</th>\n",
       "      <th>ram</th>\n",
       "      <th>storage</th>\n",
       "      <th>os</th>\n",
       "      <th>screen_size</th>\n",
       "      <th>gpu</th>\n",
       "      <th>camera</th>\n",
       "      <th>weight</th>\n",
       "      <th>price</th>\n",
       "      <th>cpu_average</th>\n",
       "      <th>gpu_average</th>\n",
       "      <th>similarity</th>\n",
       "    </tr>\n",
       "  </thead>\n",
       "  <tbody>\n",
       "    <tr>\n",
       "      <th>23</th>\n",
       "      <td>Acer</td>\n",
       "      <td>Swift 5 (SF514-54GT-53FE)</td>\n",
       "      <td>Core i5-1035G1</td>\n",
       "      <td>8</td>\n",
       "      <td>512</td>\n",
       "      <td>Windows 10 Home</td>\n",
       "      <td>14.0</td>\n",
       "      <td>NVIDIA GeForce MX350</td>\n",
       "      <td>HD</td>\n",
       "      <td>0.99</td>\n",
       "      <td>3997</td>\n",
       "      <td>0.333079</td>\n",
       "      <td>0.189936</td>\n",
       "      <td>0.42896</td>\n",
       "    </tr>\n",
       "  </tbody>\n",
       "</table>\n",
       "</div>"
      ],
      "text/plain": [
       "   brand                      model             cpu  ram  storage  \\\n",
       "23  Acer  Swift 5 (SF514-54GT-53FE)  Core i5-1035G1    8      512   \n",
       "\n",
       "                 os  screen_size                   gpu camera  weight  price  \\\n",
       "23  Windows 10 Home         14.0  NVIDIA GeForce MX350     HD    0.99   3997   \n",
       "\n",
       "    cpu_average  gpu_average  similarity  \n",
       "23     0.333079     0.189936     0.42896  "
      ]
     },
     "execution_count": 7,
     "metadata": {},
     "output_type": "execute_result"
    }
   ],
   "source": [
    "problem.solve()"
   ]
  },
  {
   "cell_type": "code",
   "execution_count": null,
   "id": "e7534bf9",
   "metadata": {},
   "outputs": [],
   "source": []
  }
 ],
 "metadata": {
  "kernelspec": {
   "display_name": "Python 3 (ipykernel)",
   "language": "python",
   "name": "python3"
  },
  "language_info": {
   "codemirror_mode": {
    "name": "ipython",
    "version": 3
   },
   "file_extension": ".py",
   "mimetype": "text/x-python",
   "name": "python",
   "nbconvert_exporter": "python",
   "pygments_lexer": "ipython3",
   "version": "3.9.7"
  }
 },
 "nbformat": 4,
 "nbformat_minor": 5
}

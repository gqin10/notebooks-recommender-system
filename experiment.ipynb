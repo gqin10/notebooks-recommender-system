{
 "cells": [
  {
   "cell_type": "code",
   "execution_count": 1,
   "outputs": [],
   "source": [
    "import pandas as pd\n",
    "from Constraint import Problem, Constraint\n",
    "from Nature import attribute_nature\n",
    "import copy\n",
    "from constraint_relax import search_mfs\n",
    "from item_extrator import data_path, dummy_data_path\n",
    "from similarity_calculator import compute_similarity"
   ],
   "metadata": {
    "collapsed": false,
    "pycharm": {
     "name": "#%%\n"
    }
   }
  },
  {
   "cell_type": "code",
   "execution_count": 2,
   "outputs": [],
   "source": [
    "experiment_constraint_data = pd.read_csv('./experiment_constraint_data.csv')"
   ],
   "metadata": {
    "collapsed": false,
    "pycharm": {
     "name": "#%%\n"
    }
   }
  },
  {
   "cell_type": "code",
   "execution_count": 3,
   "outputs": [],
   "source": [
    "# read experiment constraints data\n",
    "problem_list = list()\n",
    "unique_constraint_no = experiment_constraint_data['constraint_no'].unique()\n",
    "for no in unique_constraint_no:\n",
    "    problem: Problem = Problem()\n",
    "    constraint_list = list()\n",
    "    for index, item in experiment_constraint_data[experiment_constraint_data['constraint_no'] == no].iterrows():\n",
    "        constraint = None\n",
    "        if item.get('name') in ['brand', 'cpu','gpu','os']:\n",
    "            constraint: Constraint = Constraint(item.get('name'), item.get('value'), item.get('priority'),\n",
    "                                                attribute_nature.get(item.get('name')))\n",
    "        elif item.get('name') in ['storage', 'ram','price','weight']:\n",
    "            constraint: Constraint = Constraint(item.get('name'), float(item.get('value')), item.get('priority'),\n",
    "                                                attribute_nature.get(item.get('name')))\n",
    "        elif item.get('name') in ['camera']:\n",
    "            constraint: Constraint = Constraint(item.get('name'), bool(item.get('value')), item.get('priority'),\n",
    "                                                attribute_nature.get(item.get('name')))\n",
    "        if constraint != None:\n",
    "            constraint_list.append(constraint)\n",
    "    cl_set = set(constraint_list)\n",
    "    problem.constraint_list = set(constraint_list)\n",
    "    problem_list.append(problem)"
   ],
   "metadata": {
    "collapsed": false,
    "pycharm": {
     "name": "#%%\n"
    }
   }
  },
  {
   "cell_type": "code",
   "execution_count": 4,
   "outputs": [],
   "source": [
    "def get_df_len(df):\n",
    "    if df is None:\n",
    "        return 0\n",
    "    return (df.shape)[0]\n",
    "\n",
    "sol_list = []\n",
    "threshold_list = [0, 0.5, 1]\n",
    "for problem in problem_list:\n",
    "    prob_sol_list = []\n",
    "    p1 = copy.deepcopy(problem) # original constraint\n",
    "    prob_sol_list.append(p1.constraint_list)\n",
    "    prob_sol_list.append(get_df_len(p1.solve()))\n",
    "\n",
    "    for threshold in threshold_list:\n",
    "        p = copy.deepcopy(problem)\n",
    "        mfs = search_mfs(p.constraint_list, copy.copy(p.constraint_list), dummy_data_path)\n",
    "        p.relax(mfs, threshold)\n",
    "        prob_sol_list.append(p.constraint_list)\n",
    "        prob_items = p.solve()\n",
    "        prob_sol_list.append(get_df_len(prob_items))\n",
    "        if not prob_items is None:\n",
    "            prob_sol_list.append((compute_similarity(p.constraint_list, prob_items))['similarity'].mean())\n",
    "        else:\n",
    "            prob_sol_list.append(0)\n",
    "    sol_list.append(prob_sol_list)\n",
    "result = pd.DataFrame(sol_list)"
   ],
   "metadata": {
    "collapsed": false,
    "pycharm": {
     "name": "#%%\n"
    }
   }
  },
  {
   "cell_type": "code",
   "execution_count": 5,
   "outputs": [
    {
     "data": {
      "text/plain": "                                                    0   1   \\\n0    {price: 2699.0: 10: Nature.LESS, camera: True:...  14   \n1    {weight: 2.0: 9: Nature.LESS, brand: asus|dell...   0   \n2    {ram: 16.0: 9: Nature.MORE, storage: 128.0: 3:...   0   \n3    {camera: True: 9: Nature.EQUAL, storage: 1024....   0   \n4    {cpu: ryzen 5|i7: 4: Nature.EQUAL, ram: 16.0: ...   5   \n..                                                 ...  ..   \n495  {brand: msi|acer|hp|huawei: 1: Nature.EQUAL, s...   0   \n496  {ram: 4.0: 2: Nature.MORE, storage: 1024.0: 4:...   3   \n497  {weight: 1.44: 1: Nature.LESS, os: 11: 2: Natu...   9   \n498  {cpu: i5|ryzen 3: 2: Nature.EQUAL, brand: leno...   0   \n499  {brand: microsoft|huawei|asus|acer: 7: Nature....   0   \n\n                                                    2   3         4   \\\n0    {price: 2699.0: 10: Nature.LESS, os: 10: 4: Na...  15  0.720075   \n1    {os: os: 8: Nature.EQUAL, weight: 2.0: 9: Natu...   0  0.000000   \n2    {ram: 16.0: 9: Nature.MORE, weight: 1.44: 9: N...   0  0.000000   \n3    {storage: 1024.0: 7: Nature.MORE, camera: True...   0  0.000000   \n4    {os: 11: 4: Nature.EQUAL, cpu: ryzen 5|i7: 4: ...   6  0.639378   \n..                                                 ...  ..       ...   \n495  {price: 4097.0: 3: Nature.LESS, os: os: 9: Nat...   0  0.000000   \n496  {weight: 1.47: 7: Nature.LESS, ram: 2: 2: Natu...   3  0.676014   \n497  {camera: : 1: Nature.EQUAL, storage: 256.0: 6:...  10  0.407405   \n498  {storage: 1024.0: 5: Nature.MORE, cpu: ryzen 5...   0  0.000000   \n499  {brand: microsoft|huawei|asus|acer: 7: Nature....   0  0.000000   \n\n                                                    5   6         7   \\\n0    {price: 2699.0: 10: Nature.LESS, camera: : 1: ...  15  0.720075   \n1    {price: 3821.04: 6: Nature.LESS, brand: asus|d...   0  0.000000   \n2    {os: 11: 4: Nature.EQUAL, ram: 16.0: 9: Nature...   0  0.000000   \n3    {brand: : 2: Nature.EQUAL, storage: 1024.0: 7:...   0  0.000000   \n4    {ram: 16.0: 7: Nature.MORE, cpu: ryzen 5|i7: 4...   6  0.624030   \n..                                                 ...  ..       ...   \n495  {ram: 4.0: 6: Nature.MORE, brand: : 1: Nature....   0  0.000000   \n496  {weight: 1.47: 7: Nature.LESS, ram: : 2: Natur...   3  0.687003   \n497  {os: 11: 2: Nature.EQUAL, camera: : 1: Nature....  10  0.407405   \n498  {brand: lenovo|huawei: 8: Nature.EQUAL, cpu: :...   1  0.920000   \n499  {os: 10: 3: Nature.EQUAL, ram: : 2: Nature.MOR...   0  0.000000   \n\n                                                    8   9         10  \n0    {os: 10: 4: Nature.EQUAL, price: 2699.0: 10: N...  15  0.720075  \n1    {weight: 2.0: 9: Nature.LESS, os: os: 8: Natur...   0  0.000000  \n2    {weight: 1.44: 9: Nature.LESS, ram: 16.0: 9: N...   0  0.000000  \n3    {storage: 1024.0: 7: Nature.MORE, price: 4997....   0  0.000000  \n4    {cpu: ryzen 5|i7: 4: Nature.EQUAL, ram: 16.0: ...   6  0.624030  \n..                                                 ...  ..       ...  \n495  {brand: : 1: Nature.EQUAL, price: 4097.0: 3: N...   0  0.000000  \n496  {storage: 1024.0: 4: Nature.MORE, ram: : 2: Na...   3  0.687003  \n497  {os: 11: 2: Nature.EQUAL, weight: : 1: Nature....  30  0.435484  \n498  {brand: lenovo|huawei: 8: Nature.EQUAL, os: 10...   1  0.920000  \n499  {storage: 1024.0: 3: Nature.MORE, camera: True...   0  0.000000  \n\n[500 rows x 11 columns]",
      "text/html": "<div>\n<style scoped>\n    .dataframe tbody tr th:only-of-type {\n        vertical-align: middle;\n    }\n\n    .dataframe tbody tr th {\n        vertical-align: top;\n    }\n\n    .dataframe thead th {\n        text-align: right;\n    }\n</style>\n<table border=\"1\" class=\"dataframe\">\n  <thead>\n    <tr style=\"text-align: right;\">\n      <th></th>\n      <th>0</th>\n      <th>1</th>\n      <th>2</th>\n      <th>3</th>\n      <th>4</th>\n      <th>5</th>\n      <th>6</th>\n      <th>7</th>\n      <th>8</th>\n      <th>9</th>\n      <th>10</th>\n    </tr>\n  </thead>\n  <tbody>\n    <tr>\n      <th>0</th>\n      <td>{price: 2699.0: 10: Nature.LESS, camera: True:...</td>\n      <td>14</td>\n      <td>{price: 2699.0: 10: Nature.LESS, os: 10: 4: Na...</td>\n      <td>15</td>\n      <td>0.720075</td>\n      <td>{price: 2699.0: 10: Nature.LESS, camera: : 1: ...</td>\n      <td>15</td>\n      <td>0.720075</td>\n      <td>{os: 10: 4: Nature.EQUAL, price: 2699.0: 10: N...</td>\n      <td>15</td>\n      <td>0.720075</td>\n    </tr>\n    <tr>\n      <th>1</th>\n      <td>{weight: 2.0: 9: Nature.LESS, brand: asus|dell...</td>\n      <td>0</td>\n      <td>{os: os: 8: Nature.EQUAL, weight: 2.0: 9: Natu...</td>\n      <td>0</td>\n      <td>0.000000</td>\n      <td>{price: 3821.04: 6: Nature.LESS, brand: asus|d...</td>\n      <td>0</td>\n      <td>0.000000</td>\n      <td>{weight: 2.0: 9: Nature.LESS, os: os: 8: Natur...</td>\n      <td>0</td>\n      <td>0.000000</td>\n    </tr>\n    <tr>\n      <th>2</th>\n      <td>{ram: 16.0: 9: Nature.MORE, storage: 128.0: 3:...</td>\n      <td>0</td>\n      <td>{ram: 16.0: 9: Nature.MORE, weight: 1.44: 9: N...</td>\n      <td>0</td>\n      <td>0.000000</td>\n      <td>{os: 11: 4: Nature.EQUAL, ram: 16.0: 9: Nature...</td>\n      <td>0</td>\n      <td>0.000000</td>\n      <td>{weight: 1.44: 9: Nature.LESS, ram: 16.0: 9: N...</td>\n      <td>0</td>\n      <td>0.000000</td>\n    </tr>\n    <tr>\n      <th>3</th>\n      <td>{camera: True: 9: Nature.EQUAL, storage: 1024....</td>\n      <td>0</td>\n      <td>{storage: 1024.0: 7: Nature.MORE, camera: True...</td>\n      <td>0</td>\n      <td>0.000000</td>\n      <td>{brand: : 2: Nature.EQUAL, storage: 1024.0: 7:...</td>\n      <td>0</td>\n      <td>0.000000</td>\n      <td>{storage: 1024.0: 7: Nature.MORE, price: 4997....</td>\n      <td>0</td>\n      <td>0.000000</td>\n    </tr>\n    <tr>\n      <th>4</th>\n      <td>{cpu: ryzen 5|i7: 4: Nature.EQUAL, ram: 16.0: ...</td>\n      <td>5</td>\n      <td>{os: 11: 4: Nature.EQUAL, cpu: ryzen 5|i7: 4: ...</td>\n      <td>6</td>\n      <td>0.639378</td>\n      <td>{ram: 16.0: 7: Nature.MORE, cpu: ryzen 5|i7: 4...</td>\n      <td>6</td>\n      <td>0.624030</td>\n      <td>{cpu: ryzen 5|i7: 4: Nature.EQUAL, ram: 16.0: ...</td>\n      <td>6</td>\n      <td>0.624030</td>\n    </tr>\n    <tr>\n      <th>...</th>\n      <td>...</td>\n      <td>...</td>\n      <td>...</td>\n      <td>...</td>\n      <td>...</td>\n      <td>...</td>\n      <td>...</td>\n      <td>...</td>\n      <td>...</td>\n      <td>...</td>\n      <td>...</td>\n    </tr>\n    <tr>\n      <th>495</th>\n      <td>{brand: msi|acer|hp|huawei: 1: Nature.EQUAL, s...</td>\n      <td>0</td>\n      <td>{price: 4097.0: 3: Nature.LESS, os: os: 9: Nat...</td>\n      <td>0</td>\n      <td>0.000000</td>\n      <td>{ram: 4.0: 6: Nature.MORE, brand: : 1: Nature....</td>\n      <td>0</td>\n      <td>0.000000</td>\n      <td>{brand: : 1: Nature.EQUAL, price: 4097.0: 3: N...</td>\n      <td>0</td>\n      <td>0.000000</td>\n    </tr>\n    <tr>\n      <th>496</th>\n      <td>{ram: 4.0: 2: Nature.MORE, storage: 1024.0: 4:...</td>\n      <td>3</td>\n      <td>{weight: 1.47: 7: Nature.LESS, ram: 2: 2: Natu...</td>\n      <td>3</td>\n      <td>0.676014</td>\n      <td>{weight: 1.47: 7: Nature.LESS, ram: : 2: Natur...</td>\n      <td>3</td>\n      <td>0.687003</td>\n      <td>{storage: 1024.0: 4: Nature.MORE, ram: : 2: Na...</td>\n      <td>3</td>\n      <td>0.687003</td>\n    </tr>\n    <tr>\n      <th>497</th>\n      <td>{weight: 1.44: 1: Nature.LESS, os: 11: 2: Natu...</td>\n      <td>9</td>\n      <td>{camera: : 1: Nature.EQUAL, storage: 256.0: 6:...</td>\n      <td>10</td>\n      <td>0.407405</td>\n      <td>{os: 11: 2: Nature.EQUAL, camera: : 1: Nature....</td>\n      <td>10</td>\n      <td>0.407405</td>\n      <td>{os: 11: 2: Nature.EQUAL, weight: : 1: Nature....</td>\n      <td>30</td>\n      <td>0.435484</td>\n    </tr>\n    <tr>\n      <th>498</th>\n      <td>{cpu: i5|ryzen 3: 2: Nature.EQUAL, brand: leno...</td>\n      <td>0</td>\n      <td>{storage: 1024.0: 5: Nature.MORE, cpu: ryzen 5...</td>\n      <td>0</td>\n      <td>0.000000</td>\n      <td>{brand: lenovo|huawei: 8: Nature.EQUAL, cpu: :...</td>\n      <td>1</td>\n      <td>0.920000</td>\n      <td>{brand: lenovo|huawei: 8: Nature.EQUAL, os: 10...</td>\n      <td>1</td>\n      <td>0.920000</td>\n    </tr>\n    <tr>\n      <th>499</th>\n      <td>{brand: microsoft|huawei|asus|acer: 7: Nature....</td>\n      <td>0</td>\n      <td>{brand: microsoft|huawei|asus|acer: 7: Nature....</td>\n      <td>0</td>\n      <td>0.000000</td>\n      <td>{os: 10: 3: Nature.EQUAL, ram: : 2: Nature.MOR...</td>\n      <td>0</td>\n      <td>0.000000</td>\n      <td>{storage: 1024.0: 3: Nature.MORE, camera: True...</td>\n      <td>0</td>\n      <td>0.000000</td>\n    </tr>\n  </tbody>\n</table>\n<p>500 rows × 11 columns</p>\n</div>"
     },
     "execution_count": 5,
     "metadata": {},
     "output_type": "execute_result"
    }
   ],
   "source": [
    "result"
   ],
   "metadata": {
    "collapsed": false,
    "pycharm": {
     "name": "#%%\n"
    }
   }
  },
  {
   "cell_type": "code",
   "execution_count": 6,
   "outputs": [
    {
     "data": {
      "text/plain": "True     285\nFalse    215\nName: 1, dtype: int64"
     },
     "execution_count": 6,
     "metadata": {},
     "output_type": "execute_result"
    }
   ],
   "source": [
    "pd.value_counts(result.iloc[:, 1] == 0)"
   ],
   "metadata": {
    "collapsed": false,
    "pycharm": {
     "name": "#%%\n"
    }
   }
  },
  {
   "cell_type": "code",
   "execution_count": 7,
   "outputs": [
    {
     "name": "stdout",
     "output_type": "stream",
     "text": [
      "True     475\n",
      "False     25\n",
      "dtype: int64\n"
     ]
    }
   ],
   "source": [
    "valid = ((result.iloc[:, 1] <= result.iloc[:, 3]) & (result.iloc[:, 3] <= result.iloc[:, 6]) & (result.iloc[:, 6] <= result.iloc[:, 9]))\n",
    "valid_count = pd.value_counts(valid)\n",
    "print(valid_count)"
   ],
   "metadata": {
    "collapsed": false,
    "pycharm": {
     "name": "#%%\n"
    }
   }
  },
  {
   "cell_type": "code",
   "execution_count": 8,
   "outputs": [
    {
     "name": "stdout",
     "output_type": "stream",
     "text": [
      "False    496\n",
      "True       4\n",
      "dtype: int64\n"
     ]
    }
   ],
   "source": [
    "valid = ((result.iloc[:, 1] < result.iloc[:, 3]) & (result.iloc[:, 3] < result.iloc[:, 6]) & (result.iloc[:, 6] < result.iloc[:, 9]))\n",
    "valid_count = pd.value_counts(valid)\n",
    "print(valid_count)"
   ],
   "metadata": {
    "collapsed": false,
    "pycharm": {
     "name": "#%%\n"
    }
   }
  },
  {
   "cell_type": "code",
   "execution_count": 9,
   "outputs": [
    {
     "data": {
      "text/plain": "                                                    0   1   \\\n109  {cpu: i3|ryzen 3: 2: Nature.EQUAL, camera: Tru...   2   \n229  {camera: True: 3: Nature.EQUAL, price: 4706.33...  12   \n387  {weight: 1.47: 5: Nature.LESS, ram: 16.0: 6: N...   6   \n414  {price: 3552.92: 9: Nature.LESS, camera: True:...  41   \n\n                                                    2   3         4   \\\n109  {brand: hp|acer: 8: Nature.EQUAL, weight: 1.70...   3  0.825744   \n229  {camera: True: 3: Nature.EQUAL, storage: 512.0...  14  0.658962   \n387  {weight: 1.5715: 5: Nature.LESS, ram: 16.0: 6:...   8  0.677725   \n414  {price: 3552.92: 9: Nature.LESS, camera: : 5: ...  45  0.626865   \n\n                                                    5   6         7   \\\n109  {weight: : 2: Nature.LESS, ram: 8.0: 4: Nature...   4  0.791349   \n229  {camera: True: 3: Nature.EQUAL, weight: 2.47: ...  16  0.633422   \n387  {brand: : 5: Nature.EQUAL, weight: 1.47: 5: Na...  13  0.380850   \n414  {price: 3552.92: 9: Nature.LESS, os: 10|11|os:...  54  0.890023   \n\n                                                    8   9         10  \n109  {camera: True: 9: Nature.EQUAL, price: 3528.78...   8  0.803675  \n229  {os: 10: 6: Nature.EQUAL, weight: 2.47: 4: Nat...  47  0.619379  \n387  {ram: 16.0: 6: Nature.MORE, weight: : 5: Natur...  15  0.473214  \n414  {os: : 5: Nature.EQUAL, price: 3552.92: 9: Nat...  55  0.626865  ",
      "text/html": "<div>\n<style scoped>\n    .dataframe tbody tr th:only-of-type {\n        vertical-align: middle;\n    }\n\n    .dataframe tbody tr th {\n        vertical-align: top;\n    }\n\n    .dataframe thead th {\n        text-align: right;\n    }\n</style>\n<table border=\"1\" class=\"dataframe\">\n  <thead>\n    <tr style=\"text-align: right;\">\n      <th></th>\n      <th>0</th>\n      <th>1</th>\n      <th>2</th>\n      <th>3</th>\n      <th>4</th>\n      <th>5</th>\n      <th>6</th>\n      <th>7</th>\n      <th>8</th>\n      <th>9</th>\n      <th>10</th>\n    </tr>\n  </thead>\n  <tbody>\n    <tr>\n      <th>109</th>\n      <td>{cpu: i3|ryzen 3: 2: Nature.EQUAL, camera: Tru...</td>\n      <td>2</td>\n      <td>{brand: hp|acer: 8: Nature.EQUAL, weight: 1.70...</td>\n      <td>3</td>\n      <td>0.825744</td>\n      <td>{weight: : 2: Nature.LESS, ram: 8.0: 4: Nature...</td>\n      <td>4</td>\n      <td>0.791349</td>\n      <td>{camera: True: 9: Nature.EQUAL, price: 3528.78...</td>\n      <td>8</td>\n      <td>0.803675</td>\n    </tr>\n    <tr>\n      <th>229</th>\n      <td>{camera: True: 3: Nature.EQUAL, price: 4706.33...</td>\n      <td>12</td>\n      <td>{camera: True: 3: Nature.EQUAL, storage: 512.0...</td>\n      <td>14</td>\n      <td>0.658962</td>\n      <td>{camera: True: 3: Nature.EQUAL, weight: 2.47: ...</td>\n      <td>16</td>\n      <td>0.633422</td>\n      <td>{os: 10: 6: Nature.EQUAL, weight: 2.47: 4: Nat...</td>\n      <td>47</td>\n      <td>0.619379</td>\n    </tr>\n    <tr>\n      <th>387</th>\n      <td>{weight: 1.47: 5: Nature.LESS, ram: 16.0: 6: N...</td>\n      <td>6</td>\n      <td>{weight: 1.5715: 5: Nature.LESS, ram: 16.0: 6:...</td>\n      <td>8</td>\n      <td>0.677725</td>\n      <td>{brand: : 5: Nature.EQUAL, weight: 1.47: 5: Na...</td>\n      <td>13</td>\n      <td>0.380850</td>\n      <td>{ram: 16.0: 6: Nature.MORE, weight: : 5: Natur...</td>\n      <td>15</td>\n      <td>0.473214</td>\n    </tr>\n    <tr>\n      <th>414</th>\n      <td>{price: 3552.92: 9: Nature.LESS, camera: True:...</td>\n      <td>41</td>\n      <td>{price: 3552.92: 9: Nature.LESS, camera: : 5: ...</td>\n      <td>45</td>\n      <td>0.626865</td>\n      <td>{price: 3552.92: 9: Nature.LESS, os: 10|11|os:...</td>\n      <td>54</td>\n      <td>0.890023</td>\n      <td>{os: : 5: Nature.EQUAL, price: 3552.92: 9: Nat...</td>\n      <td>55</td>\n      <td>0.626865</td>\n    </tr>\n  </tbody>\n</table>\n</div>"
     },
     "execution_count": 9,
     "metadata": {},
     "output_type": "execute_result"
    }
   ],
   "source": [
    "result[valid]"
   ],
   "metadata": {
    "collapsed": false,
    "pycharm": {
     "name": "#%%\n"
    }
   }
  },
  {
   "cell_type": "code",
   "execution_count": 9,
   "outputs": [],
   "source": [],
   "metadata": {
    "collapsed": false,
    "pycharm": {
     "name": "#%%\n"
    }
   }
  }
 ],
 "metadata": {
  "kernelspec": {
   "display_name": "Python 3",
   "language": "python",
   "name": "python3"
  },
  "language_info": {
   "codemirror_mode": {
    "name": "ipython",
    "version": 2
   },
   "file_extension": ".py",
   "mimetype": "text/x-python",
   "name": "python",
   "nbconvert_exporter": "python",
   "pygments_lexer": "ipython2",
   "version": "2.7.6"
  }
 },
 "nbformat": 4,
 "nbformat_minor": 0
}
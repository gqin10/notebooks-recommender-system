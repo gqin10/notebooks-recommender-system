{
 "cells": [
  {
   "cell_type": "code",
   "execution_count": 1,
   "outputs": [],
   "source": [
    "import pandas as pd\n",
    "from Constraint import Problem, Constraint\n",
    "from Nature import attribute_nature\n",
    "import copy\n",
    "from constraint_relax import search_mfs\n",
    "from item_extrator import data_path, dummy_data_path\n",
    "from similarity_calculator import compute_similarity"
   ],
   "metadata": {
    "collapsed": false,
    "pycharm": {
     "name": "#%%\n"
    }
   }
  },
  {
   "cell_type": "code",
   "execution_count": 2,
   "outputs": [],
   "source": [
    "experiment_constraint_data = pd.read_csv('./experiment_constraint_data.csv')"
   ],
   "metadata": {
    "collapsed": false,
    "pycharm": {
     "name": "#%%\n"
    }
   }
  },
  {
   "cell_type": "code",
   "execution_count": 3,
   "outputs": [],
   "source": [
    "# read experiment constraints data\n",
    "problem_list = list()\n",
    "unique_constraint_no = experiment_constraint_data['constraint_no'].unique()\n",
    "for no in unique_constraint_no:\n",
    "    problem: Problem = Problem()\n",
    "    constraint_list = list()\n",
    "    for index, item in experiment_constraint_data[experiment_constraint_data['constraint_no'] == no].iterrows():\n",
    "        constraint = None\n",
    "        if item.get('name') in ['brand', 'cpu','gpu','os']:\n",
    "            constraint: Constraint = Constraint(item.get('name'), item.get('value'), item.get('priority'),\n",
    "                                                attribute_nature.get(item.get('name')))\n",
    "        elif item.get('name') in ['storage', 'ram','price','weight']:\n",
    "            constraint: Constraint = Constraint(item.get('name'), float(item.get('value')), item.get('priority'),\n",
    "                                                attribute_nature.get(item.get('name')))\n",
    "        elif item.get('name') in ['camera']:\n",
    "            constraint: Constraint = Constraint(item.get('name'), bool(item.get('value')), item.get('priority'),\n",
    "                                                attribute_nature.get(item.get('name')))\n",
    "        if constraint != None:\n",
    "            constraint_list.append(constraint)\n",
    "    cl_set = set(constraint_list)\n",
    "    problem.constraint_list = set(constraint_list)\n",
    "    problem_list.append(problem)"
   ],
   "metadata": {
    "collapsed": false,
    "pycharm": {
     "name": "#%%\n"
    }
   }
  },
  {
   "cell_type": "code",
   "execution_count": 4,
   "outputs": [],
   "source": [
    "def get_df_len(df):\n",
    "    if df is None:\n",
    "        return 0\n",
    "    return (df.shape)[0]\n",
    "\n",
    "sol_list = []\n",
    "threshold_list = [0, 0.5, 1]\n",
    "for problem in problem_list:\n",
    "    prob_sol_list = []\n",
    "    p1 = copy.deepcopy(problem) # original constraint\n",
    "    prob_sol_list.append(p1.constraint_list)\n",
    "    prob_sol_list.append(get_df_len(p1.solve()))\n",
    "\n",
    "    for threshold in threshold_list:\n",
    "        p = copy.deepcopy(problem)\n",
    "        mfs = search_mfs(p.constraint_list, copy.copy(p.constraint_list), dummy_data_path)\n",
    "        p.relax(mfs, threshold)\n",
    "        prob_sol_list.append(p.constraint_list)\n",
    "        prob_items = p.solve()\n",
    "        prob_sol_list.append(get_df_len(prob_items))\n",
    "        if not prob_items is None:\n",
    "            prob_sol_list.append((compute_similarity(p.constraint_list, prob_items))['similarity'].mean())\n",
    "        else:\n",
    "            prob_sol_list.append(0)\n",
    "    sol_list.append(prob_sol_list)\n",
    "result = pd.DataFrame(sol_list)"
   ],
   "metadata": {
    "collapsed": false,
    "pycharm": {
     "name": "#%%\n"
    }
   }
  },
  {
   "cell_type": "code",
   "execution_count": 5,
   "outputs": [
    {
     "data": {
      "text/plain": "                                                    0   1   \\\n0    {ram: 4.0: 8: Nature.MORE, os: 11: 2: Nature.E...   4   \n1    {price: 3399.0: 1: Nature.LESS, brand: microso...   0   \n2    {storage: 512.0: 3: Nature.MORE, price: 3618.8...   0   \n3    {brand: acer|asus|huawei: 8: Nature.EQUAL, pri...   0   \n4    {ram: 4.0: 2: Nature.MORE, cpu: i7|ryzen 5: 2:...   0   \n..                                                 ...  ..   \n995  {os: 11: 9: Nature.EQUAL, ram: 8.0: 6: Nature....   2   \n996  {cpu: i5: 1: Nature.EQUAL, os: 10: 2: Nature.E...   0   \n997  {camera: True: 8: Nature.EQUAL, price: 2666.48...   4   \n998  {ram: 4.0: 2: Nature.MORE, price: 4436.64: 2: ...   1   \n999  {cpu: ryzen 5: 2: Nature.EQUAL, camera: True: ...  10   \n\n                                                    2   3         4   \\\n0    {ram: 4.0: 8: Nature.MORE, weight: 1.4: 9: Nat...  15  0.596817   \n1    {price: 3399.0: 1: Nature.LESS, brand: microso...   0  0.000000   \n2    {brand: huawei|acer: 9: Nature.EQUAL, price: 4...   0  0.000000   \n3    {price: 7501.1: 6: Nature.LESS, ram: 32.0: 8: ...   0  0.000000   \n4    {price: 5722.7: 2: Nature.LESS, cpu: i5|ryzen ...   0  0.000000   \n..                                                 ...  ..       ...   \n995  {os: 11: 9: Nature.EQUAL, price: 3703.09: 5: N...   6  0.772429   \n996  {os: 10: 2: Nature.EQUAL, price: 2810.49: 3: N...   0  0.000000   \n997  {brand: hp|lenovo|dell|msi: 2: Nature.EQUAL, w...   8  0.762819   \n998  {camera: True: 4: Nature.EQUAL, ram: 4.0: 2: N...   0  0.000000   \n999  {ram: 8.0: 9: Nature.MORE, weight: 1.6615: 2: ...  11  0.436091   \n\n                                                    5   6         7   \\\n0    {price: 4118.25: 9: Nature.LESS, os: : 2: Natu...  19  0.534317   \n1    {brand: microsoft|msi|hp: 9: Nature.EQUAL, ram...   0  0.000000   \n2    {cpu: : 3: Nature.EQUAL, brand: huawei|acer: 9...   0  0.000000   \n3    {storage: 256.0: 5: Nature.MORE, os: 10|os: 7:...   0  0.000000   \n4    {brand: asus: 6: Nature.EQUAL, camera: True: 4...   0  0.000000   \n..                                                 ...  ..       ...   \n995  {camera: True: 8: Nature.EQUAL, price: 3703.09...   6  0.772429   \n996  {ram: 16.0: 10: Nature.MORE, price: 2810.49: 3...   0  0.000000   \n997  {os: 10: 2: Nature.EQUAL, weight: 1.85: 9: Nat...   8  0.762819   \n998  {weight: 0.10149999999999999: 10: Nature.LESS,...   0  0.000000   \n999  {cpu: ryzen 5: 2: Nature.EQUAL, ram: 8.0: 9: N...  15  0.395601   \n\n                                                    8   9         10  \n0    {ram: 4.0: 8: Nature.MORE, os: : 2: Nature.EQU...  19  0.534317  \n1    {weight: : 6: Nature.LESS, storage: 256.0: 2: ...  10  0.491130  \n2    {price: : 4: Nature.LESS, camera: True: 5: Nat...   0  0.000000  \n3    {brand: acer|asus|huawei: 8: Nature.EQUAL, ram...   0  0.000000  \n4    {storage: 256.0: 3: Nature.MORE, cpu: : 2: Nat...   4  0.687764  \n..                                                 ...  ..       ...  \n995  {camera: True: 8: Nature.EQUAL, price: : 5: Na...  22  0.637755  \n996  {storage: 256.0: 9: Nature.MORE, price: 2810.4...   0  0.000000  \n997  {storage: 512.0: 2: Nature.MORE, camera: True:...   8  0.762819  \n998  {storage: 256.0: 10: Nature.MORE, weight: : 10...  81  0.272609  \n999  {ram: 8.0: 9: Nature.MORE, storage: 256.0: 9: ...  52  0.401316  \n\n[1000 rows x 11 columns]",
      "text/html": "<div>\n<style scoped>\n    .dataframe tbody tr th:only-of-type {\n        vertical-align: middle;\n    }\n\n    .dataframe tbody tr th {\n        vertical-align: top;\n    }\n\n    .dataframe thead th {\n        text-align: right;\n    }\n</style>\n<table border=\"1\" class=\"dataframe\">\n  <thead>\n    <tr style=\"text-align: right;\">\n      <th></th>\n      <th>0</th>\n      <th>1</th>\n      <th>2</th>\n      <th>3</th>\n      <th>4</th>\n      <th>5</th>\n      <th>6</th>\n      <th>7</th>\n      <th>8</th>\n      <th>9</th>\n      <th>10</th>\n    </tr>\n  </thead>\n  <tbody>\n    <tr>\n      <th>0</th>\n      <td>{ram: 4.0: 8: Nature.MORE, os: 11: 2: Nature.E...</td>\n      <td>4</td>\n      <td>{ram: 4.0: 8: Nature.MORE, weight: 1.4: 9: Nat...</td>\n      <td>15</td>\n      <td>0.596817</td>\n      <td>{price: 4118.25: 9: Nature.LESS, os: : 2: Natu...</td>\n      <td>19</td>\n      <td>0.534317</td>\n      <td>{ram: 4.0: 8: Nature.MORE, os: : 2: Nature.EQU...</td>\n      <td>19</td>\n      <td>0.534317</td>\n    </tr>\n    <tr>\n      <th>1</th>\n      <td>{price: 3399.0: 1: Nature.LESS, brand: microso...</td>\n      <td>0</td>\n      <td>{price: 3399.0: 1: Nature.LESS, brand: microso...</td>\n      <td>0</td>\n      <td>0.000000</td>\n      <td>{brand: microsoft|msi|hp: 9: Nature.EQUAL, ram...</td>\n      <td>0</td>\n      <td>0.000000</td>\n      <td>{weight: : 6: Nature.LESS, storage: 256.0: 2: ...</td>\n      <td>10</td>\n      <td>0.491130</td>\n    </tr>\n    <tr>\n      <th>2</th>\n      <td>{storage: 512.0: 3: Nature.MORE, price: 3618.8...</td>\n      <td>0</td>\n      <td>{brand: huawei|acer: 9: Nature.EQUAL, price: 4...</td>\n      <td>0</td>\n      <td>0.000000</td>\n      <td>{cpu: : 3: Nature.EQUAL, brand: huawei|acer: 9...</td>\n      <td>0</td>\n      <td>0.000000</td>\n      <td>{price: : 4: Nature.LESS, camera: True: 5: Nat...</td>\n      <td>0</td>\n      <td>0.000000</td>\n    </tr>\n    <tr>\n      <th>3</th>\n      <td>{brand: acer|asus|huawei: 8: Nature.EQUAL, pri...</td>\n      <td>0</td>\n      <td>{price: 7501.1: 6: Nature.LESS, ram: 32.0: 8: ...</td>\n      <td>0</td>\n      <td>0.000000</td>\n      <td>{storage: 256.0: 5: Nature.MORE, os: 10|os: 7:...</td>\n      <td>0</td>\n      <td>0.000000</td>\n      <td>{brand: acer|asus|huawei: 8: Nature.EQUAL, ram...</td>\n      <td>0</td>\n      <td>0.000000</td>\n    </tr>\n    <tr>\n      <th>4</th>\n      <td>{ram: 4.0: 2: Nature.MORE, cpu: i7|ryzen 5: 2:...</td>\n      <td>0</td>\n      <td>{price: 5722.7: 2: Nature.LESS, cpu: i5|ryzen ...</td>\n      <td>0</td>\n      <td>0.000000</td>\n      <td>{brand: asus: 6: Nature.EQUAL, camera: True: 4...</td>\n      <td>0</td>\n      <td>0.000000</td>\n      <td>{storage: 256.0: 3: Nature.MORE, cpu: : 2: Nat...</td>\n      <td>4</td>\n      <td>0.687764</td>\n    </tr>\n    <tr>\n      <th>...</th>\n      <td>...</td>\n      <td>...</td>\n      <td>...</td>\n      <td>...</td>\n      <td>...</td>\n      <td>...</td>\n      <td>...</td>\n      <td>...</td>\n      <td>...</td>\n      <td>...</td>\n      <td>...</td>\n    </tr>\n    <tr>\n      <th>995</th>\n      <td>{os: 11: 9: Nature.EQUAL, ram: 8.0: 6: Nature....</td>\n      <td>2</td>\n      <td>{os: 11: 9: Nature.EQUAL, price: 3703.09: 5: N...</td>\n      <td>6</td>\n      <td>0.772429</td>\n      <td>{camera: True: 8: Nature.EQUAL, price: 3703.09...</td>\n      <td>6</td>\n      <td>0.772429</td>\n      <td>{camera: True: 8: Nature.EQUAL, price: : 5: Na...</td>\n      <td>22</td>\n      <td>0.637755</td>\n    </tr>\n    <tr>\n      <th>996</th>\n      <td>{cpu: i5: 1: Nature.EQUAL, os: 10: 2: Nature.E...</td>\n      <td>0</td>\n      <td>{os: 10: 2: Nature.EQUAL, price: 2810.49: 3: N...</td>\n      <td>0</td>\n      <td>0.000000</td>\n      <td>{ram: 16.0: 10: Nature.MORE, price: 2810.49: 3...</td>\n      <td>0</td>\n      <td>0.000000</td>\n      <td>{storage: 256.0: 9: Nature.MORE, price: 2810.4...</td>\n      <td>0</td>\n      <td>0.000000</td>\n    </tr>\n    <tr>\n      <th>997</th>\n      <td>{camera: True: 8: Nature.EQUAL, price: 2666.48...</td>\n      <td>4</td>\n      <td>{brand: hp|lenovo|dell|msi: 2: Nature.EQUAL, w...</td>\n      <td>8</td>\n      <td>0.762819</td>\n      <td>{os: 10: 2: Nature.EQUAL, weight: 1.85: 9: Nat...</td>\n      <td>8</td>\n      <td>0.762819</td>\n      <td>{storage: 512.0: 2: Nature.MORE, camera: True:...</td>\n      <td>8</td>\n      <td>0.762819</td>\n    </tr>\n    <tr>\n      <th>998</th>\n      <td>{ram: 4.0: 2: Nature.MORE, price: 4436.64: 2: ...</td>\n      <td>1</td>\n      <td>{camera: True: 4: Nature.EQUAL, ram: 4.0: 2: N...</td>\n      <td>0</td>\n      <td>0.000000</td>\n      <td>{weight: 0.10149999999999999: 10: Nature.LESS,...</td>\n      <td>0</td>\n      <td>0.000000</td>\n      <td>{storage: 256.0: 10: Nature.MORE, weight: : 10...</td>\n      <td>81</td>\n      <td>0.272609</td>\n    </tr>\n    <tr>\n      <th>999</th>\n      <td>{cpu: ryzen 5: 2: Nature.EQUAL, camera: True: ...</td>\n      <td>10</td>\n      <td>{ram: 8.0: 9: Nature.MORE, weight: 1.6615: 2: ...</td>\n      <td>11</td>\n      <td>0.436091</td>\n      <td>{cpu: ryzen 5: 2: Nature.EQUAL, ram: 8.0: 9: N...</td>\n      <td>15</td>\n      <td>0.395601</td>\n      <td>{ram: 8.0: 9: Nature.MORE, storage: 256.0: 9: ...</td>\n      <td>52</td>\n      <td>0.401316</td>\n    </tr>\n  </tbody>\n</table>\n<p>1000 rows × 11 columns</p>\n</div>"
     },
     "execution_count": 5,
     "metadata": {},
     "output_type": "execute_result"
    }
   ],
   "source": [
    "result"
   ],
   "metadata": {
    "collapsed": false,
    "pycharm": {
     "name": "#%%\n"
    }
   }
  },
  {
   "cell_type": "code",
   "execution_count": 6,
   "outputs": [
    {
     "data": {
      "text/plain": "True     571\nFalse    429\nName: 1, dtype: int64"
     },
     "execution_count": 6,
     "metadata": {},
     "output_type": "execute_result"
    }
   ],
   "source": [
    "pd.value_counts(result.iloc[:, 1] == 0)"
   ],
   "metadata": {
    "collapsed": false,
    "pycharm": {
     "name": "#%%\n"
    }
   }
  },
  {
   "cell_type": "code",
   "execution_count": 7,
   "outputs": [
    {
     "name": "stdout",
     "output_type": "stream",
     "text": [
      "True     920\n",
      "False     80\n",
      "dtype: int64\n"
     ]
    }
   ],
   "source": [
    "valid = ((result.iloc[:, 1] <= result.iloc[:, 3]) & (result.iloc[:, 3] <= result.iloc[:, 6]) & (result.iloc[:, 6] <= result.iloc[:, 9]))\n",
    "valid_count = pd.value_counts(valid)\n",
    "print(valid_count)"
   ],
   "metadata": {
    "collapsed": false,
    "pycharm": {
     "name": "#%%\n"
    }
   }
  },
  {
   "cell_type": "code",
   "execution_count": 8,
   "outputs": [
    {
     "name": "stdout",
     "output_type": "stream",
     "text": [
      "False    997\n",
      "True       3\n",
      "dtype: int64\n"
     ]
    }
   ],
   "source": [
    "valid = ((result.iloc[:, 1] < result.iloc[:, 3]) & (result.iloc[:, 3] < result.iloc[:, 6]) & (result.iloc[:, 6] < result.iloc[:, 9]))\n",
    "valid_count = pd.value_counts(valid)\n",
    "print(valid_count)"
   ],
   "metadata": {
    "collapsed": false,
    "pycharm": {
     "name": "#%%\n"
    }
   }
  },
  {
   "cell_type": "code",
   "execution_count": 9,
   "outputs": [
    {
     "data": {
      "text/plain": "                                                    0   1   \\\n143  {camera: True: 2: Nature.EQUAL, price: 3111.43...  12   \n922  {os: 11: 1: Nature.EQUAL, brand: acer|huawei: ...   2   \n999  {cpu: ryzen 5: 2: Nature.EQUAL, camera: True: ...  10   \n\n                                                    2   3         4   \\\n143  {weight: 1.6: 4: Nature.LESS, storage: 256: 1:...  21  0.699418   \n922  {weight: 1.5: 1: Nature.LESS, brand: acer|huaw...   6  0.940682   \n999  {ram: 8.0: 9: Nature.MORE, weight: 1.6615: 2: ...  11  0.436091   \n\n                                                    5   6         7   \\\n143  {storage: : 1: Nature.MORE, camera: True: 2: N...  25  0.671192   \n922  {price: 4211.09: 3: Nature.LESS, brand: acer|h...   7  0.906199   \n999  {cpu: ryzen 5: 2: Nature.EQUAL, ram: 8.0: 9: N...  15  0.395601   \n\n                                                    8   9         10  \n143  {weight: 1.6: 4: Nature.LESS, camera: True: 2:...  52  0.630681  \n922  {os: : 1: Nature.EQUAL, brand: acer|huawei: 10...   8  0.890682  \n999  {ram: 8.0: 9: Nature.MORE, storage: 256.0: 9: ...  52  0.401316  ",
      "text/html": "<div>\n<style scoped>\n    .dataframe tbody tr th:only-of-type {\n        vertical-align: middle;\n    }\n\n    .dataframe tbody tr th {\n        vertical-align: top;\n    }\n\n    .dataframe thead th {\n        text-align: right;\n    }\n</style>\n<table border=\"1\" class=\"dataframe\">\n  <thead>\n    <tr style=\"text-align: right;\">\n      <th></th>\n      <th>0</th>\n      <th>1</th>\n      <th>2</th>\n      <th>3</th>\n      <th>4</th>\n      <th>5</th>\n      <th>6</th>\n      <th>7</th>\n      <th>8</th>\n      <th>9</th>\n      <th>10</th>\n    </tr>\n  </thead>\n  <tbody>\n    <tr>\n      <th>143</th>\n      <td>{camera: True: 2: Nature.EQUAL, price: 3111.43...</td>\n      <td>12</td>\n      <td>{weight: 1.6: 4: Nature.LESS, storage: 256: 1:...</td>\n      <td>21</td>\n      <td>0.699418</td>\n      <td>{storage: : 1: Nature.MORE, camera: True: 2: N...</td>\n      <td>25</td>\n      <td>0.671192</td>\n      <td>{weight: 1.6: 4: Nature.LESS, camera: True: 2:...</td>\n      <td>52</td>\n      <td>0.630681</td>\n    </tr>\n    <tr>\n      <th>922</th>\n      <td>{os: 11: 1: Nature.EQUAL, brand: acer|huawei: ...</td>\n      <td>2</td>\n      <td>{weight: 1.5: 1: Nature.LESS, brand: acer|huaw...</td>\n      <td>6</td>\n      <td>0.940682</td>\n      <td>{price: 4211.09: 3: Nature.LESS, brand: acer|h...</td>\n      <td>7</td>\n      <td>0.906199</td>\n      <td>{os: : 1: Nature.EQUAL, brand: acer|huawei: 10...</td>\n      <td>8</td>\n      <td>0.890682</td>\n    </tr>\n    <tr>\n      <th>999</th>\n      <td>{cpu: ryzen 5: 2: Nature.EQUAL, camera: True: ...</td>\n      <td>10</td>\n      <td>{ram: 8.0: 9: Nature.MORE, weight: 1.6615: 2: ...</td>\n      <td>11</td>\n      <td>0.436091</td>\n      <td>{cpu: ryzen 5: 2: Nature.EQUAL, ram: 8.0: 9: N...</td>\n      <td>15</td>\n      <td>0.395601</td>\n      <td>{ram: 8.0: 9: Nature.MORE, storage: 256.0: 9: ...</td>\n      <td>52</td>\n      <td>0.401316</td>\n    </tr>\n  </tbody>\n</table>\n</div>"
     },
     "execution_count": 9,
     "metadata": {},
     "output_type": "execute_result"
    }
   ],
   "source": [
    "result[valid]"
   ],
   "metadata": {
    "collapsed": false,
    "pycharm": {
     "name": "#%%\n"
    }
   }
  },
  {
   "cell_type": "code",
   "execution_count": 9,
   "outputs": [],
   "source": [],
   "metadata": {
    "collapsed": false,
    "pycharm": {
     "name": "#%%\n"
    }
   }
  }
 ],
 "metadata": {
  "kernelspec": {
   "display_name": "Python 3",
   "language": "python",
   "name": "python3"
  },
  "language_info": {
   "codemirror_mode": {
    "name": "ipython",
    "version": 2
   },
   "file_extension": ".py",
   "mimetype": "text/x-python",
   "name": "python",
   "nbconvert_exporter": "python",
   "pygments_lexer": "ipython2",
   "version": "2.7.6"
  }
 },
 "nbformat": 4,
 "nbformat_minor": 0
}
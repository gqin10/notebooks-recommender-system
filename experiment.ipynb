{
 "cells": [
  {
   "cell_type": "code",
   "execution_count": null,
   "outputs": [],
   "source": [
    "import copy\n",
    "\n",
    "import pandas as pd\n",
    "\n",
    "from constraint_relax import search_mfs\n",
    "from experiment_constraint_data_processor import process_experiment_constraint_data\n",
    "from values import real_data_path, simulated_data_path\n",
    "from similarity_calculator import compute_similarity\n",
    "from utils import get_df_len"
   ],
   "metadata": {
    "collapsed": false,
    "pycharm": {
     "name": "#%%\n"
    }
   }
  },
  {
   "cell_type": "code",
   "execution_count": null,
   "outputs": [],
   "source": [
    "problem_list = process_experiment_constraint_data('./experiment_constraint_data.csv')"
   ],
   "metadata": {
    "collapsed": false,
    "pycharm": {
     "name": "#%%\n"
    }
   }
  },
  {
   "cell_type": "code",
   "execution_count": null,
   "outputs": [],
   "source": [
    "sol_list = []\n",
    "result = pd.DataFrame()\n",
    "threshold_list = ['', 0, 0.5, 1]\n",
    "for problem in problem_list:\n",
    "    prob_sol_list = dict()\n",
    "    for threshold in threshold_list:\n",
    "        p = copy.deepcopy(problem)\n",
    "        if threshold != '':\n",
    "            mfs = search_mfs(p.constraint_list, copy.copy(p.constraint_list), simulated_data_path)\n",
    "            p.relax(mfs, threshold)\n",
    "        prob_items = p.solve()\n",
    "        prob_sol_list.update({\n",
    "            f'constraint_{threshold}': p.constraint_list,\n",
    "            f'no_of_items_{threshold}': get_df_len(prob_items)\n",
    "        })\n",
    "        if not prob_items is None:\n",
    "            prob_sol_list.update({\n",
    "                f'similarity_{threshold}': ((compute_similarity(p.constraint_list, prob_items))['similarity']).mean()\n",
    "            })\n",
    "        else:\n",
    "            prob_sol_list.update({\n",
    "                f'similarity_{threshold}': 0\n",
    "            })\n",
    "    result = result.append(prob_sol_list, ignore_index=True)"
   ],
   "metadata": {
    "collapsed": false,
    "pycharm": {
     "name": "#%%\n"
    }
   }
  },
  {
   "cell_type": "code",
   "execution_count": null,
   "outputs": [],
   "source": [
    "result"
   ],
   "metadata": {
    "collapsed": false,
    "pycharm": {
     "name": "#%%\n"
    }
   }
  },
  {
   "cell_type": "code",
   "execution_count": null,
   "outputs": [],
   "source": [
    "pd.value_counts(result.iloc[:, 1] == 0)"
   ],
   "metadata": {
    "collapsed": false,
    "pycharm": {
     "name": "#%%\n"
    }
   }
  },
  {
   "cell_type": "code",
   "execution_count": null,
   "outputs": [],
   "source": [
    "valid = ((result.iloc[:, 1] <= result.iloc[:, 4]) & (result.iloc[:, 4] <= result.iloc[:, 7]) & (result.iloc[:, 7] <= result.iloc[:, 10]))\n",
    "valid_count = pd.value_counts(valid)\n",
    "print(valid_count)"
   ],
   "metadata": {
    "collapsed": false,
    "pycharm": {
     "name": "#%%\n"
    }
   }
  },
  {
   "cell_type": "code",
   "execution_count": null,
   "outputs": [],
   "source": [
    "valid = ((result.iloc[:, 1] < result.iloc[:, 4]) & (result.iloc[:, 4] < result.iloc[:, 7]) & (result.iloc[:, 7] < result.iloc[:, 10]))\n",
    "valid_count = pd.value_counts(valid)\n",
    "print(valid_count)"
   ],
   "metadata": {
    "collapsed": false,
    "pycharm": {
     "name": "#%%\n"
    }
   }
  },
  {
   "cell_type": "code",
   "execution_count": null,
   "outputs": [],
   "source": [
    "result[valid]"
   ],
   "metadata": {
    "collapsed": false,
    "pycharm": {
     "name": "#%%\n"
    }
   }
  },
  {
   "cell_type": "code",
   "execution_count": 6,
   "outputs": [
    {
     "name": "stdout",
     "output_type": "stream",
     "text": [
      "True     471\n",
      "False     29\n",
      "dtype: int64\n"
     ]
    }
   ],
   "source": [
    "valid = ((result.iloc[:, 1] <= result.iloc[:, 4]) & (result.iloc[:, 4] <= result.iloc[:, 7]) & (result.iloc[:, 7] <= result.iloc[:, 10]))\n",
    "valid_count = pd.value_counts(valid)\n",
    "print(valid_count)"
   ],
   "metadata": {
    "collapsed": false,
    "pycharm": {
     "name": "#%%\n"
    }
   }
  },
  {
   "cell_type": "code",
   "execution_count": 7,
   "outputs": [
    {
     "name": "stdout",
     "output_type": "stream",
     "text": [
      "False    498\n",
      "True       2\n",
      "dtype: int64\n"
     ]
    }
   ],
   "source": [
    "valid = ((result.iloc[:, 1] < result.iloc[:, 4]) & (result.iloc[:, 4] < result.iloc[:, 7]) & (result.iloc[:, 7] < result.iloc[:, 10]))\n",
    "valid_count = pd.value_counts(valid)\n",
    "print(valid_count)"
   ],
   "metadata": {
    "collapsed": false,
    "pycharm": {
     "name": "#%%\n"
    }
   }
  },
  {
   "cell_type": "code",
   "execution_count": 8,
   "outputs": [
    {
     "data": {
      "text/plain": "                                           constraint_  no_of_items_  \\\n229  {weight: 2.47: 4: Nature.LESS, price: 4706.33:...            12   \n482  {weight: 1.52: 2: Nature.LESS, ram: 8.0: 4: Na...             0   \n\n     similarity_                                       constraint_0  \\\n229     0.661046  {weight: 2.47: 4: Nature.LESS, os: 10: 6: Natu...   \n482     0.000000  {ram: 8.0: 4: Nature.MORE, storage: 512: 5: Na...   \n\n     no_of_items_0  similarity_0  \\\n229             14      0.658962   \n482              6      0.674799   \n\n                                        constraint_0.5  no_of_items_0.5  \\\n229  {price: : 1: Nature.LESS, brand: lenovo|huawei...               16   \n482  {storage: 512: 5: Nature.MORE, price: 5056.09:...                8   \n\n     similarity_0.5                                       constraint_1  \\\n229        0.633422  {weight: 2.47: 4: Nature.LESS, os: 10: 6: Natu...   \n482        0.595528  {ram: 8.0: 4: Nature.MORE, storage: : 5: Natur...   \n\n     no_of_items_1  similarity_1  \n229             47      0.619379  \n482              9      0.527914  ",
      "text/html": "<div>\n<style scoped>\n    .dataframe tbody tr th:only-of-type {\n        vertical-align: middle;\n    }\n\n    .dataframe tbody tr th {\n        vertical-align: top;\n    }\n\n    .dataframe thead th {\n        text-align: right;\n    }\n</style>\n<table border=\"1\" class=\"dataframe\">\n  <thead>\n    <tr style=\"text-align: right;\">\n      <th></th>\n      <th>constraint_</th>\n      <th>no_of_items_</th>\n      <th>similarity_</th>\n      <th>constraint_0</th>\n      <th>no_of_items_0</th>\n      <th>similarity_0</th>\n      <th>constraint_0.5</th>\n      <th>no_of_items_0.5</th>\n      <th>similarity_0.5</th>\n      <th>constraint_1</th>\n      <th>no_of_items_1</th>\n      <th>similarity_1</th>\n    </tr>\n  </thead>\n  <tbody>\n    <tr>\n      <th>229</th>\n      <td>{weight: 2.47: 4: Nature.LESS, price: 4706.33:...</td>\n      <td>12</td>\n      <td>0.661046</td>\n      <td>{weight: 2.47: 4: Nature.LESS, os: 10: 6: Natu...</td>\n      <td>14</td>\n      <td>0.658962</td>\n      <td>{price: : 1: Nature.LESS, brand: lenovo|huawei...</td>\n      <td>16</td>\n      <td>0.633422</td>\n      <td>{weight: 2.47: 4: Nature.LESS, os: 10: 6: Natu...</td>\n      <td>47</td>\n      <td>0.619379</td>\n    </tr>\n    <tr>\n      <th>482</th>\n      <td>{weight: 1.52: 2: Nature.LESS, ram: 8.0: 4: Na...</td>\n      <td>0</td>\n      <td>0.000000</td>\n      <td>{ram: 8.0: 4: Nature.MORE, storage: 512: 5: Na...</td>\n      <td>6</td>\n      <td>0.674799</td>\n      <td>{storage: 512: 5: Nature.MORE, price: 5056.09:...</td>\n      <td>8</td>\n      <td>0.595528</td>\n      <td>{ram: 8.0: 4: Nature.MORE, storage: : 5: Natur...</td>\n      <td>9</td>\n      <td>0.527914</td>\n    </tr>\n  </tbody>\n</table>\n</div>"
     },
     "execution_count": 8,
     "metadata": {},
     "output_type": "execute_result"
    }
   ],
   "source": [
    "result[valid]"
   ],
   "metadata": {
    "collapsed": false,
    "pycharm": {
     "name": "#%%\n"
    }
   }
  },
  {
   "cell_type": "code",
   "execution_count": 8,
   "outputs": [],
   "source": [],
   "metadata": {
    "collapsed": false,
    "pycharm": {
     "name": "#%%\n"
    }
   }
  }
 ],
 "metadata": {
  "kernelspec": {
   "display_name": "Python 3",
   "language": "python",
   "name": "python3"
  },
  "language_info": {
   "codemirror_mode": {
    "name": "ipython",
    "version": 2
   },
   "file_extension": ".py",
   "mimetype": "text/x-python",
   "name": "python",
   "nbconvert_exporter": "python",
   "pygments_lexer": "ipython2",
   "version": "2.7.6"
  }
 },
 "nbformat": 4,
 "nbformat_minor": 0
}
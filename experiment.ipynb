{
 "cells": [
  {
   "cell_type": "code",
   "execution_count": 1,
   "outputs": [],
   "source": [
    "import pandas as pd\n",
    "from Constraint import Problem, Constraint\n",
    "from Nature import attribute_nature"
   ],
   "metadata": {
    "collapsed": false,
    "pycharm": {
     "name": "#%%\n"
    }
   }
  },
  {
   "cell_type": "code",
   "execution_count": 2,
   "outputs": [],
   "source": [
    "experiment_constraint_data = pd.read_csv('./experiment_constraint_data.csv')"
   ],
   "metadata": {
    "collapsed": false,
    "pycharm": {
     "name": "#%%\n"
    }
   }
  },
  {
   "cell_type": "code",
   "execution_count": 3,
   "outputs": [
    {
     "data": {
      "text/plain": "          name      value  priority  constraint_no\n0          ram         64         3              0\n1  screen_size      13.71         4              0\n2      storage        512         5              0\n3          cpu         i7         5              0\n4           os         10         5              0\n5  screen_size       15.6         1              1\n6        brand  microsoft         4              1\n7          cpu    pentium         3              1\n8      storage       1024         2              1\n9        price    2368.59         1              1",
      "text/html": "<div>\n<style scoped>\n    .dataframe tbody tr th:only-of-type {\n        vertical-align: middle;\n    }\n\n    .dataframe tbody tr th {\n        vertical-align: top;\n    }\n\n    .dataframe thead th {\n        text-align: right;\n    }\n</style>\n<table border=\"1\" class=\"dataframe\">\n  <thead>\n    <tr style=\"text-align: right;\">\n      <th></th>\n      <th>name</th>\n      <th>value</th>\n      <th>priority</th>\n      <th>constraint_no</th>\n    </tr>\n  </thead>\n  <tbody>\n    <tr>\n      <th>0</th>\n      <td>ram</td>\n      <td>64</td>\n      <td>3</td>\n      <td>0</td>\n    </tr>\n    <tr>\n      <th>1</th>\n      <td>screen_size</td>\n      <td>13.71</td>\n      <td>4</td>\n      <td>0</td>\n    </tr>\n    <tr>\n      <th>2</th>\n      <td>storage</td>\n      <td>512</td>\n      <td>5</td>\n      <td>0</td>\n    </tr>\n    <tr>\n      <th>3</th>\n      <td>cpu</td>\n      <td>i7</td>\n      <td>5</td>\n      <td>0</td>\n    </tr>\n    <tr>\n      <th>4</th>\n      <td>os</td>\n      <td>10</td>\n      <td>5</td>\n      <td>0</td>\n    </tr>\n    <tr>\n      <th>5</th>\n      <td>screen_size</td>\n      <td>15.6</td>\n      <td>1</td>\n      <td>1</td>\n    </tr>\n    <tr>\n      <th>6</th>\n      <td>brand</td>\n      <td>microsoft</td>\n      <td>4</td>\n      <td>1</td>\n    </tr>\n    <tr>\n      <th>7</th>\n      <td>cpu</td>\n      <td>pentium</td>\n      <td>3</td>\n      <td>1</td>\n    </tr>\n    <tr>\n      <th>8</th>\n      <td>storage</td>\n      <td>1024</td>\n      <td>2</td>\n      <td>1</td>\n    </tr>\n    <tr>\n      <th>9</th>\n      <td>price</td>\n      <td>2368.59</td>\n      <td>1</td>\n      <td>1</td>\n    </tr>\n  </tbody>\n</table>\n</div>"
     },
     "execution_count": 3,
     "metadata": {},
     "output_type": "execute_result"
    }
   ],
   "source": [
    "experiment_constraint_data.head(10)"
   ],
   "metadata": {
    "collapsed": false,
    "pycharm": {
     "name": "#%%\n"
    }
   }
  },
  {
   "cell_type": "code",
   "execution_count": 4,
   "outputs": [],
   "source": [
    "problem_list = list()\n",
    "unique_constraint_no = experiment_constraint_data['constraint_no'].unique()\n",
    "for no in unique_constraint_no:\n",
    "    problem: Problem = Problem()\n",
    "    constraint_list = list()\n",
    "    for index, item in experiment_constraint_data[experiment_constraint_data['constraint_no'] == no].iterrows():\n",
    "        constraint = None\n",
    "        if item.get('name') in ['brand', 'cpu','gpu','os']:\n",
    "            constraint: Constraint = Constraint(item.get('name'), item.get('value'), item.get('priority'),\n",
    "                                                attribute_nature.get(item.get('name')))\n",
    "        elif item.get('name') in ['storage', 'ram','price','weight']:\n",
    "            constraint: Constraint = Constraint(item.get('name'), float(item.get('value')), item.get('priority'),\n",
    "                                                attribute_nature.get(item.get('name')))\n",
    "        elif item.get('name') in ['camera']:\n",
    "            constraint: Constraint = Constraint(item.get('name'), bool(item.get('value')), item.get('priority'),\n",
    "                                                attribute_nature.get(item.get('name')))\n",
    "        if constraint != None:\n",
    "            constraint_list.append(constraint)\n",
    "    cl_set = set(constraint_list)\n",
    "    problem.constraint_list = set(constraint_list)\n",
    "    problem_list.append(problem)"
   ],
   "metadata": {
    "collapsed": false,
    "pycharm": {
     "name": "#%%\n"
    }
   }
  },
  {
   "cell_type": "code",
   "execution_count": 5,
   "outputs": [
    {
     "name": "stdout",
     "output_type": "stream",
     "text": [
      "0\n",
      "0\n",
      "0\n",
      "0\n",
      "10\n",
      "25\n",
      "5\n",
      "0\n",
      "0\n",
      "3\n",
      "0\n",
      "10\n",
      "0\n",
      "2\n",
      "0\n",
      "0\n",
      "1\n",
      "20\n",
      "19\n",
      "19\n",
      "0\n",
      "0\n",
      "0\n",
      "0\n",
      "0\n",
      "1\n",
      "0\n",
      "0\n",
      "0\n",
      "0\n",
      "0\n",
      "3\n",
      "28\n",
      "0\n",
      "2\n",
      "0\n",
      "0\n",
      "0\n",
      "87\n",
      "0\n",
      "9\n",
      "4\n",
      "0\n",
      "0\n",
      "13\n",
      "34\n",
      "0\n",
      "2\n",
      "0\n",
      "19\n",
      "0\n",
      "0\n",
      "8\n",
      "0\n",
      "0\n",
      "0\n",
      "19\n",
      "0\n",
      "4\n",
      "0\n",
      "0\n",
      "1\n",
      "0\n",
      "0\n",
      "6\n",
      "1\n",
      "0\n",
      "3\n",
      "2\n",
      "0\n",
      "6\n",
      "0\n",
      "3\n",
      "0\n",
      "9\n",
      "0\n",
      "6\n",
      "0\n",
      "0\n",
      "0\n",
      "0\n",
      "0\n",
      "20\n",
      "0\n",
      "0\n",
      "0\n",
      "2\n",
      "0\n",
      "0\n",
      "13\n",
      "0\n",
      "0\n",
      "0\n",
      "0\n",
      "0\n",
      "1\n",
      "0\n",
      "0\n",
      "3\n",
      "1\n",
      "4\n",
      "0\n",
      "22\n",
      "6\n",
      "0\n",
      "1\n",
      "1\n",
      "0\n",
      "0\n",
      "7\n",
      "0\n",
      "0\n",
      "0\n",
      "41\n",
      "45\n",
      "0\n",
      "16\n",
      "2\n",
      "0\n",
      "14\n",
      "0\n",
      "0\n",
      "0\n",
      "15\n",
      "3\n",
      "0\n",
      "0\n",
      "0\n",
      "0\n",
      "0\n",
      "0\n",
      "0\n",
      "5\n",
      "5\n",
      "23\n",
      "0\n",
      "0\n"
     ]
    }
   ],
   "source": [
    "def get_df_len(df):\n",
    "    if df is None:\n",
    "        return 0\n",
    "    return (df.shape)[0]\n",
    "\n",
    "for problem in problem_list:\n",
    "    print(get_df_len(problem.solve()))"
   ],
   "metadata": {
    "collapsed": false,
    "pycharm": {
     "name": "#%%\n"
    }
   }
  }
 ],
 "metadata": {
  "kernelspec": {
   "display_name": "Python 3",
   "language": "python",
   "name": "python3"
  },
  "language_info": {
   "codemirror_mode": {
    "name": "ipython",
    "version": 2
   },
   "file_extension": ".py",
   "mimetype": "text/x-python",
   "name": "python",
   "nbconvert_exporter": "python",
   "pygments_lexer": "ipython2",
   "version": "2.7.6"
  }
 },
 "nbformat": 4,
 "nbformat_minor": 0
}
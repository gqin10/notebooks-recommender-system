{
 "cells": [
  {
   "cell_type": "code",
   "execution_count": 1,
   "outputs": [],
   "source": [
    "import pandas as pd\n",
    "from Constraint import Problem, Constraint\n",
    "from Nature import attribute_nature"
   ],
   "metadata": {
    "collapsed": false,
    "pycharm": {
     "name": "#%%\n"
    }
   }
  },
  {
   "cell_type": "code",
   "execution_count": 2,
   "outputs": [],
   "source": [
    "experiment_constraint_data = pd.read_csv('./experiment_constraint_data.csv')"
   ],
   "metadata": {
    "collapsed": false,
    "pycharm": {
     "name": "#%%\n"
    }
   }
  },
  {
   "cell_type": "code",
   "execution_count": 3,
   "outputs": [
    {
     "data": {
      "text/plain": "          name      value  priority  constraint_no\n0          ram         64         3              0\n1  screen_size      13.71         4              0\n2      storage        512         5              0\n3          cpu         i7         5              0\n4           os         10         5              0\n5  screen_size       15.6         1              1\n6        brand  microsoft         4              1\n7          cpu    pentium         3              1\n8      storage       1024         2              1\n9        price    2368.59         1              1",
      "text/html": "<div>\n<style scoped>\n    .dataframe tbody tr th:only-of-type {\n        vertical-align: middle;\n    }\n\n    .dataframe tbody tr th {\n        vertical-align: top;\n    }\n\n    .dataframe thead th {\n        text-align: right;\n    }\n</style>\n<table border=\"1\" class=\"dataframe\">\n  <thead>\n    <tr style=\"text-align: right;\">\n      <th></th>\n      <th>name</th>\n      <th>value</th>\n      <th>priority</th>\n      <th>constraint_no</th>\n    </tr>\n  </thead>\n  <tbody>\n    <tr>\n      <th>0</th>\n      <td>ram</td>\n      <td>64</td>\n      <td>3</td>\n      <td>0</td>\n    </tr>\n    <tr>\n      <th>1</th>\n      <td>screen_size</td>\n      <td>13.71</td>\n      <td>4</td>\n      <td>0</td>\n    </tr>\n    <tr>\n      <th>2</th>\n      <td>storage</td>\n      <td>512</td>\n      <td>5</td>\n      <td>0</td>\n    </tr>\n    <tr>\n      <th>3</th>\n      <td>cpu</td>\n      <td>i7</td>\n      <td>5</td>\n      <td>0</td>\n    </tr>\n    <tr>\n      <th>4</th>\n      <td>os</td>\n      <td>10</td>\n      <td>5</td>\n      <td>0</td>\n    </tr>\n    <tr>\n      <th>5</th>\n      <td>screen_size</td>\n      <td>15.6</td>\n      <td>1</td>\n      <td>1</td>\n    </tr>\n    <tr>\n      <th>6</th>\n      <td>brand</td>\n      <td>microsoft</td>\n      <td>4</td>\n      <td>1</td>\n    </tr>\n    <tr>\n      <th>7</th>\n      <td>cpu</td>\n      <td>pentium</td>\n      <td>3</td>\n      <td>1</td>\n    </tr>\n    <tr>\n      <th>8</th>\n      <td>storage</td>\n      <td>1024</td>\n      <td>2</td>\n      <td>1</td>\n    </tr>\n    <tr>\n      <th>9</th>\n      <td>price</td>\n      <td>2368.59</td>\n      <td>1</td>\n      <td>1</td>\n    </tr>\n  </tbody>\n</table>\n</div>"
     },
     "execution_count": 3,
     "metadata": {},
     "output_type": "execute_result"
    }
   ],
   "source": [
    "experiment_constraint_data.head(10)"
   ],
   "metadata": {
    "collapsed": false,
    "pycharm": {
     "name": "#%%\n"
    }
   }
  },
  {
   "cell_type": "code",
   "execution_count": 4,
   "outputs": [],
   "source": [
    "problem_list = list()\n",
    "unique_constraint_no = experiment_constraint_data['constraint_no'].unique()\n",
    "for no in unique_constraint_no:\n",
    "    problem: Problem = Problem()\n",
    "    constraint_list = list()\n",
    "    for index, item in experiment_constraint_data[experiment_constraint_data['constraint_no'] == no].iterrows():\n",
    "        constraint = None\n",
    "        if item.get('name') in ['brand', 'cpu','gpu','os']:\n",
    "            constraint: Constraint = Constraint(item.get('name'), item.get('value'), item.get('priority'),\n",
    "                                                attribute_nature.get(item.get('name')))\n",
    "        elif item.get('name') in ['storage', 'ram','price','weight']:\n",
    "            constraint: Constraint = Constraint(item.get('name'), float(item.get('value')), item.get('priority'),\n",
    "                                                attribute_nature.get(item.get('name')))\n",
    "        elif item.get('name') in ['camera']:\n",
    "            constraint: Constraint = Constraint(item.get('name'), bool(item.get('value')), item.get('priority'),\n",
    "                                                attribute_nature.get(item.get('name')))\n",
    "        if constraint != None:\n",
    "            constraint_list.append(constraint)\n",
    "    cl_set = set(constraint_list)\n",
    "    problem.constraint_list = set(constraint_list)\n",
    "    problem_list.append(problem)"
   ],
   "metadata": {
    "collapsed": false,
    "pycharm": {
     "name": "#%%\n"
    }
   }
  },
  {
   "cell_type": "code",
   "execution_count": 5,
   "outputs": [
    {
     "name": "stdout",
     "output_type": "stream",
     "text": [
      "0\n",
      "0\n",
      "0\n",
      "0\n",
      "10\n",
      "25\n",
      "5\n",
      "0\n",
      "0\n",
      "3\n",
      "0\n"
     ]
    },
    {
     "ename": "TypeError",
     "evalue": "unsupported operand type(s) for -: 'str' and 'float'",
     "output_type": "error",
     "traceback": [
      "\u001B[1;31m---------------------------------------------------------------------------\u001B[0m",
      "\u001B[1;31mTypeError\u001B[0m                                 Traceback (most recent call last)",
      "Input \u001B[1;32mIn [5]\u001B[0m, in \u001B[0;36m<cell line: 6>\u001B[1;34m()\u001B[0m\n\u001B[0;32m      4\u001B[0m     \u001B[38;5;28;01mreturn\u001B[39;00m (df\u001B[38;5;241m.\u001B[39mshape)[\u001B[38;5;241m0\u001B[39m]\n\u001B[0;32m      6\u001B[0m \u001B[38;5;28;01mfor\u001B[39;00m problem \u001B[38;5;129;01min\u001B[39;00m problem_list:\n\u001B[1;32m----> 7\u001B[0m     \u001B[38;5;28mprint\u001B[39m(get_df_len(\u001B[43mproblem\u001B[49m\u001B[38;5;241;43m.\u001B[39;49m\u001B[43msolve\u001B[49m\u001B[43m(\u001B[49m\u001B[43m)\u001B[49m))\n",
      "File \u001B[1;32m~\\OneDrive\\Documents\\SWE Y4 S1\\FYP\\FYP2\\notebooks-recommender-system\\Constraint.py:42\u001B[0m, in \u001B[0;36mProblem.solve\u001B[1;34m(self)\u001B[0m\n\u001B[0;32m     40\u001B[0m \u001B[38;5;28;01mdef\u001B[39;00m \u001B[38;5;21msolve\u001B[39m(\u001B[38;5;28mself\u001B[39m):\n\u001B[0;32m     41\u001B[0m     solution \u001B[38;5;241m=\u001B[39m item_extrator\u001B[38;5;241m.\u001B[39mextract_notebooks(\u001B[38;5;28mself\u001B[39m\u001B[38;5;241m.\u001B[39mconstraint_list)\n\u001B[1;32m---> 42\u001B[0m     solution \u001B[38;5;241m=\u001B[39m \u001B[43mcompute_similarity\u001B[49m\u001B[43m(\u001B[49m\u001B[38;5;28;43mself\u001B[39;49m\u001B[38;5;241;43m.\u001B[39;49m\u001B[43mconstraint_list\u001B[49m\u001B[43m,\u001B[49m\u001B[43m \u001B[49m\u001B[43msolution\u001B[49m\u001B[43m)\u001B[49m\n\u001B[0;32m     43\u001B[0m     \u001B[38;5;28;01mif\u001B[39;00m \u001B[38;5;129;01mnot\u001B[39;00m solution \u001B[38;5;129;01mis\u001B[39;00m \u001B[38;5;28;01mNone\u001B[39;00m:\n\u001B[0;32m     44\u001B[0m         solution \u001B[38;5;241m=\u001B[39m solution\u001B[38;5;241m.\u001B[39msort_values(by\u001B[38;5;241m=\u001B[39m[\u001B[38;5;124m'\u001B[39m\u001B[38;5;124msimilarity\u001B[39m\u001B[38;5;124m'\u001B[39m])\n",
      "File \u001B[1;32m~\\OneDrive\\Documents\\SWE Y4 S1\\FYP\\FYP2\\notebooks-recommender-system\\similarity_calculator.py:37\u001B[0m, in \u001B[0;36mcompute_similarity\u001B[1;34m(constraint_list, item_list)\u001B[0m\n\u001B[0;32m     35\u001B[0m     min_value \u001B[38;5;241m=\u001B[39m \u001B[38;5;28mmin\u001B[39m(NOTEBOOK_LIST[key \u001B[38;5;241m+\u001B[39m \u001B[38;5;124m'\u001B[39m\u001B[38;5;124m_average\u001B[39m\u001B[38;5;124m'\u001B[39m])\n\u001B[0;32m     36\u001B[0m     max_value \u001B[38;5;241m=\u001B[39m \u001B[38;5;28mmax\u001B[39m(NOTEBOOK_LIST[key \u001B[38;5;241m+\u001B[39m \u001B[38;5;124m'\u001B[39m\u001B[38;5;124m_average\u001B[39m\u001B[38;5;124m'\u001B[39m])\n\u001B[1;32m---> 37\u001B[0m     diff \u001B[38;5;241m=\u001B[39m (\u001B[43mconstraint\u001B[49m\u001B[38;5;241;43m.\u001B[39;49m\u001B[43mvalue\u001B[49m\u001B[43m \u001B[49m\u001B[38;5;241;43m-\u001B[39;49m\u001B[43m \u001B[49m\u001B[43mmin_value\u001B[49m) \u001B[38;5;241m/\u001B[39m (max_value \u001B[38;5;241m-\u001B[39m min_value)\n\u001B[0;32m     38\u001B[0m \u001B[38;5;28;01melif\u001B[39;00m constraint\u001B[38;5;241m.\u001B[39mname \u001B[38;5;129;01min\u001B[39;00m [\u001B[38;5;124m\"\u001B[39m\u001B[38;5;124mram\u001B[39m\u001B[38;5;124m\"\u001B[39m, \u001B[38;5;124m\"\u001B[39m\u001B[38;5;124mstorage\u001B[39m\u001B[38;5;124m\"\u001B[39m, \u001B[38;5;124m\"\u001B[39m\u001B[38;5;124mprice\u001B[39m\u001B[38;5;124m\"\u001B[39m, \u001B[38;5;124m\"\u001B[39m\u001B[38;5;124mweight\u001B[39m\u001B[38;5;124m\"\u001B[39m, \u001B[38;5;124m\"\u001B[39m\u001B[38;5;124mscreen_size\u001B[39m\u001B[38;5;124m\"\u001B[39m]:\n\u001B[0;32m     39\u001B[0m     min_value \u001B[38;5;241m=\u001B[39m \u001B[38;5;28mmin\u001B[39m(NOTEBOOK_LIST[constraint\u001B[38;5;241m.\u001B[39mname])\n",
      "\u001B[1;31mTypeError\u001B[0m: unsupported operand type(s) for -: 'str' and 'float'"
     ]
    }
   ],
   "source": [
    "def get_df_len(df):\n",
    "    if df is None:\n",
    "        return 0\n",
    "    return (df.shape)[0]\n",
    "\n",
    "for problem in problem_list:\n",
    "    print(get_df_len(problem.solve()))"
   ],
   "metadata": {
    "collapsed": false,
    "pycharm": {
     "name": "#%%\n"
    }
   }
  }
 ],
 "metadata": {
  "kernelspec": {
   "display_name": "Python 3",
   "language": "python",
   "name": "python3"
  },
  "language_info": {
   "codemirror_mode": {
    "name": "ipython",
    "version": 2
   },
   "file_extension": ".py",
   "mimetype": "text/x-python",
   "name": "python",
   "nbconvert_exporter": "python",
   "pygments_lexer": "ipython2",
   "version": "2.7.6"
  }
 },
 "nbformat": 4,
 "nbformat_minor": 0
}
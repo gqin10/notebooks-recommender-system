{
 "cells": [
  {
   "cell_type": "code",
   "execution_count": 1,
   "outputs": [],
   "source": [
    "import pandas as pd\n",
    "from Constraint import Problem, Constraint\n",
    "from Nature import attribute_nature"
   ],
   "metadata": {
    "collapsed": false,
    "pycharm": {
     "name": "#%%\n"
    }
   }
  },
  {
   "cell_type": "code",
   "execution_count": 2,
   "outputs": [],
   "source": [
    "experiment_constraint_data = pd.read_csv('./experiment_constraint_data.csv')"
   ],
   "metadata": {
    "collapsed": false,
    "pycharm": {
     "name": "#%%\n"
    }
   }
  },
  {
   "cell_type": "code",
   "execution_count": 3,
   "outputs": [
    {
     "data": {
      "text/plain": "          name       value  priority  constraint_no\n0  screen_size        14.4         4              0\n1          ram          64         3              0\n2           os          11         2              0\n3          cpu  i7|ryzen 7         5              0\n4          ram           2         2              1\n5        price      2699.0         3              1\n6  screen_size       15.16         2              1\n7       weight        2.06         1              1\n8           os          os         1              2\n9       camera        True         3              2",
      "text/html": "<div>\n<style scoped>\n    .dataframe tbody tr th:only-of-type {\n        vertical-align: middle;\n    }\n\n    .dataframe tbody tr th {\n        vertical-align: top;\n    }\n\n    .dataframe thead th {\n        text-align: right;\n    }\n</style>\n<table border=\"1\" class=\"dataframe\">\n  <thead>\n    <tr style=\"text-align: right;\">\n      <th></th>\n      <th>name</th>\n      <th>value</th>\n      <th>priority</th>\n      <th>constraint_no</th>\n    </tr>\n  </thead>\n  <tbody>\n    <tr>\n      <th>0</th>\n      <td>screen_size</td>\n      <td>14.4</td>\n      <td>4</td>\n      <td>0</td>\n    </tr>\n    <tr>\n      <th>1</th>\n      <td>ram</td>\n      <td>64</td>\n      <td>3</td>\n      <td>0</td>\n    </tr>\n    <tr>\n      <th>2</th>\n      <td>os</td>\n      <td>11</td>\n      <td>2</td>\n      <td>0</td>\n    </tr>\n    <tr>\n      <th>3</th>\n      <td>cpu</td>\n      <td>i7|ryzen 7</td>\n      <td>5</td>\n      <td>0</td>\n    </tr>\n    <tr>\n      <th>4</th>\n      <td>ram</td>\n      <td>2</td>\n      <td>2</td>\n      <td>1</td>\n    </tr>\n    <tr>\n      <th>5</th>\n      <td>price</td>\n      <td>2699.0</td>\n      <td>3</td>\n      <td>1</td>\n    </tr>\n    <tr>\n      <th>6</th>\n      <td>screen_size</td>\n      <td>15.16</td>\n      <td>2</td>\n      <td>1</td>\n    </tr>\n    <tr>\n      <th>7</th>\n      <td>weight</td>\n      <td>2.06</td>\n      <td>1</td>\n      <td>1</td>\n    </tr>\n    <tr>\n      <th>8</th>\n      <td>os</td>\n      <td>os</td>\n      <td>1</td>\n      <td>2</td>\n    </tr>\n    <tr>\n      <th>9</th>\n      <td>camera</td>\n      <td>True</td>\n      <td>3</td>\n      <td>2</td>\n    </tr>\n  </tbody>\n</table>\n</div>"
     },
     "execution_count": 3,
     "metadata": {},
     "output_type": "execute_result"
    }
   ],
   "source": [
    "experiment_constraint_data.head(10)"
   ],
   "metadata": {
    "collapsed": false,
    "pycharm": {
     "name": "#%%\n"
    }
   }
  },
  {
   "cell_type": "code",
   "execution_count": 6,
   "outputs": [],
   "source": [
    "problem_list = list()\n",
    "unique_constraint_no = experiment_constraint_data['constraint_no'].unique()\n",
    "for no in unique_constraint_no:\n",
    "    problem: Problem = Problem()\n",
    "    constraint_list = list()\n",
    "    for index, item in experiment_constraint_data[experiment_constraint_data['constraint_no'] == no].iterrows():\n",
    "        constraint = None\n",
    "        if item.get('name') in ['brand', 'cpu','gpu','os']:\n",
    "            constraint: Constraint = Constraint(item.get('name'), item.get('value'), item.get('priority'),\n",
    "                                                attribute_nature.get(item.get('name')))\n",
    "        elif item.get('name') in ['storage', 'ram','price','weight']:\n",
    "            constraint: Constraint = Constraint(item.get('name'), float(item.get('value')), item.get('priority'),\n",
    "                                                attribute_nature.get(item.get('name')))\n",
    "        elif item.get('name') in ['camera']:\n",
    "            constraint: Constraint = Constraint(item.get('name'), bool(item.get('value')), item.get('priority'),\n",
    "                                                attribute_nature.get(item.get('name')))\n",
    "        constraint_list.append(constraint)\n",
    "    problem.add_constraint_list(constraint_list)\n",
    "    problem_list.append(problem)"
   ],
   "metadata": {
    "collapsed": false,
    "pycharm": {
     "name": "#%%\n"
    }
   }
  },
  {
   "cell_type": "code",
   "execution_count": 7,
   "outputs": [
    {
     "name": "stdout",
     "output_type": "stream",
     "text": [
      "137\n",
      "137\n",
      "137\n",
      "137\n",
      "137\n",
      "137\n",
      "137\n",
      "137\n",
      "137\n",
      "137\n",
      "137\n",
      "137\n",
      "137\n",
      "137\n",
      "137\n",
      "137\n",
      "137\n",
      "137\n",
      "137\n",
      "137\n",
      "137\n",
      "137\n",
      "137\n",
      "137\n",
      "137\n",
      "137\n",
      "137\n",
      "137\n",
      "137\n",
      "137\n",
      "137\n",
      "137\n",
      "137\n",
      "137\n",
      "137\n",
      "137\n",
      "137\n",
      "137\n",
      "137\n",
      "137\n",
      "137\n",
      "137\n",
      "137\n",
      "137\n",
      "137\n",
      "137\n",
      "137\n",
      "137\n",
      "137\n",
      "137\n",
      "137\n",
      "137\n",
      "137\n",
      "137\n",
      "137\n",
      "137\n",
      "137\n",
      "137\n",
      "137\n",
      "137\n",
      "137\n",
      "137\n",
      "137\n",
      "137\n",
      "137\n",
      "137\n",
      "137\n",
      "137\n",
      "137\n",
      "137\n",
      "137\n",
      "137\n",
      "137\n",
      "137\n",
      "137\n",
      "137\n",
      "137\n",
      "137\n",
      "137\n",
      "137\n",
      "137\n",
      "137\n",
      "137\n",
      "137\n",
      "137\n",
      "137\n",
      "137\n",
      "137\n",
      "137\n",
      "137\n",
      "137\n",
      "137\n",
      "137\n",
      "137\n",
      "137\n",
      "137\n",
      "137\n",
      "137\n",
      "137\n",
      "137\n",
      "137\n",
      "137\n",
      "137\n",
      "137\n",
      "137\n",
      "137\n",
      "137\n",
      "137\n",
      "137\n",
      "137\n",
      "137\n",
      "137\n",
      "137\n",
      "137\n",
      "137\n",
      "137\n",
      "137\n",
      "137\n",
      "137\n",
      "137\n",
      "137\n",
      "137\n",
      "137\n",
      "137\n",
      "137\n",
      "137\n",
      "137\n",
      "137\n",
      "137\n",
      "137\n",
      "137\n",
      "137\n",
      "137\n",
      "137\n",
      "137\n",
      "137\n",
      "137\n"
     ]
    }
   ],
   "source": [
    "def get_df_len(df):\n",
    "    if df is None:\n",
    "        return 0\n",
    "    return (df.shape)[0]\n",
    "\n",
    "for problem in problem_list:\n",
    "    print(get_df_len(problem.solve()))"
   ],
   "metadata": {
    "collapsed": false,
    "pycharm": {
     "name": "#%%\n"
    }
   }
  },
  {
   "cell_type": "code",
   "execution_count": null,
   "outputs": [],
   "source": [],
   "metadata": {
    "collapsed": false,
    "pycharm": {
     "name": "#%%\n"
    }
   }
  }
 ],
 "metadata": {
  "kernelspec": {
   "display_name": "Python 3",
   "language": "python",
   "name": "python3"
  },
  "language_info": {
   "codemirror_mode": {
    "name": "ipython",
    "version": 2
   },
   "file_extension": ".py",
   "mimetype": "text/x-python",
   "name": "python",
   "nbconvert_exporter": "python",
   "pygments_lexer": "ipython2",
   "version": "2.7.6"
  }
 },
 "nbformat": 4,
 "nbformat_minor": 0
}
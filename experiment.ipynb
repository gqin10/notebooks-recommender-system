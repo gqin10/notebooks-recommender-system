{
 "cells": [
  {
   "cell_type": "code",
   "execution_count": 1,
   "outputs": [],
   "source": [
    "import pandas as pd\n",
    "from Constraint import Problem, Constraint\n",
    "from Nature import attribute_nature\n",
    "import copy\n",
    "from constraint_relax import search_mfs\n",
    "from item_extrator import data_path, dummy_data_path"
   ],
   "metadata": {
    "collapsed": false,
    "pycharm": {
     "name": "#%%\n"
    }
   }
  },
  {
   "cell_type": "code",
   "execution_count": 2,
   "outputs": [],
   "source": [
    "experiment_constraint_data = pd.read_csv('./experiment_constraint_data.csv')"
   ],
   "metadata": {
    "collapsed": false,
    "pycharm": {
     "name": "#%%\n"
    }
   }
  },
  {
   "cell_type": "code",
   "execution_count": 3,
   "outputs": [],
   "source": [
    "problem_list = list()\n",
    "unique_constraint_no = experiment_constraint_data['constraint_no'].unique()\n",
    "for no in unique_constraint_no:\n",
    "    problem: Problem = Problem()\n",
    "    constraint_list = list()\n",
    "    for index, item in experiment_constraint_data[experiment_constraint_data['constraint_no'] == no].iterrows():\n",
    "        constraint = None\n",
    "        if item.get('name') in ['brand', 'cpu','gpu','os']:\n",
    "            constraint: Constraint = Constraint(item.get('name'), item.get('value'), item.get('priority'),\n",
    "                                                attribute_nature.get(item.get('name')))\n",
    "        elif item.get('name') in ['storage', 'ram','price','weight']:\n",
    "            constraint: Constraint = Constraint(item.get('name'), float(item.get('value')), item.get('priority'),\n",
    "                                                attribute_nature.get(item.get('name')))\n",
    "        elif item.get('name') in ['camera']:\n",
    "            constraint: Constraint = Constraint(item.get('name'), bool(item.get('value')), item.get('priority'),\n",
    "                                                attribute_nature.get(item.get('name')))\n",
    "        if constraint != None:\n",
    "            constraint_list.append(constraint)\n",
    "    cl_set = set(constraint_list)\n",
    "    problem.constraint_list = set(constraint_list)\n",
    "    problem_list.append(problem)"
   ],
   "metadata": {
    "collapsed": false,
    "pycharm": {
     "name": "#%%\n"
    }
   }
  },
  {
   "cell_type": "code",
   "execution_count": 4,
   "outputs": [],
   "source": [
    "def get_df_len(df):\n",
    "    if df is None:\n",
    "        return 0\n",
    "    return (df.shape)[0]\n",
    "\n",
    "sol_list = []\n",
    "threshold_list = [0, 0.5, 1]\n",
    "for problem in problem_list:\n",
    "    prob_sol_list = []\n",
    "    p1 = copy.deepcopy(problem) # original constraint\n",
    "    prob_sol_list.append(p1.constraint_list)\n",
    "    prob_sol_list.append(get_df_len(p1.solve()))\n",
    "\n",
    "    for threshold in threshold_list:\n",
    "        p = copy.deepcopy(problem)\n",
    "        mfs = search_mfs(p.constraint_list, copy.copy(p.constraint_list), data_path)\n",
    "        p.relax(mfs, threshold)\n",
    "        prob_sol_list.append(p.constraint_list)\n",
    "        prob_sol_list.append(get_df_len(p.solve()))\n",
    "    sol_list.append(prob_sol_list)\n",
    "result = pd.DataFrame(sol_list)"
   ],
   "metadata": {
    "collapsed": false,
    "pycharm": {
     "name": "#%%\n"
    }
   }
  },
  {
   "cell_type": "code",
   "execution_count": 5,
   "outputs": [
    {
     "data": {
      "text/plain": "                                                     0   1  \\\n0    {storage: 512.0: 5: Nature.MORE, cpu: i7: 5: N...   0   \n1    {cpu: pentium: 3: Nature.EQUAL, os: os: 3: Nat...   0   \n2    {storage: 1024.0: 3: Nature.MORE, ram: 2.0: 1:...   0   \n3    {camera: True: 4: Nature.EQUAL, cpu: ryzen 3: ...   0   \n4    {price: 4965.89: 2: Nature.LESS, brand: asus|h...  10   \n..                                                 ...  ..   \n132  {os: 11: 3: Nature.EQUAL, storage: 256.0: 3: N...   5   \n133  {storage: 256.0: 2: Nature.MORE, cpu: i7|i5: 2...   5   \n134  {ram: 8.0: 3: Nature.MORE, storage: 64.0: 5: N...  23   \n135  {price: 7399.0: 2: Nature.LESS, brand: acer|le...   0   \n136  {camera: True: 5: Nature.EQUAL, cpu: ryzen 5|r...   0   \n\n                                                     2   3  \\\n0    {os: 10: 5: Nature.EQUAL, storage: 512.0: 5: N...   1   \n1    {brand: microsoft: 4: Nature.EQUAL, ram: 4.0: ...   0   \n2    {storage: 512: 3: Nature.MORE, ram: 2.0: 1: Na...   6   \n3    {camera: True: 4: Nature.EQUAL, ram: 16.0: 5: ...   6   \n4    {brand: asus|huawei|microsoft|msi: 3: Nature.E...  11   \n..                                                 ...  ..   \n132  {storage: 256.0: 3: Nature.MORE, os: 11: 3: Na...   9   \n133  {storage: 256.0: 2: Nature.MORE, price: 7341.5...   6   \n134  {weight: 1.45: 5: Nature.LESS, brand: hp|huawe...  24   \n135  {price: 7949.0: 2: Nature.LESS, brand: acer|le...   0   \n136  {storage: 512: 3: Nature.MORE, brand: asus|len...   1   \n\n                                                     4   5  \\\n0    {storage: 512.0: 5: Nature.MORE, ram: 32: 3: N...   1   \n1    {price: : 1: Nature.LESS, brand: microsoft: 4:...   0   \n2    {storage: 512: 3: Nature.MORE, brand: lenovo|m...   6   \n3    {storage: 256.0: 5: Nature.MORE, cpu: : 2: Nat...  26   \n4    {brand: asus|huawei|microsoft|msi: 3: Nature.E...  12   \n..                                                 ...  ..   \n132  {brand: : 1: Nature.EQUAL, ram: 4.0: 4: Nature...   9   \n133  {weight: 1.44: 4: Nature.LESS, cpu: i7|i5: 2: ...   5   \n134  {camera: True: 3: Nature.EQUAL, storage: 64.0:...  24   \n135  {brand: acer|lenovo|microsoft|dell: 1: Nature....   1   \n136  {brand: asus|lenovo|dell|hp: 3: Nature.EQUAL, ...   1   \n\n                                                     6   7  \n0    {storage: 512.0: 5: Nature.MORE, ram: : 3: Nat...  19  \n1    {os: : 3: Nature.EQUAL, brand: microsoft: 4: N...   1  \n2    {os: : 3: Nature.EQUAL, brand: : 3: Nature.EQU...   3  \n3    {ram: 16.0: 5: Nature.MORE, storage: 256.0: 5:...  26  \n4    {weight: 1.3: 2: Nature.LESS, camera: True: 3:...  12  \n..                                                 ...  ..  \n132  {storage: 256.0: 3: Nature.MORE, price: 2911.6...   9  \n133  {os: : 2: Nature.EQUAL, weight: 1.44: 4: Natur...  25  \n134  {storage: 64.0: 5: Nature.MORE, brand: hp|huaw...  25  \n135  {brand: acer|lenovo|microsoft|dell: 1: Nature....   1  \n136  {camera: True: 5: Nature.EQUAL, storage: : 3: ...   1  \n\n[137 rows x 8 columns]",
      "text/html": "<div>\n<style scoped>\n    .dataframe tbody tr th:only-of-type {\n        vertical-align: middle;\n    }\n\n    .dataframe tbody tr th {\n        vertical-align: top;\n    }\n\n    .dataframe thead th {\n        text-align: right;\n    }\n</style>\n<table border=\"1\" class=\"dataframe\">\n  <thead>\n    <tr style=\"text-align: right;\">\n      <th></th>\n      <th>0</th>\n      <th>1</th>\n      <th>2</th>\n      <th>3</th>\n      <th>4</th>\n      <th>5</th>\n      <th>6</th>\n      <th>7</th>\n    </tr>\n  </thead>\n  <tbody>\n    <tr>\n      <th>0</th>\n      <td>{storage: 512.0: 5: Nature.MORE, cpu: i7: 5: N...</td>\n      <td>0</td>\n      <td>{os: 10: 5: Nature.EQUAL, storage: 512.0: 5: N...</td>\n      <td>1</td>\n      <td>{storage: 512.0: 5: Nature.MORE, ram: 32: 3: N...</td>\n      <td>1</td>\n      <td>{storage: 512.0: 5: Nature.MORE, ram: : 3: Nat...</td>\n      <td>19</td>\n    </tr>\n    <tr>\n      <th>1</th>\n      <td>{cpu: pentium: 3: Nature.EQUAL, os: os: 3: Nat...</td>\n      <td>0</td>\n      <td>{brand: microsoft: 4: Nature.EQUAL, ram: 4.0: ...</td>\n      <td>0</td>\n      <td>{price: : 1: Nature.LESS, brand: microsoft: 4:...</td>\n      <td>0</td>\n      <td>{os: : 3: Nature.EQUAL, brand: microsoft: 4: N...</td>\n      <td>1</td>\n    </tr>\n    <tr>\n      <th>2</th>\n      <td>{storage: 1024.0: 3: Nature.MORE, ram: 2.0: 1:...</td>\n      <td>0</td>\n      <td>{storage: 512: 3: Nature.MORE, ram: 2.0: 1: Na...</td>\n      <td>6</td>\n      <td>{storage: 512: 3: Nature.MORE, brand: lenovo|m...</td>\n      <td>6</td>\n      <td>{os: : 3: Nature.EQUAL, brand: : 3: Nature.EQU...</td>\n      <td>3</td>\n    </tr>\n    <tr>\n      <th>3</th>\n      <td>{camera: True: 4: Nature.EQUAL, cpu: ryzen 3: ...</td>\n      <td>0</td>\n      <td>{camera: True: 4: Nature.EQUAL, ram: 16.0: 5: ...</td>\n      <td>6</td>\n      <td>{storage: 256.0: 5: Nature.MORE, cpu: : 2: Nat...</td>\n      <td>26</td>\n      <td>{ram: 16.0: 5: Nature.MORE, storage: 256.0: 5:...</td>\n      <td>26</td>\n    </tr>\n    <tr>\n      <th>4</th>\n      <td>{price: 4965.89: 2: Nature.LESS, brand: asus|h...</td>\n      <td>10</td>\n      <td>{brand: asus|huawei|microsoft|msi: 3: Nature.E...</td>\n      <td>11</td>\n      <td>{brand: asus|huawei|microsoft|msi: 3: Nature.E...</td>\n      <td>12</td>\n      <td>{weight: 1.3: 2: Nature.LESS, camera: True: 3:...</td>\n      <td>12</td>\n    </tr>\n    <tr>\n      <th>...</th>\n      <td>...</td>\n      <td>...</td>\n      <td>...</td>\n      <td>...</td>\n      <td>...</td>\n      <td>...</td>\n      <td>...</td>\n      <td>...</td>\n    </tr>\n    <tr>\n      <th>132</th>\n      <td>{os: 11: 3: Nature.EQUAL, storage: 256.0: 3: N...</td>\n      <td>5</td>\n      <td>{storage: 256.0: 3: Nature.MORE, os: 11: 3: Na...</td>\n      <td>9</td>\n      <td>{brand: : 1: Nature.EQUAL, ram: 4.0: 4: Nature...</td>\n      <td>9</td>\n      <td>{storage: 256.0: 3: Nature.MORE, price: 2911.6...</td>\n      <td>9</td>\n    </tr>\n    <tr>\n      <th>133</th>\n      <td>{storage: 256.0: 2: Nature.MORE, cpu: i7|i5: 2...</td>\n      <td>5</td>\n      <td>{storage: 256.0: 2: Nature.MORE, price: 7341.5...</td>\n      <td>6</td>\n      <td>{weight: 1.44: 4: Nature.LESS, cpu: i7|i5: 2: ...</td>\n      <td>5</td>\n      <td>{os: : 2: Nature.EQUAL, weight: 1.44: 4: Natur...</td>\n      <td>25</td>\n    </tr>\n    <tr>\n      <th>134</th>\n      <td>{ram: 8.0: 3: Nature.MORE, storage: 64.0: 5: N...</td>\n      <td>23</td>\n      <td>{weight: 1.45: 5: Nature.LESS, brand: hp|huawe...</td>\n      <td>24</td>\n      <td>{camera: True: 3: Nature.EQUAL, storage: 64.0:...</td>\n      <td>24</td>\n      <td>{storage: 64.0: 5: Nature.MORE, brand: hp|huaw...</td>\n      <td>25</td>\n    </tr>\n    <tr>\n      <th>135</th>\n      <td>{price: 7399.0: 2: Nature.LESS, brand: acer|le...</td>\n      <td>0</td>\n      <td>{price: 7949.0: 2: Nature.LESS, brand: acer|le...</td>\n      <td>0</td>\n      <td>{brand: acer|lenovo|microsoft|dell: 1: Nature....</td>\n      <td>1</td>\n      <td>{brand: acer|lenovo|microsoft|dell: 1: Nature....</td>\n      <td>1</td>\n    </tr>\n    <tr>\n      <th>136</th>\n      <td>{camera: True: 5: Nature.EQUAL, cpu: ryzen 5|r...</td>\n      <td>0</td>\n      <td>{storage: 512: 3: Nature.MORE, brand: asus|len...</td>\n      <td>1</td>\n      <td>{brand: asus|lenovo|dell|hp: 3: Nature.EQUAL, ...</td>\n      <td>1</td>\n      <td>{camera: True: 5: Nature.EQUAL, storage: : 3: ...</td>\n      <td>1</td>\n    </tr>\n  </tbody>\n</table>\n<p>137 rows × 8 columns</p>\n</div>"
     },
     "execution_count": 5,
     "metadata": {},
     "output_type": "execute_result"
    }
   ],
   "source": [
    "result"
   ],
   "metadata": {
    "collapsed": false,
    "pycharm": {
     "name": "#%%\n"
    }
   }
  },
  {
   "cell_type": "code",
   "execution_count": 5,
   "outputs": [],
   "source": [],
   "metadata": {
    "collapsed": false,
    "pycharm": {
     "name": "#%%\n"
    }
   }
  }
 ],
 "metadata": {
  "kernelspec": {
   "display_name": "Python 3",
   "language": "python",
   "name": "python3"
  },
  "language_info": {
   "codemirror_mode": {
    "name": "ipython",
    "version": 2
   },
   "file_extension": ".py",
   "mimetype": "text/x-python",
   "name": "python",
   "nbconvert_exporter": "python",
   "pygments_lexer": "ipython2",
   "version": "2.7.6"
  }
 },
 "nbformat": 4,
 "nbformat_minor": 0
}
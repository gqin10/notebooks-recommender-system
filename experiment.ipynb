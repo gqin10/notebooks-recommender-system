{
 "cells": [
  {
   "cell_type": "code",
   "execution_count": 1,
   "outputs": [],
   "source": [
    "import copy\n",
    "\n",
    "import pandas as pd\n",
    "\n",
    "from constraint_relax import search_mfs\n",
    "from experiment_constraint_data_processor import process_experiment_constraint_data\n",
    "from item_extrator import data_path\n",
    "from similarity_calculator import compute_similarity\n",
    "from utils import get_df_len"
   ],
   "metadata": {
    "collapsed": false,
    "pycharm": {
     "name": "#%%\n"
    }
   }
  },
  {
   "cell_type": "code",
   "execution_count": 2,
   "outputs": [],
   "source": [
    "problem_list = process_experiment_constraint_data('./experiment_constraint_data.csv')"
   ],
   "metadata": {
    "collapsed": false,
    "pycharm": {
     "name": "#%%\n"
    }
   }
  },
  {
   "cell_type": "code",
   "execution_count": 3,
   "outputs": [],
   "source": [
    "sol_list = []\n",
    "threshold_list = [0, 0.5, 1]\n",
    "for problem in problem_list:\n",
    "    prob_sol_list = []\n",
    "    p1 = copy.deepcopy(problem) # original constraint\n",
    "    prob_sol_list.append(p1.constraint_list)\n",
    "    prob_sol_list.append(get_df_len(p1.solve()))\n",
    "\n",
    "    for threshold in threshold_list:\n",
    "        p = copy.deepcopy(problem)\n",
    "        mfs = search_mfs(p.constraint_list, copy.copy(p.constraint_list), data_path)\n",
    "        p.relax(mfs, threshold)\n",
    "        prob_sol_list.append(p.constraint_list)\n",
    "        prob_items = p.solve()\n",
    "        prob_sol_list.append(get_df_len(prob_items))\n",
    "        if not prob_items is None:\n",
    "            prob_sol_list.append((compute_similarity(p.constraint_list, prob_items))['similarity'].mean())\n",
    "        else:\n",
    "            prob_sol_list.append(0)\n",
    "    sol_list.append(prob_sol_list)\n",
    "result = pd.DataFrame(sol_list)"
   ],
   "metadata": {
    "collapsed": false,
    "pycharm": {
     "name": "#%%\n"
    }
   }
  },
  {
   "cell_type": "code",
   "execution_count": 4,
   "outputs": [
    {
     "data": {
      "text/plain": "                                                    0   1   \\\n0    {price: 2699.0: 10: Nature.LESS, storage: 512....  14   \n1    {os: os: 8: Nature.EQUAL, weight: 2.0: 9: Natu...   0   \n2    {ram: 16.0: 9: Nature.MORE, price: 2664.04: 5:...   0   \n3    {weight: 1.2: 6: Nature.LESS, storage: 1024.0:...   0   \n4    {os: 11: 4: Nature.EQUAL, cpu: ryzen 5|i7: 4: ...   5   \n..                                                 ...  ..   \n495  {ram: 4.0: 6: Nature.MORE, storage: 1024.0: 1:...   0   \n496  {storage: 1024.0: 4: Nature.MORE, weight: 1.47...   3   \n497  {camera: True: 1: Nature.EQUAL, weight: 1.44: ...   9   \n498  {storage: 1024.0: 5: Nature.MORE, os: 10: 10: ...   0   \n499  {os: 10: 3: Nature.EQUAL, camera: True: 1: Nat...   0   \n\n                                                    2   3         4   \\\n0    {price: 2699.0: 10: Nature.LESS, os: 10: 4: Na...  15  0.720075   \n1    {brand: : 7: Nature.EQUAL, price: 3271.04: 6: ...   1  0.581119   \n2    {os: 11: 4: Nature.EQUAL, weight: 1.44: 9: Nat...   0  0.000000   \n3    {price: 5547.0: 3: Nature.LESS, brand: huawei|...   0  0.000000   \n4    {cpu: ryzen 5|i7: 4: Nature.EQUAL, weight: 2.4...   6  0.639378   \n..                                                 ...  ..       ...   \n495  {storage: 512: 1: Nature.MORE, brand: msi|acer...   0  0.000000   \n496  {storage: 1024.0: 4: Nature.MORE, weight: 1.47...   3  0.676014   \n497  {storage: 256.0: 6: Nature.MORE, camera: True:...  10  0.502405   \n498  {cpu: ryzen 3|i3|ryzen 5|i5: 2: Nature.EQUAL, ...   0  0.000000   \n499  {brand: microsoft|huawei|asus|acer: 7: Nature....   1  0.653352   \n\n                                                    5   6         7   \\\n0    {price: 2699.0: 10: Nature.LESS, storage: 512....  15  0.720075   \n1    {price: 3271.04: 6: Nature.LESS, brand: : 7: N...   1  0.581119   \n2    {ram: 16.0: 9: Nature.MORE, os: 11: 4: Nature....   0  0.000000   \n3    {brand: huawei|dell|microsoft: 2: Nature.EQUAL...   0  0.000000   \n4    {os: 11: 4: Nature.EQUAL, weight: : 1: Nature....   6  0.624030   \n..                                                 ...  ..       ...   \n495  {price: 4097.0: 3: Nature.LESS, os: os: 9: Nat...   3  0.607755   \n496  {ram: : 2: Nature.MORE, weight: 1.47: 7: Natur...   3  0.687003   \n497  {os: 11: 2: Nature.EQUAL, storage: 256.0: 6: N...  30  0.435484   \n498  {storage: 1024.0: 5: Nature.MORE, os: 10: 10: ...   1  0.920000   \n499  {camera: True: 1: Nature.EQUAL, cpu: ryzen 3: ...   1  0.604965   \n\n                                                    8   9         10  \n0    {camera: : 1: Nature.EQUAL, os: 10: 4: Nature....  15  0.720075  \n1    {os: os: 8: Nature.EQUAL, price: 3271.04: 6: N...   1  0.581119  \n2    {ram: 16.0: 9: Nature.MORE, weight: 1.44: 9: N...   4  0.487346  \n3    {storage: 1024.0: 7: Nature.MORE, price: : 3: ...   2  0.666667  \n4    {weight: : 1: Nature.LESS, cpu: ryzen 5|i7: 4:...   6  0.624030  \n..                                                 ...  ..       ...  \n495  {brand: msi|acer|hp|huawei: 1: Nature.EQUAL, r...   3  0.607755  \n496  {weight: 1.47: 7: Nature.LESS, storage: 1024.0...   3  0.687003  \n497  {storage: 256.0: 6: Nature.MORE, os: 11: 2: Na...  10  0.407405  \n498  {cpu: : 2: Nature.EQUAL, storage: 1024.0: 5: N...   1  0.920000  \n499  {ram: : 2: Nature.MORE, os: 10: 3: Nature.EQUA...   1  0.604965  \n\n[500 rows x 11 columns]",
      "text/html": "<div>\n<style scoped>\n    .dataframe tbody tr th:only-of-type {\n        vertical-align: middle;\n    }\n\n    .dataframe tbody tr th {\n        vertical-align: top;\n    }\n\n    .dataframe thead th {\n        text-align: right;\n    }\n</style>\n<table border=\"1\" class=\"dataframe\">\n  <thead>\n    <tr style=\"text-align: right;\">\n      <th></th>\n      <th>0</th>\n      <th>1</th>\n      <th>2</th>\n      <th>3</th>\n      <th>4</th>\n      <th>5</th>\n      <th>6</th>\n      <th>7</th>\n      <th>8</th>\n      <th>9</th>\n      <th>10</th>\n    </tr>\n  </thead>\n  <tbody>\n    <tr>\n      <th>0</th>\n      <td>{price: 2699.0: 10: Nature.LESS, storage: 512....</td>\n      <td>14</td>\n      <td>{price: 2699.0: 10: Nature.LESS, os: 10: 4: Na...</td>\n      <td>15</td>\n      <td>0.720075</td>\n      <td>{price: 2699.0: 10: Nature.LESS, storage: 512....</td>\n      <td>15</td>\n      <td>0.720075</td>\n      <td>{camera: : 1: Nature.EQUAL, os: 10: 4: Nature....</td>\n      <td>15</td>\n      <td>0.720075</td>\n    </tr>\n    <tr>\n      <th>1</th>\n      <td>{os: os: 8: Nature.EQUAL, weight: 2.0: 9: Natu...</td>\n      <td>0</td>\n      <td>{brand: : 7: Nature.EQUAL, price: 3271.04: 6: ...</td>\n      <td>1</td>\n      <td>0.581119</td>\n      <td>{price: 3271.04: 6: Nature.LESS, brand: : 7: N...</td>\n      <td>1</td>\n      <td>0.581119</td>\n      <td>{os: os: 8: Nature.EQUAL, price: 3271.04: 6: N...</td>\n      <td>1</td>\n      <td>0.581119</td>\n    </tr>\n    <tr>\n      <th>2</th>\n      <td>{ram: 16.0: 9: Nature.MORE, price: 2664.04: 5:...</td>\n      <td>0</td>\n      <td>{os: 11: 4: Nature.EQUAL, weight: 1.44: 9: Nat...</td>\n      <td>0</td>\n      <td>0.000000</td>\n      <td>{ram: 16.0: 9: Nature.MORE, os: 11: 4: Nature....</td>\n      <td>0</td>\n      <td>0.000000</td>\n      <td>{ram: 16.0: 9: Nature.MORE, weight: 1.44: 9: N...</td>\n      <td>4</td>\n      <td>0.487346</td>\n    </tr>\n    <tr>\n      <th>3</th>\n      <td>{weight: 1.2: 6: Nature.LESS, storage: 1024.0:...</td>\n      <td>0</td>\n      <td>{price: 5547.0: 3: Nature.LESS, brand: huawei|...</td>\n      <td>0</td>\n      <td>0.000000</td>\n      <td>{brand: huawei|dell|microsoft: 2: Nature.EQUAL...</td>\n      <td>0</td>\n      <td>0.000000</td>\n      <td>{storage: 1024.0: 7: Nature.MORE, price: : 3: ...</td>\n      <td>2</td>\n      <td>0.666667</td>\n    </tr>\n    <tr>\n      <th>4</th>\n      <td>{os: 11: 4: Nature.EQUAL, cpu: ryzen 5|i7: 4: ...</td>\n      <td>5</td>\n      <td>{cpu: ryzen 5|i7: 4: Nature.EQUAL, weight: 2.4...</td>\n      <td>6</td>\n      <td>0.639378</td>\n      <td>{os: 11: 4: Nature.EQUAL, weight: : 1: Nature....</td>\n      <td>6</td>\n      <td>0.624030</td>\n      <td>{weight: : 1: Nature.LESS, cpu: ryzen 5|i7: 4:...</td>\n      <td>6</td>\n      <td>0.624030</td>\n    </tr>\n    <tr>\n      <th>...</th>\n      <td>...</td>\n      <td>...</td>\n      <td>...</td>\n      <td>...</td>\n      <td>...</td>\n      <td>...</td>\n      <td>...</td>\n      <td>...</td>\n      <td>...</td>\n      <td>...</td>\n      <td>...</td>\n    </tr>\n    <tr>\n      <th>495</th>\n      <td>{ram: 4.0: 6: Nature.MORE, storage: 1024.0: 1:...</td>\n      <td>0</td>\n      <td>{storage: 512: 1: Nature.MORE, brand: msi|acer...</td>\n      <td>0</td>\n      <td>0.000000</td>\n      <td>{price: 4097.0: 3: Nature.LESS, os: os: 9: Nat...</td>\n      <td>3</td>\n      <td>0.607755</td>\n      <td>{brand: msi|acer|hp|huawei: 1: Nature.EQUAL, r...</td>\n      <td>3</td>\n      <td>0.607755</td>\n    </tr>\n    <tr>\n      <th>496</th>\n      <td>{storage: 1024.0: 4: Nature.MORE, weight: 1.47...</td>\n      <td>3</td>\n      <td>{storage: 1024.0: 4: Nature.MORE, weight: 1.47...</td>\n      <td>3</td>\n      <td>0.676014</td>\n      <td>{ram: : 2: Nature.MORE, weight: 1.47: 7: Natur...</td>\n      <td>3</td>\n      <td>0.687003</td>\n      <td>{weight: 1.47: 7: Nature.LESS, storage: 1024.0...</td>\n      <td>3</td>\n      <td>0.687003</td>\n    </tr>\n    <tr>\n      <th>497</th>\n      <td>{camera: True: 1: Nature.EQUAL, weight: 1.44: ...</td>\n      <td>9</td>\n      <td>{storage: 256.0: 6: Nature.MORE, camera: True:...</td>\n      <td>10</td>\n      <td>0.502405</td>\n      <td>{os: 11: 2: Nature.EQUAL, storage: 256.0: 6: N...</td>\n      <td>30</td>\n      <td>0.435484</td>\n      <td>{storage: 256.0: 6: Nature.MORE, os: 11: 2: Na...</td>\n      <td>10</td>\n      <td>0.407405</td>\n    </tr>\n    <tr>\n      <th>498</th>\n      <td>{storage: 1024.0: 5: Nature.MORE, os: 10: 10: ...</td>\n      <td>0</td>\n      <td>{cpu: ryzen 3|i3|ryzen 5|i5: 2: Nature.EQUAL, ...</td>\n      <td>0</td>\n      <td>0.000000</td>\n      <td>{storage: 1024.0: 5: Nature.MORE, os: 10: 10: ...</td>\n      <td>1</td>\n      <td>0.920000</td>\n      <td>{cpu: : 2: Nature.EQUAL, storage: 1024.0: 5: N...</td>\n      <td>1</td>\n      <td>0.920000</td>\n    </tr>\n    <tr>\n      <th>499</th>\n      <td>{os: 10: 3: Nature.EQUAL, camera: True: 1: Nat...</td>\n      <td>0</td>\n      <td>{brand: microsoft|huawei|asus|acer: 7: Nature....</td>\n      <td>1</td>\n      <td>0.653352</td>\n      <td>{camera: True: 1: Nature.EQUAL, cpu: ryzen 3: ...</td>\n      <td>1</td>\n      <td>0.604965</td>\n      <td>{ram: : 2: Nature.MORE, os: 10: 3: Nature.EQUA...</td>\n      <td>1</td>\n      <td>0.604965</td>\n    </tr>\n  </tbody>\n</table>\n<p>500 rows × 11 columns</p>\n</div>"
     },
     "execution_count": 4,
     "metadata": {},
     "output_type": "execute_result"
    }
   ],
   "source": [
    "result"
   ],
   "metadata": {
    "collapsed": false,
    "pycharm": {
     "name": "#%%\n"
    }
   }
  },
  {
   "cell_type": "code",
   "execution_count": 5,
   "outputs": [
    {
     "data": {
      "text/plain": "True     285\nFalse    215\nName: 1, dtype: int64"
     },
     "execution_count": 5,
     "metadata": {},
     "output_type": "execute_result"
    }
   ],
   "source": [
    "pd.value_counts(result.iloc[:, 1] == 0)"
   ],
   "metadata": {
    "collapsed": false,
    "pycharm": {
     "name": "#%%\n"
    }
   }
  },
  {
   "cell_type": "code",
   "execution_count": 6,
   "outputs": [
    {
     "name": "stdout",
     "output_type": "stream",
     "text": [
      "True     478\n",
      "False     22\n",
      "dtype: int64\n"
     ]
    }
   ],
   "source": [
    "valid = ((result.iloc[:, 1] <= result.iloc[:, 3]) & (result.iloc[:, 3] <= result.iloc[:, 6]) & (result.iloc[:, 6] <= result.iloc[:, 9]))\n",
    "valid_count = pd.value_counts(valid)\n",
    "print(valid_count)"
   ],
   "metadata": {
    "collapsed": false,
    "pycharm": {
     "name": "#%%\n"
    }
   }
  },
  {
   "cell_type": "code",
   "execution_count": 7,
   "outputs": [
    {
     "name": "stdout",
     "output_type": "stream",
     "text": [
      "False    498\n",
      "True       2\n",
      "dtype: int64\n"
     ]
    }
   ],
   "source": [
    "valid = ((result.iloc[:, 1] < result.iloc[:, 3]) & (result.iloc[:, 3] < result.iloc[:, 6]) & (result.iloc[:, 6] < result.iloc[:, 9]))\n",
    "valid_count = pd.value_counts(valid)\n",
    "print(valid_count)"
   ],
   "metadata": {
    "collapsed": false,
    "pycharm": {
     "name": "#%%\n"
    }
   }
  },
  {
   "cell_type": "code",
   "execution_count": 8,
   "outputs": [
    {
     "data": {
      "text/plain": "                                                    0   1   \\\n158  {os: 10: 5: Nature.EQUAL, weight: 1.91: 3: Nat...  59   \n482  {os: os: 3: Nature.EQUAL, cpu: ryzen 5: 6: Nat...   0   \n\n                                                    2   3         4   \\\n158  {camera: True: 3: Nature.EQUAL, weight: 2.0115...  61  0.500534   \n482  {storage: 512: 5: Nature.MORE, os: os|10: 3: N...   6  0.674799   \n\n                                                    5   6         7   \\\n158  {camera: : 3: Nature.EQUAL, os: 10: 5: Nature....  63  0.364820   \n482  {weight: 1.52: 2: Nature.LESS, os: : 3: Nature...   8  0.595528   \n\n                                                    8   9         10  \n158  {ram: 8.0: 5: Nature.MORE, weight: : 3: Nature...  74  0.438007  \n482  {price: 5056.09: 8: Nature.LESS, ram: 8.0: 4: ...   9  0.527914  ",
      "text/html": "<div>\n<style scoped>\n    .dataframe tbody tr th:only-of-type {\n        vertical-align: middle;\n    }\n\n    .dataframe tbody tr th {\n        vertical-align: top;\n    }\n\n    .dataframe thead th {\n        text-align: right;\n    }\n</style>\n<table border=\"1\" class=\"dataframe\">\n  <thead>\n    <tr style=\"text-align: right;\">\n      <th></th>\n      <th>0</th>\n      <th>1</th>\n      <th>2</th>\n      <th>3</th>\n      <th>4</th>\n      <th>5</th>\n      <th>6</th>\n      <th>7</th>\n      <th>8</th>\n      <th>9</th>\n      <th>10</th>\n    </tr>\n  </thead>\n  <tbody>\n    <tr>\n      <th>158</th>\n      <td>{os: 10: 5: Nature.EQUAL, weight: 1.91: 3: Nat...</td>\n      <td>59</td>\n      <td>{camera: True: 3: Nature.EQUAL, weight: 2.0115...</td>\n      <td>61</td>\n      <td>0.500534</td>\n      <td>{camera: : 3: Nature.EQUAL, os: 10: 5: Nature....</td>\n      <td>63</td>\n      <td>0.364820</td>\n      <td>{ram: 8.0: 5: Nature.MORE, weight: : 3: Nature...</td>\n      <td>74</td>\n      <td>0.438007</td>\n    </tr>\n    <tr>\n      <th>482</th>\n      <td>{os: os: 3: Nature.EQUAL, cpu: ryzen 5: 6: Nat...</td>\n      <td>0</td>\n      <td>{storage: 512: 5: Nature.MORE, os: os|10: 3: N...</td>\n      <td>6</td>\n      <td>0.674799</td>\n      <td>{weight: 1.52: 2: Nature.LESS, os: : 3: Nature...</td>\n      <td>8</td>\n      <td>0.595528</td>\n      <td>{price: 5056.09: 8: Nature.LESS, ram: 8.0: 4: ...</td>\n      <td>9</td>\n      <td>0.527914</td>\n    </tr>\n  </tbody>\n</table>\n</div>"
     },
     "execution_count": 8,
     "metadata": {},
     "output_type": "execute_result"
    }
   ],
   "source": [
    "result[valid]"
   ],
   "metadata": {
    "collapsed": false,
    "pycharm": {
     "name": "#%%\n"
    }
   }
  },
  {
   "cell_type": "code",
   "execution_count": 9,
   "outputs": [],
   "source": [],
   "metadata": {
    "collapsed": false,
    "pycharm": {
     "name": "#%%\n"
    }
   }
  }
 ],
 "metadata": {
  "kernelspec": {
   "display_name": "Python 3",
   "language": "python",
   "name": "python3"
  },
  "language_info": {
   "codemirror_mode": {
    "name": "ipython",
    "version": 2
   },
   "file_extension": ".py",
   "mimetype": "text/x-python",
   "name": "python",
   "nbconvert_exporter": "python",
   "pygments_lexer": "ipython2",
   "version": "2.7.6"
  }
 },
 "nbformat": 4,
 "nbformat_minor": 0
}
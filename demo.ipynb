{
 "cells": [
  {
   "cell_type": "code",
   "execution_count": 1,
   "outputs": [],
   "source": [
    "from Constraint import Constraint, Problem\n",
    "from constraint_relax import search_mfs\n",
    "from Nature import Nature\n",
    "import copy"
   ],
   "metadata": {
    "collapsed": false,
    "pycharm": {
     "name": "#%%\n"
    }
   }
  },
  {
   "cell_type": "code",
   "execution_count": 2,
   "outputs": [],
   "source": [
    "problem:Problem = Problem()\n",
    "c1:Constraint = Constraint(\"cpu\", \"i5|ryzen 5\", 7, Nature.EQUAL)\n",
    "c2:Constraint = Constraint(\"gpu\", \"mx|gtx\", 5, Nature.EQUAL)\n",
    "c3:Constraint = Constraint(\"ram\", 8, 7, Nature.MORE)\n",
    "c4:Constraint = Constraint(\"price\",3000, 3, Nature.LESS)\n",
    "c5:Constraint = Constraint(\"weight\", 1.5, 3, Nature.LESS)\n",
    "problem.add_constraint_list([c1,c2,c3,c4,c5])"
   ],
   "metadata": {
    "collapsed": false,
    "pycharm": {
     "name": "#%%\n"
    }
   }
  },
  {
   "cell_type": "code",
   "execution_count": 3,
   "outputs": [],
   "source": [
    "problem.solve()"
   ],
   "metadata": {
    "collapsed": false,
    "pycharm": {
     "name": "#%%\n"
    }
   }
  },
  {
   "cell_type": "code",
   "execution_count": 4,
   "outputs": [],
   "source": [
    "mfs = search_mfs(problem.constraint_list, copy.copy(problem.constraint_list))"
   ],
   "metadata": {
    "collapsed": false,
    "pycharm": {
     "name": "#%%\n"
    }
   }
  },
  {
   "cell_type": "code",
   "execution_count": 5,
   "outputs": [
    {
     "name": "stdout",
     "output_type": "stream",
     "text": [
      "hard relax price \n"
     ]
    }
   ],
   "source": [
    "problem.relax(mfs, 0.5)"
   ],
   "metadata": {
    "collapsed": false,
    "pycharm": {
     "name": "#%%\n"
    }
   }
  },
  {
   "cell_type": "code",
   "execution_count": 6,
   "outputs": [
    {
     "name": "stdout",
     "output_type": "stream",
     "text": [
      "price: ------\n",
      "weight: ---1.5---\n",
      "gpu: ---mx|gtx---\n",
      "ram: ---8---\n",
      "cpu: ---i5|ryzen 5---\n"
     ]
    },
    {
     "data": {
      "text/plain": "     brand                        model                   cpu  ram  storage  \\\n5   Huawei                  MateBook 13         Core i5-8565U    8      512   \n7   Huawei                  MateBook 13  Intel Core i5-10210U   16      512   \n23    Acer    Swift 5 (SF514-54GT-53FE)        Core i5-1035G1    8      512   \n86      HP  Pavilion Laptop 14-DV1006TX        Core i5-1155G7    8      512   \n\n                     os  screen_size                   gpu  \\\n5   No Operating System         13.0  NVIDIA GeForce MX250   \n7    Windows 10 Home 64         13.0  Nvidia GeForce MX250   \n23      Windows 10 Home         14.0  NVIDIA GeForce MX350   \n86      Windows 11 Home         14.0  NVIDIA GeForce MX450   \n\n                                               camera  weight  price  \\\n5                                                 NaN    1.28   3999   \n7                                                   1    1.30   4499   \n23                                                 HD    0.99   3997   \n86  HP Wide Vision 720p HD camera with integrated ...    1.41   3899   \n\n    cpu_average  gpu_average  similarity  similarity_weight  similarity_gpu  \\\n5      0.320650     0.180060    0.602759           0.082759             0.2   \n7      0.312497     0.180060    0.602759           0.082759             0.2   \n23     0.333079     0.189936    0.602759           0.082759             0.2   \n86     0.427270     0.132372    0.602759           0.082759             0.2   \n\n    similarity_ram  similarity_cpu  \n5             0.04            0.28  \n7             0.04            0.28  \n23            0.04            0.28  \n86            0.04            0.28  ",
      "text/html": "<div>\n<style scoped>\n    .dataframe tbody tr th:only-of-type {\n        vertical-align: middle;\n    }\n\n    .dataframe tbody tr th {\n        vertical-align: top;\n    }\n\n    .dataframe thead th {\n        text-align: right;\n    }\n</style>\n<table border=\"1\" class=\"dataframe\">\n  <thead>\n    <tr style=\"text-align: right;\">\n      <th></th>\n      <th>brand</th>\n      <th>model</th>\n      <th>cpu</th>\n      <th>ram</th>\n      <th>storage</th>\n      <th>os</th>\n      <th>screen_size</th>\n      <th>gpu</th>\n      <th>camera</th>\n      <th>weight</th>\n      <th>price</th>\n      <th>cpu_average</th>\n      <th>gpu_average</th>\n      <th>similarity</th>\n      <th>similarity_weight</th>\n      <th>similarity_gpu</th>\n      <th>similarity_ram</th>\n      <th>similarity_cpu</th>\n    </tr>\n  </thead>\n  <tbody>\n    <tr>\n      <th>5</th>\n      <td>Huawei</td>\n      <td>MateBook 13</td>\n      <td>Core i5-8565U</td>\n      <td>8</td>\n      <td>512</td>\n      <td>No Operating System</td>\n      <td>13.0</td>\n      <td>NVIDIA GeForce MX250</td>\n      <td>NaN</td>\n      <td>1.28</td>\n      <td>3999</td>\n      <td>0.320650</td>\n      <td>0.180060</td>\n      <td>0.602759</td>\n      <td>0.082759</td>\n      <td>0.2</td>\n      <td>0.04</td>\n      <td>0.28</td>\n    </tr>\n    <tr>\n      <th>7</th>\n      <td>Huawei</td>\n      <td>MateBook 13</td>\n      <td>Intel Core i5-10210U</td>\n      <td>16</td>\n      <td>512</td>\n      <td>Windows 10 Home 64</td>\n      <td>13.0</td>\n      <td>Nvidia GeForce MX250</td>\n      <td>1</td>\n      <td>1.30</td>\n      <td>4499</td>\n      <td>0.312497</td>\n      <td>0.180060</td>\n      <td>0.602759</td>\n      <td>0.082759</td>\n      <td>0.2</td>\n      <td>0.04</td>\n      <td>0.28</td>\n    </tr>\n    <tr>\n      <th>23</th>\n      <td>Acer</td>\n      <td>Swift 5 (SF514-54GT-53FE)</td>\n      <td>Core i5-1035G1</td>\n      <td>8</td>\n      <td>512</td>\n      <td>Windows 10 Home</td>\n      <td>14.0</td>\n      <td>NVIDIA GeForce MX350</td>\n      <td>HD</td>\n      <td>0.99</td>\n      <td>3997</td>\n      <td>0.333079</td>\n      <td>0.189936</td>\n      <td>0.602759</td>\n      <td>0.082759</td>\n      <td>0.2</td>\n      <td>0.04</td>\n      <td>0.28</td>\n    </tr>\n    <tr>\n      <th>86</th>\n      <td>HP</td>\n      <td>Pavilion Laptop 14-DV1006TX</td>\n      <td>Core i5-1155G7</td>\n      <td>8</td>\n      <td>512</td>\n      <td>Windows 11 Home</td>\n      <td>14.0</td>\n      <td>NVIDIA GeForce MX450</td>\n      <td>HP Wide Vision 720p HD camera with integrated ...</td>\n      <td>1.41</td>\n      <td>3899</td>\n      <td>0.427270</td>\n      <td>0.132372</td>\n      <td>0.602759</td>\n      <td>0.082759</td>\n      <td>0.2</td>\n      <td>0.04</td>\n      <td>0.28</td>\n    </tr>\n  </tbody>\n</table>\n</div>"
     },
     "execution_count": 6,
     "metadata": {},
     "output_type": "execute_result"
    }
   ],
   "source": [
    "problem.solve()"
   ],
   "metadata": {
    "collapsed": false,
    "pycharm": {
     "name": "#%%\n"
    }
   }
  },
  {
   "cell_type": "code",
   "execution_count": 6,
   "outputs": [],
   "source": [],
   "metadata": {
    "collapsed": false,
    "pycharm": {
     "name": "#%%\n"
    }
   }
  }
 ],
 "metadata": {
  "kernelspec": {
   "display_name": "Python 3",
   "language": "python",
   "name": "python3"
  },
  "language_info": {
   "codemirror_mode": {
    "name": "ipython",
    "version": 2
   },
   "file_extension": ".py",
   "mimetype": "text/x-python",
   "name": "python",
   "nbconvert_exporter": "python",
   "pygments_lexer": "ipython2",
   "version": "2.7.6"
  }
 },
 "nbformat": 4,
 "nbformat_minor": 0
}
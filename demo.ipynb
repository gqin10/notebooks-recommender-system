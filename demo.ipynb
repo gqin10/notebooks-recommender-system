{
 "cells": [
  {
   "cell_type": "markdown",
   "id": "1b5c3ae5",
   "metadata": {},
   "source": [
    "**Attribute Values**\n",
    "\n",
    "| attribute | values |\n",
    "| --- | --- |\n",
    "| brand | Attribute.BRAND |\n",
    "| cpu | Attribute.CPU |\n",
    "| gpu | Attribute.GPU |\n",
    "| storage | Attribute.STORAGE |\n",
    "| ram | Attribute.RAM |\n",
    "| os | Attribute.OS |\n",
    "| camera | Attribute.CAMERA |\n",
    "| price | Attribute.PRICE |\n",
    "| weight | Attribute.WEIGHT |\n",
    "| screen_size | Attribute.SCREEN_SIZE |"
   ]
  },
  {
   "cell_type": "markdown",
   "id": "1e1af594",
   "metadata": {},
   "source": [
    "**Specification Values**\n",
    "\n",
    "| attribute | values |\n",
    "| --- | --- |\n",
    "| brand | acer, asus, dell, hp, huawei, lenovo, microsoft, msi |\n",
    "| cpu | celeron, athlon, pentium, i3, ryzen 3, i5, ryzen 5, i7, ryzen 7, ryzen 9 |\n",
    "| gpu | radeon, iris, mx, gtx, rtx |\n",
    "| storage | 32, 64, 128, 256, 512, 1024, 2048 |\n",
    "| ram | 2, 4, 8, 16, 32, 64 |\n",
    "| os | os, 10, 11 |\n",
    "| camera | True, False |\n",
    "| price | (any numeric values) |\n",
    "| weight | (any numeric valus) |\n",
    "| screen_size | (any numeric values) |"
   ]
  },
  {
   "cell_type": "code",
   "execution_count": 6,
   "id": "31000d1f",
   "metadata": {},
   "outputs": [],
   "source": [
    "from constraint_based_recommender_system import *"
   ]
  },
  {
   "cell_type": "code",
   "execution_count": 7,
   "id": "60e762df",
   "metadata": {},
   "outputs": [],
   "source": [
    "# define constraint object for constraint-based recommender system\n",
    "constraintRS = ConstraintRS()"
   ]
  },
  {
   "cell_type": "code",
   "execution_count": 8,
   "id": "6291ddf7",
   "metadata": {},
   "outputs": [],
   "source": [
    "# add specific constraints\n",
    "# (attribute_name, attribute_value, priority)\n",
    "constraintRS.add_constraint(Constraint(Attribute.BRAND, 'hp', 2))\n",
    "constraintRS.add_constraint(Constraint(Attribute.CPU, 'i5|ryzen 5|i7', 6))\n",
    "constraintRS.add_constraint(Constraint(Attribute.STORAGE, 512, 4))\n",
    "constraintRS.add_constraint(Constraint(Attribute.RAM, 8, 6))\n",
    "constraintRS.add_constraint(Constraint(Attribute.PRICE, 2000, 4))"
   ]
  },
  {
   "cell_type": "code",
   "execution_count": 9,
   "id": "129c89ce",
   "metadata": {},
   "outputs": [
    {
     "data": {
      "text/html": [
       "<div>\n",
       "<style scoped>\n",
       "    .dataframe tbody tr th:only-of-type {\n",
       "        vertical-align: middle;\n",
       "    }\n",
       "\n",
       "    .dataframe tbody tr th {\n",
       "        vertical-align: top;\n",
       "    }\n",
       "\n",
       "    .dataframe thead th {\n",
       "        text-align: right;\n",
       "    }\n",
       "</style>\n",
       "<table border=\"1\" class=\"dataframe\">\n",
       "  <thead>\n",
       "    <tr style=\"text-align: right;\">\n",
       "      <th></th>\n",
       "      <th>attribute</th>\n",
       "      <th>value</th>\n",
       "      <th>priority</th>\n",
       "    </tr>\n",
       "  </thead>\n",
       "  <tbody>\n",
       "    <tr>\n",
       "      <th>0</th>\n",
       "      <td>cpu</td>\n",
       "      <td>i5|ryzen 5|i7</td>\n",
       "      <td>6</td>\n",
       "    </tr>\n",
       "    <tr>\n",
       "      <th>0</th>\n",
       "      <td>brand</td>\n",
       "      <td>hp</td>\n",
       "      <td>2</td>\n",
       "    </tr>\n",
       "    <tr>\n",
       "      <th>0</th>\n",
       "      <td>ram</td>\n",
       "      <td>8</td>\n",
       "      <td>6</td>\n",
       "    </tr>\n",
       "    <tr>\n",
       "      <th>0</th>\n",
       "      <td>price</td>\n",
       "      <td>2000</td>\n",
       "      <td>4</td>\n",
       "    </tr>\n",
       "    <tr>\n",
       "      <th>0</th>\n",
       "      <td>storage</td>\n",
       "      <td>512</td>\n",
       "      <td>4</td>\n",
       "    </tr>\n",
       "  </tbody>\n",
       "</table>\n",
       "</div>"
      ],
      "text/plain": [
       "  attribute          value  priority\n",
       "0       cpu  i5|ryzen 5|i7         6\n",
       "0     brand             hp         2\n",
       "0       ram              8         6\n",
       "0     price           2000         4\n",
       "0   storage            512         4"
      ]
     },
     "execution_count": 9,
     "metadata": {},
     "output_type": "execute_result"
    }
   ],
   "source": [
    "# view added constraints\n",
    "constraintRS.read_constraints()"
   ]
  },
  {
   "cell_type": "code",
   "execution_count": 10,
   "id": "489eaf57",
   "metadata": {},
   "outputs": [
    {
     "name": "stdout",
     "output_type": "stream",
     "text": [
      "No items are found.\n",
      "The following are suggested constraints you can edit to obtain some items: \n",
      "price: 2000\n"
     ]
    }
   ],
   "source": [
    "# search for items\n",
    "constraintRS.get_items()"
   ]
  },
  {
   "cell_type": "code",
   "execution_count": null,
   "id": "2bec2c8e",
   "metadata": {},
   "outputs": [],
   "source": []
  }
 ],
 "metadata": {
  "kernelspec": {
   "display_name": "Python 3 (ipykernel)",
   "language": "python",
   "name": "python3"
  },
  "language_info": {
   "codemirror_mode": {
    "name": "ipython",
    "version": 3
   },
   "file_extension": ".py",
   "mimetype": "text/x-python",
   "name": "python",
   "nbconvert_exporter": "python",
   "pygments_lexer": "ipython3",
   "version": "3.9.7"
  }
 },
 "nbformat": 4,
 "nbformat_minor": 5
}

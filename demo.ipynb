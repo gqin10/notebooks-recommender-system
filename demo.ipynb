{
 "cells": [
  {
   "cell_type": "code",
   "execution_count": 1,
   "outputs": [],
   "source": [
    "from Constraint import Constraint, Problem\n",
    "from constraint_relax import search_mfs\n",
    "from Nature import Nature\n",
    "import copy"
   ],
   "metadata": {
    "collapsed": false,
    "pycharm": {
     "name": "#%%\n"
    }
   }
  },
  {
   "cell_type": "code",
   "execution_count": 7,
   "outputs": [],
   "source": [
    "problem: Problem = Problem()\n",
    "problem.add_constraint_list([\n",
    "    Constraint(\"cpu\", \"i3|ryzen 3\", 8, Nature.EQUAL),\n",
    "    Constraint(\"ram\", 8, 3, Nature.MORE),\n",
    "    Constraint(\"storage\", 512, 8, Nature.MORE),\n",
    "    Constraint(\"screen_size\", 14, 6, Nature.NEAR),\n",
    "])"
   ],
   "metadata": {
    "collapsed": false,
    "pycharm": {
     "name": "#%%\n"
    }
   }
  },
  {
   "cell_type": "code",
   "execution_count": 8,
   "outputs": [
    {
     "data": {
      "text/plain": "      brand                   model             cpu  ram  storage  \\\n107      HP     Laptop 14s-fq1043AU   Ryzen 3 5300U    8      512   \n124      HP     Laptop 14S-FQ1044AU   Ryzen 3 5300U    8      512   \n35   Lenovo  Ideapad 3 (81WD00N1MJ)  Core i3-1115G4    8      512   \n\n                                     os  screen_size  \\\n107                     Windows 10 Home         14.0   \n124  Windows 10 Home Single Language 64         14.0   \n35                      Windows 10 Home         14.0   \n\n                                gpu  \\\n107            AMD Radeon RX Vega 6   \n124            AMD Radeon RX Vega 6   \n35   Intel UHD Graphics Xe G4 48EUs   \n\n                                                camera  weight  price  \\\n107  HP True Vision 720p HD camera with integrated ...    1.47   2599   \n124  HP True Vision 720p HD camera with integrated ...    1.47   2197   \n35                           720p with Privacy Shutter    1.41   2197   \n\n     cpu_average  gpu_average  similarity  similarity_screen_size  \\\n107     0.323865     0.120477    0.548884                    0.24   \n124     0.323865     0.120477    0.548884                    0.24   \n35      0.353831     0.092862    0.567528                    0.24   \n\n     similarity_storage  similarity_ram  similarity_cpu  \n107            0.154839        0.017143        0.136902  \n124            0.154839        0.017143        0.136902  \n35             0.154839        0.017143        0.155546  ",
      "text/html": "<div>\n<style scoped>\n    .dataframe tbody tr th:only-of-type {\n        vertical-align: middle;\n    }\n\n    .dataframe tbody tr th {\n        vertical-align: top;\n    }\n\n    .dataframe thead th {\n        text-align: right;\n    }\n</style>\n<table border=\"1\" class=\"dataframe\">\n  <thead>\n    <tr style=\"text-align: right;\">\n      <th></th>\n      <th>brand</th>\n      <th>model</th>\n      <th>cpu</th>\n      <th>ram</th>\n      <th>storage</th>\n      <th>os</th>\n      <th>screen_size</th>\n      <th>gpu</th>\n      <th>camera</th>\n      <th>weight</th>\n      <th>price</th>\n      <th>cpu_average</th>\n      <th>gpu_average</th>\n      <th>similarity</th>\n      <th>similarity_screen_size</th>\n      <th>similarity_storage</th>\n      <th>similarity_ram</th>\n      <th>similarity_cpu</th>\n    </tr>\n  </thead>\n  <tbody>\n    <tr>\n      <th>107</th>\n      <td>HP</td>\n      <td>Laptop 14s-fq1043AU</td>\n      <td>Ryzen 3 5300U</td>\n      <td>8</td>\n      <td>512</td>\n      <td>Windows 10 Home</td>\n      <td>14.0</td>\n      <td>AMD Radeon RX Vega 6</td>\n      <td>HP True Vision 720p HD camera with integrated ...</td>\n      <td>1.47</td>\n      <td>2599</td>\n      <td>0.323865</td>\n      <td>0.120477</td>\n      <td>0.548884</td>\n      <td>0.24</td>\n      <td>0.154839</td>\n      <td>0.017143</td>\n      <td>0.136902</td>\n    </tr>\n    <tr>\n      <th>124</th>\n      <td>HP</td>\n      <td>Laptop 14S-FQ1044AU</td>\n      <td>Ryzen 3 5300U</td>\n      <td>8</td>\n      <td>512</td>\n      <td>Windows 10 Home Single Language 64</td>\n      <td>14.0</td>\n      <td>AMD Radeon RX Vega 6</td>\n      <td>HP True Vision 720p HD camera with integrated ...</td>\n      <td>1.47</td>\n      <td>2197</td>\n      <td>0.323865</td>\n      <td>0.120477</td>\n      <td>0.548884</td>\n      <td>0.24</td>\n      <td>0.154839</td>\n      <td>0.017143</td>\n      <td>0.136902</td>\n    </tr>\n    <tr>\n      <th>35</th>\n      <td>Lenovo</td>\n      <td>Ideapad 3 (81WD00N1MJ)</td>\n      <td>Core i3-1115G4</td>\n      <td>8</td>\n      <td>512</td>\n      <td>Windows 10 Home</td>\n      <td>14.0</td>\n      <td>Intel UHD Graphics Xe G4 48EUs</td>\n      <td>720p with Privacy Shutter</td>\n      <td>1.41</td>\n      <td>2197</td>\n      <td>0.353831</td>\n      <td>0.092862</td>\n      <td>0.567528</td>\n      <td>0.24</td>\n      <td>0.154839</td>\n      <td>0.017143</td>\n      <td>0.155546</td>\n    </tr>\n  </tbody>\n</table>\n</div>"
     },
     "execution_count": 8,
     "metadata": {},
     "output_type": "execute_result"
    }
   ],
   "source": [
    "problem.solve()"
   ],
   "metadata": {
    "collapsed": false,
    "pycharm": {
     "name": "#%%\n"
    }
   }
  },
  {
   "cell_type": "code",
   "execution_count": 9,
   "outputs": [],
   "source": [
    "mfs = search_mfs(problem.constraint_list, copy.copy(problem.constraint_list))"
   ],
   "metadata": {
    "collapsed": false,
    "pycharm": {
     "name": "#%%\n"
    }
   }
  },
  {
   "cell_type": "code",
   "execution_count": 10,
   "outputs": [
    {
     "name": "stdout",
     "output_type": "stream",
     "text": [
      "hard relax ram \n"
     ]
    }
   ],
   "source": [
    "problem.relax(mfs, 0.5)"
   ],
   "metadata": {
    "collapsed": false,
    "pycharm": {
     "name": "#%%\n"
    }
   }
  },
  {
   "cell_type": "code",
   "execution_count": 11,
   "outputs": [
    {
     "data": {
      "text/plain": "      brand                   model             cpu  ram  storage  \\\n17     Asus          M415U-AEB160TS    Ryzen 3 5300    4      512   \n107      HP     Laptop 14s-fq1043AU   Ryzen 3 5300U    8      512   \n124      HP     Laptop 14S-FQ1044AU   Ryzen 3 5300U    8      512   \n35   Lenovo  Ideapad 3 (81WD00N1MJ)  Core i3-1115G4    8      512   \n66      MSI    Modern 14 B11MOU-870  Core i3-1115G4    4      512   \n69   Lenovo   IdeaPad 3 (82H700D9MJ  Core i3-1115G4    4      512   \n122  Lenovo  IdeaPad 3 (82H700D8MJ)  Core i3-1115G4    4      512   \n\n                                     os  screen_size  \\\n17                      Windows 10 Home         14.0   \n107                     Windows 10 Home         14.0   \n124  Windows 10 Home Single Language 64         14.0   \n35                      Windows 10 Home         14.0   \n66                      Windows 11 Home         14.0   \n69                      Windows 10 Home         14.0   \n122                     Windows 10 Home         14.0   \n\n                                gpu  \\\n17             AMD Radeon RX Vega 6   \n107            AMD Radeon RX Vega 6   \n124            AMD Radeon RX Vega 6   \n35   Intel UHD Graphics Xe G4 48EUs   \n66   Intel UHD Graphics Xe G4 48EUs   \n69   Intel UHD Graphics Xe G4 48EUs   \n122  Intel UHD Graphics Xe G4 48EUs   \n\n                                                camera  weight  price  \\\n17                                                 VGA    1.60   2499   \n107  HP True Vision 720p HD camera with integrated ...    1.47   2599   \n124  HP True Vision 720p HD camera with integrated ...    1.47   2197   \n35                           720p with Privacy Shutter    1.41   2197   \n66                              HD type (30fps @ 720p)    1.30   2497   \n69                           720p with Privacy Shutter    1.41   2299   \n122            720p, with privacy shutter, fixed focus    1.41   2499   \n\n     cpu_average  gpu_average  similarity  similarity_screen_size  \\\n17      0.323865     0.120477    0.531741                    0.24   \n107     0.323865     0.120477    0.531741                    0.24   \n124     0.323865     0.120477    0.531741                    0.24   \n35      0.353831     0.092862    0.550385                    0.24   \n66      0.353831     0.092862    0.550385                    0.24   \n69      0.353831     0.092862    0.550385                    0.24   \n122     0.353831     0.092862    0.550385                    0.24   \n\n     similarity_storage  similarity_cpu  \n17             0.154839        0.136902  \n107            0.154839        0.136902  \n124            0.154839        0.136902  \n35             0.154839        0.155546  \n66             0.154839        0.155546  \n69             0.154839        0.155546  \n122            0.154839        0.155546  ",
      "text/html": "<div>\n<style scoped>\n    .dataframe tbody tr th:only-of-type {\n        vertical-align: middle;\n    }\n\n    .dataframe tbody tr th {\n        vertical-align: top;\n    }\n\n    .dataframe thead th {\n        text-align: right;\n    }\n</style>\n<table border=\"1\" class=\"dataframe\">\n  <thead>\n    <tr style=\"text-align: right;\">\n      <th></th>\n      <th>brand</th>\n      <th>model</th>\n      <th>cpu</th>\n      <th>ram</th>\n      <th>storage</th>\n      <th>os</th>\n      <th>screen_size</th>\n      <th>gpu</th>\n      <th>camera</th>\n      <th>weight</th>\n      <th>price</th>\n      <th>cpu_average</th>\n      <th>gpu_average</th>\n      <th>similarity</th>\n      <th>similarity_screen_size</th>\n      <th>similarity_storage</th>\n      <th>similarity_cpu</th>\n    </tr>\n  </thead>\n  <tbody>\n    <tr>\n      <th>17</th>\n      <td>Asus</td>\n      <td>M415U-AEB160TS</td>\n      <td>Ryzen 3 5300</td>\n      <td>4</td>\n      <td>512</td>\n      <td>Windows 10 Home</td>\n      <td>14.0</td>\n      <td>AMD Radeon RX Vega 6</td>\n      <td>VGA</td>\n      <td>1.60</td>\n      <td>2499</td>\n      <td>0.323865</td>\n      <td>0.120477</td>\n      <td>0.531741</td>\n      <td>0.24</td>\n      <td>0.154839</td>\n      <td>0.136902</td>\n    </tr>\n    <tr>\n      <th>107</th>\n      <td>HP</td>\n      <td>Laptop 14s-fq1043AU</td>\n      <td>Ryzen 3 5300U</td>\n      <td>8</td>\n      <td>512</td>\n      <td>Windows 10 Home</td>\n      <td>14.0</td>\n      <td>AMD Radeon RX Vega 6</td>\n      <td>HP True Vision 720p HD camera with integrated ...</td>\n      <td>1.47</td>\n      <td>2599</td>\n      <td>0.323865</td>\n      <td>0.120477</td>\n      <td>0.531741</td>\n      <td>0.24</td>\n      <td>0.154839</td>\n      <td>0.136902</td>\n    </tr>\n    <tr>\n      <th>124</th>\n      <td>HP</td>\n      <td>Laptop 14S-FQ1044AU</td>\n      <td>Ryzen 3 5300U</td>\n      <td>8</td>\n      <td>512</td>\n      <td>Windows 10 Home Single Language 64</td>\n      <td>14.0</td>\n      <td>AMD Radeon RX Vega 6</td>\n      <td>HP True Vision 720p HD camera with integrated ...</td>\n      <td>1.47</td>\n      <td>2197</td>\n      <td>0.323865</td>\n      <td>0.120477</td>\n      <td>0.531741</td>\n      <td>0.24</td>\n      <td>0.154839</td>\n      <td>0.136902</td>\n    </tr>\n    <tr>\n      <th>35</th>\n      <td>Lenovo</td>\n      <td>Ideapad 3 (81WD00N1MJ)</td>\n      <td>Core i3-1115G4</td>\n      <td>8</td>\n      <td>512</td>\n      <td>Windows 10 Home</td>\n      <td>14.0</td>\n      <td>Intel UHD Graphics Xe G4 48EUs</td>\n      <td>720p with Privacy Shutter</td>\n      <td>1.41</td>\n      <td>2197</td>\n      <td>0.353831</td>\n      <td>0.092862</td>\n      <td>0.550385</td>\n      <td>0.24</td>\n      <td>0.154839</td>\n      <td>0.155546</td>\n    </tr>\n    <tr>\n      <th>66</th>\n      <td>MSI</td>\n      <td>Modern 14 B11MOU-870</td>\n      <td>Core i3-1115G4</td>\n      <td>4</td>\n      <td>512</td>\n      <td>Windows 11 Home</td>\n      <td>14.0</td>\n      <td>Intel UHD Graphics Xe G4 48EUs</td>\n      <td>HD type (30fps @ 720p)</td>\n      <td>1.30</td>\n      <td>2497</td>\n      <td>0.353831</td>\n      <td>0.092862</td>\n      <td>0.550385</td>\n      <td>0.24</td>\n      <td>0.154839</td>\n      <td>0.155546</td>\n    </tr>\n    <tr>\n      <th>69</th>\n      <td>Lenovo</td>\n      <td>IdeaPad 3 (82H700D9MJ</td>\n      <td>Core i3-1115G4</td>\n      <td>4</td>\n      <td>512</td>\n      <td>Windows 10 Home</td>\n      <td>14.0</td>\n      <td>Intel UHD Graphics Xe G4 48EUs</td>\n      <td>720p with Privacy Shutter</td>\n      <td>1.41</td>\n      <td>2299</td>\n      <td>0.353831</td>\n      <td>0.092862</td>\n      <td>0.550385</td>\n      <td>0.24</td>\n      <td>0.154839</td>\n      <td>0.155546</td>\n    </tr>\n    <tr>\n      <th>122</th>\n      <td>Lenovo</td>\n      <td>IdeaPad 3 (82H700D8MJ)</td>\n      <td>Core i3-1115G4</td>\n      <td>4</td>\n      <td>512</td>\n      <td>Windows 10 Home</td>\n      <td>14.0</td>\n      <td>Intel UHD Graphics Xe G4 48EUs</td>\n      <td>720p, with privacy shutter, fixed focus</td>\n      <td>1.41</td>\n      <td>2499</td>\n      <td>0.353831</td>\n      <td>0.092862</td>\n      <td>0.550385</td>\n      <td>0.24</td>\n      <td>0.154839</td>\n      <td>0.155546</td>\n    </tr>\n  </tbody>\n</table>\n</div>"
     },
     "execution_count": 11,
     "metadata": {},
     "output_type": "execute_result"
    }
   ],
   "source": [
    "problem.solve()"
   ],
   "metadata": {
    "collapsed": false,
    "pycharm": {
     "name": "#%%\n"
    }
   }
  },
  {
   "cell_type": "code",
   "execution_count": 6,
   "outputs": [],
   "source": [],
   "metadata": {
    "collapsed": false,
    "pycharm": {
     "name": "#%%\n"
    }
   }
  }
 ],
 "metadata": {
  "kernelspec": {
   "display_name": "Python 3",
   "language": "python",
   "name": "python3"
  },
  "language_info": {
   "codemirror_mode": {
    "name": "ipython",
    "version": 2
   },
   "file_extension": ".py",
   "mimetype": "text/x-python",
   "name": "python",
   "nbconvert_exporter": "python",
   "pygments_lexer": "ipython2",
   "version": "2.7.6"
  }
 },
 "nbformat": 4,
 "nbformat_minor": 0
}
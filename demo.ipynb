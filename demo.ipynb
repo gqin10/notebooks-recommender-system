{
 "cells": [
  {
   "cell_type": "code",
   "execution_count": 7,
   "outputs": [],
   "source": [
    "from Constraint import Constraint, Problem\n",
    "from constraint_relax import search_mfs\n",
    "from Nature import Nature\n",
    "from item_extrator import data_path, dummy_data_path\n",
    "import copy"
   ],
   "metadata": {
    "collapsed": false,
    "pycharm": {
     "name": "#%%\n"
    }
   }
  },
  {
   "cell_type": "code",
   "execution_count": 8,
   "outputs": [],
   "source": [
    "problem: Problem = Problem()\n",
    "problem.add_constraint_list([\n",
    "    Constraint(\"cpu\", \"i5\", 8, Nature.EQUAL),\n",
    "    Constraint(\"ram\", 8, 3, Nature.MORE),\n",
    "    Constraint(\"storage\", 512, 8, Nature.MORE),\n",
    "    Constraint(\"screen_size\", 14, 6, Nature.NEAR),\n",
    "    Constraint(\"brand\", \"acer|asus\", 3, Nature.EQUAL),\n",
    "    Constraint(\"camera\", True, 7, Nature.EQUAL),\n",
    "    Constraint(\"os\", \"11\",6, Nature.EQUAL),\n",
    "    Constraint(\"gpu\", \"gtx|rtx\",5, Nature.EQUAL),\n",
    "    Constraint(\"price\", 4500, 5, Nature.LESS)\n",
    "])"
   ],
   "metadata": {
    "collapsed": false,
    "pycharm": {
     "name": "#%%\n"
    }
   }
  },
  {
   "cell_type": "code",
   "execution_count": 9,
   "outputs": [],
   "source": [
    "problem.solve()"
   ],
   "metadata": {
    "collapsed": false,
    "pycharm": {
     "name": "#%%\n"
    }
   }
  },
  {
   "cell_type": "code",
   "execution_count": 10,
   "outputs": [],
   "source": [
    "mfs = search_mfs(problem.constraint_list, copy.copy(problem.constraint_list), problem.data_path)"
   ],
   "metadata": {
    "collapsed": false,
    "pycharm": {
     "name": "#%%\n"
    }
   }
  },
  {
   "cell_type": "code",
   "execution_count": 11,
   "outputs": [
    {
     "name": "stdout",
     "output_type": "stream",
     "text": [
      "hard relax gpu \n"
     ]
    }
   ],
   "source": [
    "problem.relax(mfs, 1)"
   ],
   "metadata": {
    "collapsed": false,
    "pycharm": {
     "name": "#%%\n"
    }
   }
  },
  {
   "cell_type": "code",
   "execution_count": 12,
   "outputs": [
    {
     "data": {
      "text/plain": "    brand                     model             cpu  ram  storage  \\\n100  Acer  Swift 3 (SF314-511-51XN)  Core i5-1135G7    8      512   \n\n                  os  screen_size                              gpu camera  \\\n100  Windows 11 Home         14.0  Intel Iris Xe Graphics G7 80EUs     HD   \n\n     weight  ...  gpu_average  similarity  similarity_ram  similarity_brand  \\\n100     1.2  ...     0.169995    0.671433        0.008403          0.058824   \n\n     similarity_camera  similarity_os  similarity_storage  similarity_price  \\\n100           0.137255       0.117647            0.075901          0.066836   \n\n     similarity_screen_size  similarity_cpu  \n100                0.117647        0.088919  \n\n[1 rows x 22 columns]",
      "text/html": "<div>\n<style scoped>\n    .dataframe tbody tr th:only-of-type {\n        vertical-align: middle;\n    }\n\n    .dataframe tbody tr th {\n        vertical-align: top;\n    }\n\n    .dataframe thead th {\n        text-align: right;\n    }\n</style>\n<table border=\"1\" class=\"dataframe\">\n  <thead>\n    <tr style=\"text-align: right;\">\n      <th></th>\n      <th>brand</th>\n      <th>model</th>\n      <th>cpu</th>\n      <th>ram</th>\n      <th>storage</th>\n      <th>os</th>\n      <th>screen_size</th>\n      <th>gpu</th>\n      <th>camera</th>\n      <th>weight</th>\n      <th>...</th>\n      <th>gpu_average</th>\n      <th>similarity</th>\n      <th>similarity_ram</th>\n      <th>similarity_brand</th>\n      <th>similarity_camera</th>\n      <th>similarity_os</th>\n      <th>similarity_storage</th>\n      <th>similarity_price</th>\n      <th>similarity_screen_size</th>\n      <th>similarity_cpu</th>\n    </tr>\n  </thead>\n  <tbody>\n    <tr>\n      <th>100</th>\n      <td>Acer</td>\n      <td>Swift 3 (SF314-511-51XN)</td>\n      <td>Core i5-1135G7</td>\n      <td>8</td>\n      <td>512</td>\n      <td>Windows 11 Home</td>\n      <td>14.0</td>\n      <td>Intel Iris Xe Graphics G7 80EUs</td>\n      <td>HD</td>\n      <td>1.2</td>\n      <td>...</td>\n      <td>0.169995</td>\n      <td>0.671433</td>\n      <td>0.008403</td>\n      <td>0.058824</td>\n      <td>0.137255</td>\n      <td>0.117647</td>\n      <td>0.075901</td>\n      <td>0.066836</td>\n      <td>0.117647</td>\n      <td>0.088919</td>\n    </tr>\n  </tbody>\n</table>\n<p>1 rows × 22 columns</p>\n</div>"
     },
     "execution_count": 12,
     "metadata": {},
     "output_type": "execute_result"
    }
   ],
   "source": [
    "problem.solve()"
   ],
   "metadata": {
    "collapsed": false,
    "pycharm": {
     "name": "#%%\n"
    }
   }
  },
  {
   "cell_type": "code",
   "execution_count": 12,
   "outputs": [],
   "source": [],
   "metadata": {
    "collapsed": false,
    "pycharm": {
     "name": "#%%\n"
    }
   }
  }
 ],
 "metadata": {
  "kernelspec": {
   "display_name": "Python 3",
   "language": "python",
   "name": "python3"
  },
  "language_info": {
   "codemirror_mode": {
    "name": "ipython",
    "version": 2
   },
   "file_extension": ".py",
   "mimetype": "text/x-python",
   "name": "python",
   "nbconvert_exporter": "python",
   "pygments_lexer": "ipython2",
   "version": "2.7.6"
  }
 },
 "nbformat": 4,
 "nbformat_minor": 0
}
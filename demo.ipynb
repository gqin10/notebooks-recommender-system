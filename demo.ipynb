{
 "cells": [
  {
   "cell_type": "markdown",
   "id": "6b126ef9",
   "metadata": {},
   "source": [
    "**Attribute Values**\n",
    "\n",
    "| attribute | values |\n",
    "| --- | --- |\n",
    "| brand | Attribute.BRAND |\n",
    "| cpu | Attribute.CPU |\n",
    "| gpu | Attribute.GPU |\n",
    "| storage | Attribute.STORAGE |\n",
    "| ram | Attribute.RAM |\n",
    "| os | Attribute.OS |\n",
    "| camera | Attribute.CAMERA |\n",
    "| price | Attribute.PRICE |\n",
    "| weight | Attribute.WEIGHT |\n",
    "| screen_size | Attribute.SCREEN_SIZE |"
   ]
  },
  {
   "cell_type": "markdown",
   "id": "200f8e9c",
   "metadata": {},
   "source": [
    "**Specification Values**\n",
    "\n",
    "| attribute | values |\n",
    "| --- | --- |\n",
    "| brand | acer, asus, dell, hp, huawei, lenovo, microsoft, msi |\n",
    "| cpu | celeron, athlon, pentium, i3, ryzen 3, i5, ryzen 5, i7, ryzen 7, ryzen 9 |\n",
    "| gpu | radeon, iris, mx, gtx, rtx |\n",
    "| storage | 32, 64, 128, 256, 512, 1024, 2048 |\n",
    "| ram | 2, 4, 8, 16, 32, 64 |\n",
    "| os | os, 10, 11 |\n",
    "| camera | True, False |\n",
    "| price | (any numeric values) |\n",
    "| weight | (any numeric valus) |\n",
    "| screen_size | (any numeric values) |"
   ]
  },
  {
   "cell_type": "code",
   "execution_count": 1,
   "id": "3fa0e6ca",
   "metadata": {},
   "outputs": [],
   "source": [
    "from constraint_based_recommender_system import *"
   ]
  },
  {
   "cell_type": "code",
   "execution_count": 2,
   "id": "5a51ee16",
   "metadata": {},
   "outputs": [],
   "source": [
    "# define constraint object for constraint-based recommender system\n",
    "constraintRS = ConstraintRS()"
   ]
  },
  {
   "cell_type": "code",
   "execution_count": 3,
   "id": "533390a2",
   "metadata": {},
   "outputs": [],
   "source": [
    "# add specific constraints\n",
    "# (attribute_name, attribute_value, priority)\n",
    "constraintRS.add_constraint(Constraint(Attribute.BRAND, 'hp', 2))\n",
    "constraintRS.add_constraint(Constraint(Attribute.CPU, 'i5|ryzen 5|i7', 6))\n",
    "constraintRS.add_constraint(Constraint(Attribute.STORAGE, 512, 4))\n",
    "constraintRS.add_constraint(Constraint(Attribute.RAM, 8, 6))\n",
    "constraintRS.add_constraint(Constraint(Attribute.PRICE, 4000, 4))"
   ]
  },
  {
   "cell_type": "code",
   "execution_count": 7,
   "id": "99609e2f",
   "metadata": {},
   "outputs": [
    {
     "data": {
      "text/html": [
       "<div>\n",
       "<style scoped>\n",
       "    .dataframe tbody tr th:only-of-type {\n",
       "        vertical-align: middle;\n",
       "    }\n",
       "\n",
       "    .dataframe tbody tr th {\n",
       "        vertical-align: top;\n",
       "    }\n",
       "\n",
       "    .dataframe thead th {\n",
       "        text-align: right;\n",
       "    }\n",
       "</style>\n",
       "<table border=\"1\" class=\"dataframe\">\n",
       "  <thead>\n",
       "    <tr style=\"text-align: right;\">\n",
       "      <th></th>\n",
       "      <th>brand</th>\n",
       "      <th>model</th>\n",
       "      <th>cpu</th>\n",
       "      <th>ram</th>\n",
       "      <th>storage</th>\n",
       "      <th>os</th>\n",
       "      <th>screen_size</th>\n",
       "      <th>gpu</th>\n",
       "      <th>camera</th>\n",
       "      <th>weight</th>\n",
       "      <th>price</th>\n",
       "      <th>cpu_average</th>\n",
       "      <th>gpu_average</th>\n",
       "      <th>similarity</th>\n",
       "    </tr>\n",
       "  </thead>\n",
       "  <tbody>\n",
       "    <tr>\n",
       "      <th>132</th>\n",
       "      <td>HP</td>\n",
       "      <td>Victus 16-E0122AX</td>\n",
       "      <td>Ryzen 5 5600H</td>\n",
       "      <td>8</td>\n",
       "      <td>512</td>\n",
       "      <td>Windows 10 Home</td>\n",
       "      <td>16.1</td>\n",
       "      <td>NVIDIA GeForce RTX 3050</td>\n",
       "      <td>HP Wide Vision 720p HD camera with integrated ...</td>\n",
       "      <td>2.47</td>\n",
       "      <td>3799</td>\n",
       "      <td>0.458043</td>\n",
       "      <td>0.417929</td>\n",
       "      <td>0.598504</td>\n",
       "    </tr>\n",
       "    <tr>\n",
       "      <th>37</th>\n",
       "      <td>HP</td>\n",
       "      <td>Victus 16-E0127AX</td>\n",
       "      <td>Ryzen 5 5600H</td>\n",
       "      <td>8</td>\n",
       "      <td>512</td>\n",
       "      <td>Windows 10 Home</td>\n",
       "      <td>16.1</td>\n",
       "      <td>NVIDIA GeForce GTX 1650</td>\n",
       "      <td>HP Wide Vision 720p HD camera with integrated ...</td>\n",
       "      <td>2.47</td>\n",
       "      <td>3697</td>\n",
       "      <td>0.458043</td>\n",
       "      <td>0.334113</td>\n",
       "      <td>0.598504</td>\n",
       "    </tr>\n",
       "    <tr>\n",
       "      <th>101</th>\n",
       "      <td>HP</td>\n",
       "      <td>Laptop 15S-EQ2070AU</td>\n",
       "      <td>Ryzen 5 5500U</td>\n",
       "      <td>8</td>\n",
       "      <td>512</td>\n",
       "      <td>Windows 10 Home</td>\n",
       "      <td>15.6</td>\n",
       "      <td>AMD Radeon RX Vega 7</td>\n",
       "      <td>HP True Vision 720p HD camera with integrated ...</td>\n",
       "      <td>2.00</td>\n",
       "      <td>2699</td>\n",
       "      <td>0.358775</td>\n",
       "      <td>0.151889</td>\n",
       "      <td>0.594436</td>\n",
       "    </tr>\n",
       "  </tbody>\n",
       "</table>\n",
       "</div>"
      ],
      "text/plain": [
       "    brand                model            cpu  ram  storage               os  \\\n",
       "132    HP    Victus 16-E0122AX  Ryzen 5 5600H    8      512  Windows 10 Home   \n",
       "37     HP    Victus 16-E0127AX  Ryzen 5 5600H    8      512  Windows 10 Home   \n",
       "101    HP  Laptop 15S-EQ2070AU  Ryzen 5 5500U    8      512  Windows 10 Home   \n",
       "\n",
       "     screen_size                      gpu  \\\n",
       "132         16.1  NVIDIA GeForce RTX 3050   \n",
       "37          16.1  NVIDIA GeForce GTX 1650   \n",
       "101         15.6     AMD Radeon RX Vega 7   \n",
       "\n",
       "                                                camera  weight  price  \\\n",
       "132  HP Wide Vision 720p HD camera with integrated ...    2.47   3799   \n",
       "37   HP Wide Vision 720p HD camera with integrated ...    2.47   3697   \n",
       "101  HP True Vision 720p HD camera with integrated ...    2.00   2699   \n",
       "\n",
       "     cpu_average  gpu_average  similarity  \n",
       "132     0.458043     0.417929    0.598504  \n",
       "37      0.458043     0.334113    0.598504  \n",
       "101     0.358775     0.151889    0.594436  "
      ]
     },
     "execution_count": 7,
     "metadata": {},
     "output_type": "execute_result"
    }
   ],
   "source": [
    "# search for items\n",
    "constraintRS.get_items()"
   ]
  },
  {
   "cell_type": "code",
   "execution_count": null,
   "id": "56b981ed",
   "metadata": {},
   "outputs": [],
   "source": []
  }
 ],
 "metadata": {
  "kernelspec": {
   "display_name": "Python 3 (ipykernel)",
   "language": "python",
   "name": "python3"
  },
  "language_info": {
   "codemirror_mode": {
    "name": "ipython",
    "version": 3
   },
   "file_extension": ".py",
   "mimetype": "text/x-python",
   "name": "python",
   "nbconvert_exporter": "python",
   "pygments_lexer": "ipython3",
   "version": "3.9.7"
  }
 },
 "nbformat": 4,
 "nbformat_minor": 5
}

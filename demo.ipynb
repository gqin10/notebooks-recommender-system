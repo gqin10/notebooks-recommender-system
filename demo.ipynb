{
 "cells": [
  {
   "cell_type": "markdown",
   "id": "6b126ef9",
   "metadata": {},
   "source": [
    "**Attribute Values**\n",
    "\n",
    "| attribute | values |\n",
    "| --- | --- |\n",
    "| brand | Attribute.BRAND |\n",
    "| cpu | Attribute.CPU |\n",
    "| gpu | Attribute.GPU |\n",
    "| storage | Attribute.STORAGE |\n",
    "| ram | Attribute.RAM |\n",
    "| os | Attribute.OS |\n",
    "| camera | Attribute.CAMERA |\n",
    "| price | Attribute.PRICE |\n",
    "| weight | Attribute.WEIGHT |\n",
    "| screen_size | Attribute.SCREEN_SIZE |"
   ]
  },
  {
   "cell_type": "markdown",
   "id": "200f8e9c",
   "metadata": {},
   "source": [
    "**Specification Values**\n",
    "\n",
    "| attribute | values |\n",
    "| --- | --- |\n",
    "| brand | acer, asus, dell, hp, huawei, lenovo, microsoft, msi |\n",
    "| cpu | celeron, athlon, pentium, i3, ryzen 3, i5, ryzen 5, i7, ryzen 7, ryzen 9 |\n",
    "| gpu | radeon, iris, mx, gtx, rtx |\n",
    "| storage | 32, 64, 128, 256, 512, 1024, 2048 |\n",
    "| ram | 2, 4, 8, 16, 32, 64 |\n",
    "| os | os, 10, 11 |\n",
    "| camera | True, False |\n",
    "| price | (any numeric values) |\n",
    "| weight | (any numeric valus) |\n",
    "| screen_size | (any numeric values) |"
   ]
  },
  {
   "cell_type": "code",
   "execution_count": 5,
   "id": "3fa0e6ca",
   "metadata": {},
   "outputs": [],
   "source": [
    "from constraint_based_recommender_system import *"
   ]
  },
  {
   "cell_type": "code",
   "execution_count": 6,
   "id": "5a51ee16",
   "metadata": {},
   "outputs": [],
   "source": [
    "# define constraint object for constraint-based recommender system\n",
    "constraintRS = ConstraintRS()"
   ]
  },
  {
   "cell_type": "code",
   "execution_count": 7,
   "id": "533390a2",
   "metadata": {
    "pycharm": {
     "name": "#%%\n"
    }
   },
   "outputs": [],
   "source": [
    "# add specific constraints\n",
    "# (attribute_name, attribute_value, priority)\n",
    "constraintRS.add_constraint(Constraint(Attribute.CPU, 'i5|ryzen 5|i7', 6))\n",
    "constraintRS.add_constraint(Constraint(Attribute.GPU, 'mx|gtx', 6))\n",
    "constraintRS.add_constraint(Constraint(Attribute.STORAGE, 512, 4))\n",
    "constraintRS.add_constraint(Constraint(Attribute.RAM, 8, 6))\n",
    "constraintRS.add_constraint(Constraint(Attribute.WEIGHT, 1.3, 4))"
   ]
  },
  {
   "cell_type": "code",
   "execution_count": 8,
   "id": "99609e2f",
   "metadata": {},
   "outputs": [
    {
     "data": {
      "text/html": [
       "<div>\n",
       "<style scoped>\n",
       "    .dataframe tbody tr th:only-of-type {\n",
       "        vertical-align: middle;\n",
       "    }\n",
       "\n",
       "    .dataframe tbody tr th {\n",
       "        vertical-align: top;\n",
       "    }\n",
       "\n",
       "    .dataframe thead th {\n",
       "        text-align: right;\n",
       "    }\n",
       "</style>\n",
       "<table border=\"1\" class=\"dataframe\">\n",
       "  <thead>\n",
       "    <tr style=\"text-align: right;\">\n",
       "      <th></th>\n",
       "      <th>brand</th>\n",
       "      <th>model</th>\n",
       "      <th>cpu</th>\n",
       "      <th>ram</th>\n",
       "      <th>storage</th>\n",
       "      <th>os</th>\n",
       "      <th>screen_size</th>\n",
       "      <th>gpu</th>\n",
       "      <th>camera</th>\n",
       "      <th>weight</th>\n",
       "      <th>price</th>\n",
       "    </tr>\n",
       "  </thead>\n",
       "  <tbody>\n",
       "    <tr>\n",
       "      <th>13</th>\n",
       "      <td>MSI</td>\n",
       "      <td>Prestige 14 (A10RBS-255)</td>\n",
       "      <td>Core i7-10510U</td>\n",
       "      <td>16</td>\n",
       "      <td>512</td>\n",
       "      <td>Windows 10 Home</td>\n",
       "      <td>14.0</td>\n",
       "      <td>Nvidia Geforce MX350</td>\n",
       "      <td>720p</td>\n",
       "      <td>1.29</td>\n",
       "      <td>3697</td>\n",
       "    </tr>\n",
       "    <tr>\n",
       "      <th>5</th>\n",
       "      <td>Huawei</td>\n",
       "      <td>MateBook 13</td>\n",
       "      <td>Core i5-8565U</td>\n",
       "      <td>8</td>\n",
       "      <td>512</td>\n",
       "      <td>No Operating System</td>\n",
       "      <td>13.0</td>\n",
       "      <td>NVIDIA GeForce MX250</td>\n",
       "      <td>NaN</td>\n",
       "      <td>1.28</td>\n",
       "      <td>3999</td>\n",
       "    </tr>\n",
       "    <tr>\n",
       "      <th>7</th>\n",
       "      <td>Huawei</td>\n",
       "      <td>MateBook 13</td>\n",
       "      <td>Intel Core i5-10210U</td>\n",
       "      <td>16</td>\n",
       "      <td>512</td>\n",
       "      <td>Windows 10 Home 64</td>\n",
       "      <td>13.0</td>\n",
       "      <td>Nvidia GeForce MX250</td>\n",
       "      <td>1</td>\n",
       "      <td>1.30</td>\n",
       "      <td>4499</td>\n",
       "    </tr>\n",
       "  </tbody>\n",
       "</table>\n",
       "</div>"
      ],
      "text/plain": [
       "     brand                      model                   cpu  ram  storage  \\\n",
       "13     MSI  Prestige 14 (A10RBS-255)         Core i7-10510U   16      512   \n",
       "5   Huawei                MateBook 13         Core i5-8565U    8      512   \n",
       "7   Huawei                MateBook 13  Intel Core i5-10210U   16      512   \n",
       "\n",
       "                     os  screen_size                   gpu camera  weight  \\\n",
       "13      Windows 10 Home         14.0  Nvidia Geforce MX350   720p    1.29   \n",
       "5   No Operating System         13.0  NVIDIA GeForce MX250    NaN    1.28   \n",
       "7    Windows 10 Home 64         13.0  Nvidia GeForce MX250      1    1.30   \n",
       "\n",
       "    price  \n",
       "13   3697  \n",
       "5    3999  \n",
       "7    4499  "
      ]
     },
     "execution_count": 8,
     "metadata": {},
     "output_type": "execute_result"
    }
   ],
   "source": [
    "# search for items\n",
    "constraintRS.get_items()"
   ]
  }
 ],
 "metadata": {
  "kernelspec": {
   "display_name": "Python 3 (ipykernel)",
   "language": "python",
   "name": "python3"
  },
  "language_info": {
   "codemirror_mode": {
    "name": "ipython",
    "version": 3
   },
   "file_extension": ".py",
   "mimetype": "text/x-python",
   "name": "python",
   "nbconvert_exporter": "python",
   "pygments_lexer": "ipython3",
   "version": "3.9.7"
  }
 },
 "nbformat": 4,
 "nbformat_minor": 5
}
{
 "cells": [
  {
   "cell_type": "markdown",
   "id": "6b126ef9",
   "metadata": {},
   "source": [
    "**Attribute Values**\n",
    "\n",
    "| attribute | values |\n",
    "| --- | --- |\n",
    "| brand | Attribute.BRAND |\n",
    "| cpu | Attribute.CPU |\n",
    "| gpu | Attribute.GPU |\n",
    "| storage | Attribute.STORAGE |\n",
    "| ram | Attribute.RAM |\n",
    "| os | Attribute.OS |\n",
    "| camera | Attribute.CAMERA |\n",
    "| price | Attribute.PRICE |\n",
    "| weight | Attribute.WEIGHT |\n",
    "| screen_size | Attribute.SCREEN_SIZE |"
   ]
  },
  {
   "cell_type": "markdown",
   "id": "200f8e9c",
   "metadata": {},
   "source": [
    "**Specification Values**\n",
    "\n",
    "| attribute | values |\n",
    "| --- | --- |\n",
    "| brand | acer, asus, dell, hp, huawei, lenovo, microsoft, msi |\n",
    "| cpu | celeron, athlon, pentium, i3, ryzen 3, i5, ryzen 5, i7, ryzen 7, ryzen 9 |\n",
    "| gpu | radeon, iris, mx, gtx, rtx |\n",
    "| storage | 32, 64, 128, 256, 512, 1024, 2048 |\n",
    "| ram | 2, 4, 8, 16, 32, 64 |\n",
    "| os | os, 10, 11 |\n",
    "| camera | True, False |\n",
    "| price | (any numeric values) |\n",
    "| weight | (any numeric valus) |\n",
    "| screen_size | (any numeric values) |"
   ]
  },
  {
   "cell_type": "code",
   "execution_count": 1,
   "id": "3fa0e6ca",
   "metadata": {},
   "outputs": [],
   "source": [
    "from constraint_based_recommender_system import *"
   ]
  },
  {
   "cell_type": "code",
   "execution_count": 2,
   "id": "5a51ee16",
   "metadata": {},
   "outputs": [],
   "source": [
    "# define constraint object for constraint-based recommender system\n",
    "constraintRS = ConstraintRS()"
   ]
  },
  {
   "cell_type": "code",
   "execution_count": 3,
   "id": "533390a2",
   "metadata": {},
   "outputs": [],
   "source": [
    "# add specific constraints\n",
    "# (attribute_name, attribute_value, priority)\n",
    "constraintRS.add_constraint(Constraint(Attribute.BRAND, 'hp', 2))\n",
    "constraintRS.add_constraint(Constraint(Attribute.CPU, 'i5|ryzen 5|i7', 6))\n",
    "constraintRS.add_constraint(Constraint(Attribute.STORAGE, 512, 4))\n",
    "constraintRS.add_constraint(Constraint(Attribute.RAM, 8, 6))\n",
    "constraintRS.add_constraint(Constraint(Attribute.WEIGHT, 1, 4))"
   ]
  },
  {
   "cell_type": "code",
   "execution_count": 4,
   "id": "99609e2f",
   "metadata": {},
   "outputs": [
    {
     "name": "stdout",
     "output_type": "stream",
     "text": [
      "brand: hp\n",
      "val\n",
      "eq\n",
      "storage: 512\n",
      "val\n",
      "mo\n",
      "cpu: i5|ryzen 5|i7\n",
      "val\n",
      "eq\n",
      "ram: 8\n",
      "val\n",
      "mo\n",
      "weight: 1\n",
      "val\n",
      "le\n"
     ]
    },
    {
     "data": {
      "text/html": [
       "<div>\n",
       "<style scoped>\n",
       "    .dataframe tbody tr th:only-of-type {\n",
       "        vertical-align: middle;\n",
       "    }\n",
       "\n",
       "    .dataframe tbody tr th {\n",
       "        vertical-align: top;\n",
       "    }\n",
       "\n",
       "    .dataframe thead th {\n",
       "        text-align: right;\n",
       "    }\n",
       "</style>\n",
       "<table border=\"1\" class=\"dataframe\">\n",
       "  <thead>\n",
       "    <tr style=\"text-align: right;\">\n",
       "      <th></th>\n",
       "      <th>brand</th>\n",
       "      <th>model</th>\n",
       "      <th>cpu</th>\n",
       "      <th>ram</th>\n",
       "      <th>storage</th>\n",
       "      <th>os</th>\n",
       "      <th>screen_size</th>\n",
       "      <th>gpu</th>\n",
       "      <th>camera</th>\n",
       "      <th>weight</th>\n",
       "      <th>price</th>\n",
       "      <th>cpu_average</th>\n",
       "      <th>gpu_average</th>\n",
       "      <th>similarity</th>\n",
       "    </tr>\n",
       "  </thead>\n",
       "  <tbody>\n",
       "    <tr>\n",
       "      <th>18</th>\n",
       "      <td>HP</td>\n",
       "      <td>Pavilion Aero Laptop 13 (13-BE0047AU)</td>\n",
       "      <td>Ryzen 5 5600U</td>\n",
       "      <td>8</td>\n",
       "      <td>512</td>\n",
       "      <td>Windows 10 Home 64</td>\n",
       "      <td>13.3</td>\n",
       "      <td>AMD Radeon RX Vega 7</td>\n",
       "      <td>HP Wide Vision 720p HD camera with integrated ...</td>\n",
       "      <td>1.0</td>\n",
       "      <td>3197</td>\n",
       "      <td>0.432625</td>\n",
       "      <td>0.151889</td>\n",
       "      <td>0.649942</td>\n",
       "    </tr>\n",
       "    <tr>\n",
       "      <th>41</th>\n",
       "      <td>HP</td>\n",
       "      <td>Pavilion Aero Laptop 13-be0048AU</td>\n",
       "      <td>Ryzen 5 5600U</td>\n",
       "      <td>8</td>\n",
       "      <td>512</td>\n",
       "      <td>Windows 10 Home Single Language 64</td>\n",
       "      <td>13.3</td>\n",
       "      <td>AMD Radeon RX Vega 7</td>\n",
       "      <td>HP Wide Vision 720p HD camera with integrated ...</td>\n",
       "      <td>1.0</td>\n",
       "      <td>3197</td>\n",
       "      <td>0.432625</td>\n",
       "      <td>0.151889</td>\n",
       "      <td>0.649942</td>\n",
       "    </tr>\n",
       "    <tr>\n",
       "      <th>48</th>\n",
       "      <td>HP</td>\n",
       "      <td>Pavilion Aero Laptop 13-be0045AU</td>\n",
       "      <td>Ryzen 5 5600U</td>\n",
       "      <td>8</td>\n",
       "      <td>512</td>\n",
       "      <td>Windows 10 Home Single Language 64</td>\n",
       "      <td>13.3</td>\n",
       "      <td>AMD Radeon RX Vega 7</td>\n",
       "      <td>HP Wide Vision 720p HD camera with integrated ...</td>\n",
       "      <td>1.0</td>\n",
       "      <td>3497</td>\n",
       "      <td>0.432625</td>\n",
       "      <td>0.151889</td>\n",
       "      <td>0.649942</td>\n",
       "    </tr>\n",
       "  </tbody>\n",
       "</table>\n",
       "</div>"
      ],
      "text/plain": [
       "   brand                                  model            cpu  ram  storage  \\\n",
       "18    HP  Pavilion Aero Laptop 13 (13-BE0047AU)  Ryzen 5 5600U    8      512   \n",
       "41    HP       Pavilion Aero Laptop 13-be0048AU  Ryzen 5 5600U    8      512   \n",
       "48    HP       Pavilion Aero Laptop 13-be0045AU  Ryzen 5 5600U    8      512   \n",
       "\n",
       "                                    os  screen_size                   gpu  \\\n",
       "18                  Windows 10 Home 64         13.3  AMD Radeon RX Vega 7   \n",
       "41  Windows 10 Home Single Language 64         13.3  AMD Radeon RX Vega 7   \n",
       "48  Windows 10 Home Single Language 64         13.3  AMD Radeon RX Vega 7   \n",
       "\n",
       "                                               camera  weight  price  \\\n",
       "18  HP Wide Vision 720p HD camera with integrated ...     1.0   3197   \n",
       "41  HP Wide Vision 720p HD camera with integrated ...     1.0   3197   \n",
       "48  HP Wide Vision 720p HD camera with integrated ...     1.0   3497   \n",
       "\n",
       "    cpu_average  gpu_average  similarity  \n",
       "18     0.432625     0.151889    0.649942  \n",
       "41     0.432625     0.151889    0.649942  \n",
       "48     0.432625     0.151889    0.649942  "
      ]
     },
     "execution_count": 4,
     "metadata": {},
     "output_type": "execute_result"
    }
   ],
   "source": [
    "# search for items\n",
    "constraintRS.get_items()"
   ]
  },
  {
   "cell_type": "code",
   "execution_count": null,
   "id": "56b981ed",
   "metadata": {},
   "outputs": [],
   "source": []
  }
 ],
 "metadata": {
  "kernelspec": {
   "display_name": "Python 3 (ipykernel)",
   "language": "python",
   "name": "python3"
  },
  "language_info": {
   "codemirror_mode": {
    "name": "ipython",
    "version": 3
   },
   "file_extension": ".py",
   "mimetype": "text/x-python",
   "name": "python",
   "nbconvert_exporter": "python",
   "pygments_lexer": "ipython3",
   "version": "3.9.7"
  }
 },
 "nbformat": 4,
 "nbformat_minor": 5
}

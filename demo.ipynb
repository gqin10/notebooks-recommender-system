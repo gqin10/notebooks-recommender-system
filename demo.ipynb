{
 "cells": [
  {
   "cell_type": "code",
   "execution_count": 1,
   "outputs": [],
   "source": [
    "from Constraint import Constraint, Problem, Nature\n",
    "from constraint_relax import search_mfs\n",
    "import copy"
   ],
   "metadata": {
    "collapsed": false,
    "pycharm": {
     "name": "#%%\n"
    }
   }
  },
  {
   "cell_type": "code",
   "execution_count": 2,
   "outputs": [],
   "source": [
    "problem:Problem = Problem()\n",
    "c1:Constraint = Constraint(\"cpu\", \"i5|ryzen 5\", 7, Nature.EQUAL)\n",
    "c2:Constraint = Constraint(\"gpu\", \"mx|gtx\", 5, Nature.EQUAL)\n",
    "c3:Constraint = Constraint(\"ram\", 8, 7, Nature.MORE)\n",
    "c4:Constraint = Constraint(\"price\",3000, 3, Nature.LESS)\n",
    "c5:Constraint = Constraint(\"weight\", 1.5, 3, Nature.LESS)\n",
    "problem.add_constraint_list([c1,c2,c3,c4,c5])"
   ],
   "metadata": {
    "collapsed": false,
    "pycharm": {
     "name": "#%%\n"
    }
   }
  },
  {
   "cell_type": "code",
   "execution_count": 3,
   "outputs": [
    {
     "data": {
      "text/plain": "Empty DataFrame\nColumns: [brand, model, cpu, ram, storage, os, screen_size, gpu, camera, weight, price, cpu_average, gpu_average]\nIndex: []",
      "text/html": "<div>\n<style scoped>\n    .dataframe tbody tr th:only-of-type {\n        vertical-align: middle;\n    }\n\n    .dataframe tbody tr th {\n        vertical-align: top;\n    }\n\n    .dataframe thead th {\n        text-align: right;\n    }\n</style>\n<table border=\"1\" class=\"dataframe\">\n  <thead>\n    <tr style=\"text-align: right;\">\n      <th></th>\n      <th>brand</th>\n      <th>model</th>\n      <th>cpu</th>\n      <th>ram</th>\n      <th>storage</th>\n      <th>os</th>\n      <th>screen_size</th>\n      <th>gpu</th>\n      <th>camera</th>\n      <th>weight</th>\n      <th>price</th>\n      <th>cpu_average</th>\n      <th>gpu_average</th>\n    </tr>\n  </thead>\n  <tbody>\n  </tbody>\n</table>\n</div>"
     },
     "execution_count": 3,
     "metadata": {},
     "output_type": "execute_result"
    }
   ],
   "source": [
    "problem.solve()"
   ],
   "metadata": {
    "collapsed": false,
    "pycharm": {
     "name": "#%%\n"
    }
   }
  },
  {
   "cell_type": "code",
   "execution_count": 4,
   "outputs": [],
   "source": [
    "mfs = search_mfs(problem.constraint_list, copy.copy(problem.constraint_list))"
   ],
   "metadata": {
    "collapsed": false,
    "pycharm": {
     "name": "#%%\n"
    }
   }
  },
  {
   "cell_type": "code",
   "execution_count": 5,
   "outputs": [
    {
     "name": "stdout",
     "output_type": "stream",
     "text": [
      "hard relax weight \n"
     ]
    }
   ],
   "source": [
    "problem.relax(mfs, 1)"
   ],
   "metadata": {
    "collapsed": false,
    "pycharm": {
     "name": "#%%\n"
    }
   }
  },
  {
   "cell_type": "code",
   "execution_count": 6,
   "outputs": [
    {
     "data": {
      "text/plain": "   brand                model             cpu  ram  storage               os  \\\n54    HP  Laptop 15s-du3023TX  Core i5-1135G7    8      512  Windows 11 Home   \n\n    screen_size                   gpu camera  weight  price  cpu_average  \\\n54         15.6  NVIDIA GeForce MX350    NaN    2.53   2999     0.395378   \n\n    gpu_average  \n54     0.189936  ",
      "text/html": "<div>\n<style scoped>\n    .dataframe tbody tr th:only-of-type {\n        vertical-align: middle;\n    }\n\n    .dataframe tbody tr th {\n        vertical-align: top;\n    }\n\n    .dataframe thead th {\n        text-align: right;\n    }\n</style>\n<table border=\"1\" class=\"dataframe\">\n  <thead>\n    <tr style=\"text-align: right;\">\n      <th></th>\n      <th>brand</th>\n      <th>model</th>\n      <th>cpu</th>\n      <th>ram</th>\n      <th>storage</th>\n      <th>os</th>\n      <th>screen_size</th>\n      <th>gpu</th>\n      <th>camera</th>\n      <th>weight</th>\n      <th>price</th>\n      <th>cpu_average</th>\n      <th>gpu_average</th>\n    </tr>\n  </thead>\n  <tbody>\n    <tr>\n      <th>54</th>\n      <td>HP</td>\n      <td>Laptop 15s-du3023TX</td>\n      <td>Core i5-1135G7</td>\n      <td>8</td>\n      <td>512</td>\n      <td>Windows 11 Home</td>\n      <td>15.6</td>\n      <td>NVIDIA GeForce MX350</td>\n      <td>NaN</td>\n      <td>2.53</td>\n      <td>2999</td>\n      <td>0.395378</td>\n      <td>0.189936</td>\n    </tr>\n  </tbody>\n</table>\n</div>"
     },
     "execution_count": 6,
     "metadata": {},
     "output_type": "execute_result"
    }
   ],
   "source": [
    "problem.solve()"
   ],
   "metadata": {
    "collapsed": false,
    "pycharm": {
     "name": "#%%\n"
    }
   }
  },
  {
   "cell_type": "code",
   "execution_count": 6,
   "outputs": [],
   "source": [],
   "metadata": {
    "collapsed": false,
    "pycharm": {
     "name": "#%%\n"
    }
   }
  }
 ],
 "metadata": {
  "kernelspec": {
   "display_name": "Python 3",
   "language": "python",
   "name": "python3"
  },
  "language_info": {
   "codemirror_mode": {
    "name": "ipython",
    "version": 2
   },
   "file_extension": ".py",
   "mimetype": "text/x-python",
   "name": "python",
   "nbconvert_exporter": "python",
   "pygments_lexer": "ipython2",
   "version": "2.7.6"
  }
 },
 "nbformat": 4,
 "nbformat_minor": 0
}
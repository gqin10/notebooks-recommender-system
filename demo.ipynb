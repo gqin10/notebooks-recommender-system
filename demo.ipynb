{
 "cells": [
  {
   "cell_type": "markdown",
   "id": "6b126ef9",
   "metadata": {},
   "source": [
    "**Attribute Values**\n",
    "\n",
    "| attribute | values |\n",
    "| --- | --- |\n",
    "| brand | Attribute.BRAND |\n",
    "| cpu | Attribute.CPU |\n",
    "| gpu | Attribute.GPU |\n",
    "| storage | Attribute.STORAGE |\n",
    "| ram | Attribute.RAM |\n",
    "| os | Attribute.OS |\n",
    "| camera | Attribute.CAMERA |\n",
    "| price | Attribute.PRICE |\n",
    "| weight | Attribute.WEIGHT |\n",
    "| screen_size | Attribute.SCREEN_SIZE |"
   ]
  },
  {
   "cell_type": "markdown",
   "id": "200f8e9c",
   "metadata": {},
   "source": [
    "**Specification Values**\n",
    "\n",
    "| attribute | values |\n",
    "| --- | --- |\n",
    "| brand | acer, asus, dell, hp, huawei, lenovo, microsoft, msi |\n",
    "| cpu | celeron, athlon, pentium, i3, ryzen 3, i5, ryzen 5, i7, ryzen 7, ryzen 9 |\n",
    "| gpu | radeon, iris, mx, gtx, rtx |\n",
    "| storage | 32, 64, 128, 256, 512, 1024, 2048 |\n",
    "| ram | 2, 4, 8, 16, 32, 64 |\n",
    "| os | os, 10, 11 |\n",
    "| camera | True, False |\n",
    "| price | (any numeric values) |\n",
    "| weight | (any numeric valus) |\n",
    "| screen_size | (any numeric values) |"
   ]
  },
  {
   "cell_type": "code",
   "execution_count": 1,
   "id": "3fa0e6ca",
   "metadata": {},
   "outputs": [],
   "source": [
    "from constraint_based_recommender_system import *"
   ]
  },
  {
   "cell_type": "code",
   "execution_count": 2,
   "id": "5a51ee16",
   "metadata": {},
   "outputs": [],
   "source": [
    "# define constraint object for constraint-based recommender system\n",
    "constraintRS = ConstraintRS()"
   ]
  },
  {
   "cell_type": "code",
   "execution_count": 3,
   "id": "533390a2",
   "metadata": {},
   "outputs": [],
   "source": [
    "# add specific constraints\n",
    "# (attribute_name, attribute_value, priority)\n",
    "constraintRS.add_constraint(Constraint(Attribute.CPU, 'i5|ryzen 5|i7', 6))\n",
    "constraintRS.add_constraint(Constraint(Attribute.GPU, 'mx|gtx', 6))\n",
    "constraintRS.add_constraint(Constraint(Attribute.STORAGE, 512, 4))\n",
    "constraintRS.add_constraint(Constraint(Attribute.RAM, 8, 6))\n",
    "constraintRS.add_constraint(Constraint(Attribute.WEIGHT, 1, 4))"
   ]
  },
  {
   "cell_type": "code",
   "execution_count": 4,
   "id": "99609e2f",
   "metadata": {},
   "outputs": [
    {
     "data": {
      "text/html": [
       "<div>\n",
       "<style scoped>\n",
       "    .dataframe tbody tr th:only-of-type {\n",
       "        vertical-align: middle;\n",
       "    }\n",
       "\n",
       "    .dataframe tbody tr th {\n",
       "        vertical-align: top;\n",
       "    }\n",
       "\n",
       "    .dataframe thead th {\n",
       "        text-align: right;\n",
       "    }\n",
       "</style>\n",
       "<table border=\"1\" class=\"dataframe\">\n",
       "  <thead>\n",
       "    <tr style=\"text-align: right;\">\n",
       "      <th></th>\n",
       "      <th>brand</th>\n",
       "      <th>model</th>\n",
       "      <th>cpu</th>\n",
       "      <th>ram</th>\n",
       "      <th>storage</th>\n",
       "      <th>os</th>\n",
       "      <th>screen_size</th>\n",
       "      <th>gpu</th>\n",
       "      <th>camera</th>\n",
       "      <th>weight</th>\n",
       "      <th>price</th>\n",
       "    </tr>\n",
       "  </thead>\n",
       "  <tbody>\n",
       "    <tr>\n",
       "      <th>23</th>\n",
       "      <td>Acer</td>\n",
       "      <td>Swift 5 (SF514-54GT-53FE)</td>\n",
       "      <td>Core i5-1035G1</td>\n",
       "      <td>8</td>\n",
       "      <td>512</td>\n",
       "      <td>Windows 10 Home</td>\n",
       "      <td>14.0</td>\n",
       "      <td>NVIDIA GeForce MX350</td>\n",
       "      <td>HD</td>\n",
       "      <td>0.99</td>\n",
       "      <td>3997</td>\n",
       "    </tr>\n",
       "  </tbody>\n",
       "</table>\n",
       "</div>"
      ],
      "text/plain": [
       "   brand                      model             cpu  ram  storage  \\\n",
       "23  Acer  Swift 5 (SF514-54GT-53FE)  Core i5-1035G1    8      512   \n",
       "\n",
       "                 os  screen_size                   gpu camera  weight  price  \n",
       "23  Windows 10 Home         14.0  NVIDIA GeForce MX350     HD    0.99   3997  "
      ]
     },
     "execution_count": 4,
     "metadata": {},
     "output_type": "execute_result"
    }
   ],
   "source": [
    "# search for items\n",
    "constraintRS.get_items()"
   ]
  }
 ],
 "metadata": {
  "kernelspec": {
   "display_name": "Python 3 (ipykernel)",
   "language": "python",
   "name": "python3"
  },
  "language_info": {
   "codemirror_mode": {
    "name": "ipython",
    "version": 3
   },
   "file_extension": ".py",
   "mimetype": "text/x-python",
   "name": "python",
   "nbconvert_exporter": "python",
   "pygments_lexer": "ipython3",
   "version": "3.9.7"
  }
 },
 "nbformat": 4,
 "nbformat_minor": 5
}
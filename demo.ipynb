{
 "cells": [
  {
   "cell_type": "code",
   "execution_count": 1,
   "outputs": [],
   "source": [
    "from Constraint import Constraint, Problem\n",
    "from constraint_relax import search_mfs\n",
    "from Nature import Nature\n",
    "import copy"
   ],
   "metadata": {
    "collapsed": false,
    "pycharm": {
     "name": "#%%\n"
    }
   }
  },
  {
   "cell_type": "code",
   "execution_count": 2,
   "outputs": [],
   "source": [
    "problem: Problem = Problem()\n",
    "problem.add_constraint_list([\n",
    "    Constraint(\"cpu\", \"i3|ryzen 3\", 8, Nature.EQUAL),\n",
    "    Constraint(\"ram\", 8, 3, Nature.MORE),\n",
    "    Constraint(\"storage\", 512, 8, Nature.MORE),\n",
    "    Constraint(\"screen_size\", 14, 6, Nature.NEAR),\n",
    "    Constraint(\"weight\", 1.4, 7, Nature.LESS),\n",
    "    Constraint(\"price\", 2300, 6, Nature.LESS)\n",
    "])"
   ],
   "metadata": {
    "collapsed": false,
    "pycharm": {
     "name": "#%%\n"
    }
   }
  },
  {
   "cell_type": "code",
   "execution_count": 3,
   "outputs": [],
   "source": [
    "problem.solve()"
   ],
   "metadata": {
    "collapsed": false,
    "pycharm": {
     "name": "#%%\n"
    }
   }
  },
  {
   "cell_type": "code",
   "execution_count": 4,
   "outputs": [],
   "source": [
    "mfs = search_mfs(problem.constraint_list, copy.copy(problem.constraint_list))"
   ],
   "metadata": {
    "collapsed": false,
    "pycharm": {
     "name": "#%%\n"
    }
   }
  },
  {
   "cell_type": "code",
   "execution_count": 5,
   "outputs": [
    {
     "name": "stdout",
     "output_type": "stream",
     "text": [
      "soft relax price 2850.0\n",
      "hard relax ram \n"
     ]
    }
   ],
   "source": [
    "problem.relax(mfs, 0.5)"
   ],
   "metadata": {
    "collapsed": false,
    "pycharm": {
     "name": "#%%\n"
    }
   }
  },
  {
   "cell_type": "code",
   "execution_count": 6,
   "outputs": [
    {
     "data": {
      "text/plain": "   brand                 model             cpu  ram  storage               os  \\\n66   MSI  Modern 14 B11MOU-870  Core i3-1115G4    4      512  Windows 11 Home   \n\n    screen_size                             gpu                  camera  \\\n66         14.0  Intel UHD Graphics Xe G4 48EUs  HD type (30fps @ 720p)   \n\n    weight  price  cpu_average  gpu_average  similarity  similarity_storage  \\\n66     1.3   2497     0.353831     0.092862     0.73773            0.101868   \n\n    similarity_price  similarity_screen_size  similarity_cpu  \\\n66          0.131325                0.157895        0.210526   \n\n    similarity_weight  \n66           0.136116  ",
      "text/html": "<div>\n<style scoped>\n    .dataframe tbody tr th:only-of-type {\n        vertical-align: middle;\n    }\n\n    .dataframe tbody tr th {\n        vertical-align: top;\n    }\n\n    .dataframe thead th {\n        text-align: right;\n    }\n</style>\n<table border=\"1\" class=\"dataframe\">\n  <thead>\n    <tr style=\"text-align: right;\">\n      <th></th>\n      <th>brand</th>\n      <th>model</th>\n      <th>cpu</th>\n      <th>ram</th>\n      <th>storage</th>\n      <th>os</th>\n      <th>screen_size</th>\n      <th>gpu</th>\n      <th>camera</th>\n      <th>weight</th>\n      <th>price</th>\n      <th>cpu_average</th>\n      <th>gpu_average</th>\n      <th>similarity</th>\n      <th>similarity_storage</th>\n      <th>similarity_price</th>\n      <th>similarity_screen_size</th>\n      <th>similarity_cpu</th>\n      <th>similarity_weight</th>\n    </tr>\n  </thead>\n  <tbody>\n    <tr>\n      <th>66</th>\n      <td>MSI</td>\n      <td>Modern 14 B11MOU-870</td>\n      <td>Core i3-1115G4</td>\n      <td>4</td>\n      <td>512</td>\n      <td>Windows 11 Home</td>\n      <td>14.0</td>\n      <td>Intel UHD Graphics Xe G4 48EUs</td>\n      <td>HD type (30fps @ 720p)</td>\n      <td>1.3</td>\n      <td>2497</td>\n      <td>0.353831</td>\n      <td>0.092862</td>\n      <td>0.73773</td>\n      <td>0.101868</td>\n      <td>0.131325</td>\n      <td>0.157895</td>\n      <td>0.210526</td>\n      <td>0.136116</td>\n    </tr>\n  </tbody>\n</table>\n</div>"
     },
     "execution_count": 6,
     "metadata": {},
     "output_type": "execute_result"
    }
   ],
   "source": [
    "problem.solve()"
   ],
   "metadata": {
    "collapsed": false,
    "pycharm": {
     "name": "#%%\n"
    }
   }
  },
  {
   "cell_type": "code",
   "execution_count": 6,
   "outputs": [],
   "source": [],
   "metadata": {
    "collapsed": false,
    "pycharm": {
     "name": "#%%\n"
    }
   }
  }
 ],
 "metadata": {
  "kernelspec": {
   "display_name": "Python 3",
   "language": "python",
   "name": "python3"
  },
  "language_info": {
   "codemirror_mode": {
    "name": "ipython",
    "version": 2
   },
   "file_extension": ".py",
   "mimetype": "text/x-python",
   "name": "python",
   "nbconvert_exporter": "python",
   "pygments_lexer": "ipython2",
   "version": "2.7.6"
  }
 },
 "nbformat": 4,
 "nbformat_minor": 0
}
{
 "cells": [
  {
   "cell_type": "code",
   "execution_count": 1,
   "id": "39829337",
   "metadata": {},
   "outputs": [],
   "source": [
    "from Constraint import Constraint, Problem\n",
    "from Nature import Nature, attribute_nature\n",
    "from values import real_data_path, Attribute, simulated_data_path\n",
    "from constraint_relax import search_preferred_diagnosis\n",
    "import copy\n",
    "from IPython.display import display, HTML"
   ]
  },
  {
   "cell_type": "code",
   "execution_count": 2,
   "id": "b8f3900c",
   "metadata": {},
   "outputs": [],
   "source": [
    "problem = Problem()\n",
    "problem.add_constraint_list([\n",
    "    Constraint(Attribute.RAM.value, 16, 4),\n",
    "    Constraint(Attribute.PRICE.value, 3300, 9),\n",
    "    Constraint(Attribute.CPU.value, 'i3|i5', 5),\n",
    "    Constraint(Attribute.WEIGHT.value, 1.5, 2),\n",
    "    Constraint(Attribute.STORAGE.value, 1024, 6)\n",
    "])"
   ]
  },
  {
   "cell_type": "code",
   "execution_count": 3,
   "id": "01f35fc1",
   "metadata": {},
   "outputs": [
    {
     "name": "stdout",
     "output_type": "stream",
     "text": [
      "No items have been found\n"
     ]
    }
   ],
   "source": [
    "items = problem.retrieve_items()\n",
    "if items is None:\n",
    "    print('No items have been found')\n",
    "else:\n",
    "    display(items)"
   ]
  },
  {
   "cell_type": "code",
   "execution_count": 4,
   "id": "5a595c91",
   "metadata": {
    "scrolled": true
   },
   "outputs": [
    {
     "name": "stdout",
     "output_type": "stream",
     "text": [
      "[{'name': 'ram', 'value': 16, 'priority': 4, 'nature': <Nature.MORE: 'more'>}, {'name': 'storage', 'value': 1024, 'priority': 6, 'nature': <Nature.MORE: 'more'>}]\n",
      "\n",
      "\n",
      "============= t = 0 =============\n",
      "No items have been found\n",
      "\n",
      "\n",
      "============= t = 0.5 =============\n"
     ]
    },
    {
     "data": {
      "text/html": [
       "<div>\n",
       "<style scoped>\n",
       "    .dataframe tbody tr th:only-of-type {\n",
       "        vertical-align: middle;\n",
       "    }\n",
       "\n",
       "    .dataframe tbody tr th {\n",
       "        vertical-align: top;\n",
       "    }\n",
       "\n",
       "    .dataframe thead th {\n",
       "        text-align: right;\n",
       "    }\n",
       "</style>\n",
       "<table border=\"1\" class=\"dataframe\">\n",
       "  <thead>\n",
       "    <tr style=\"text-align: right;\">\n",
       "      <th></th>\n",
       "      <th>brand</th>\n",
       "      <th>model</th>\n",
       "      <th>cpu</th>\n",
       "      <th>ram</th>\n",
       "      <th>storage</th>\n",
       "      <th>os</th>\n",
       "      <th>screen_size</th>\n",
       "      <th>gpu</th>\n",
       "      <th>camera</th>\n",
       "      <th>weight</th>\n",
       "      <th>price</th>\n",
       "    </tr>\n",
       "  </thead>\n",
       "  <tbody>\n",
       "    <tr>\n",
       "      <th>35</th>\n",
       "      <td>Lenovo</td>\n",
       "      <td>Ideapad 3 (81WD00N1MJ)</td>\n",
       "      <td>Core i3-1115G4</td>\n",
       "      <td>8</td>\n",
       "      <td>512</td>\n",
       "      <td>Windows 10 Home</td>\n",
       "      <td>14.0</td>\n",
       "      <td>Intel UHD Graphics Xe G4 48EUs</td>\n",
       "      <td>720p with Privacy Shutter</td>\n",
       "      <td>1.41</td>\n",
       "      <td>2197</td>\n",
       "    </tr>\n",
       "  </tbody>\n",
       "</table>\n",
       "</div>"
      ],
      "text/plain": [
       "     brand                   model             cpu  ram  storage  \\\n",
       "35  Lenovo  Ideapad 3 (81WD00N1MJ)  Core i3-1115G4    8      512   \n",
       "\n",
       "                 os  screen_size                             gpu  \\\n",
       "35  Windows 10 Home         14.0  Intel UHD Graphics Xe G4 48EUs   \n",
       "\n",
       "                       camera  weight  price  \n",
       "35  720p with Privacy Shutter    1.41   2197  "
      ]
     },
     "metadata": {},
     "output_type": "display_data"
    },
    {
     "name": "stdout",
     "output_type": "stream",
     "text": [
      "\n",
      "\n",
      "============= t = 1 =============\n"
     ]
    },
    {
     "data": {
      "text/html": [
       "<div>\n",
       "<style scoped>\n",
       "    .dataframe tbody tr th:only-of-type {\n",
       "        vertical-align: middle;\n",
       "    }\n",
       "\n",
       "    .dataframe tbody tr th {\n",
       "        vertical-align: top;\n",
       "    }\n",
       "\n",
       "    .dataframe thead th {\n",
       "        text-align: right;\n",
       "    }\n",
       "</style>\n",
       "<table border=\"1\" class=\"dataframe\">\n",
       "  <thead>\n",
       "    <tr style=\"text-align: right;\">\n",
       "      <th></th>\n",
       "      <th>brand</th>\n",
       "      <th>model</th>\n",
       "      <th>cpu</th>\n",
       "      <th>ram</th>\n",
       "      <th>storage</th>\n",
       "      <th>os</th>\n",
       "      <th>screen_size</th>\n",
       "      <th>gpu</th>\n",
       "      <th>camera</th>\n",
       "      <th>weight</th>\n",
       "      <th>price</th>\n",
       "    </tr>\n",
       "  </thead>\n",
       "  <tbody>\n",
       "    <tr>\n",
       "      <th>35</th>\n",
       "      <td>Lenovo</td>\n",
       "      <td>Ideapad 3 (81WD00N1MJ)</td>\n",
       "      <td>Core i3-1115G4</td>\n",
       "      <td>8</td>\n",
       "      <td>512</td>\n",
       "      <td>Windows 10 Home</td>\n",
       "      <td>14.0</td>\n",
       "      <td>Intel UHD Graphics Xe G4 48EUs</td>\n",
       "      <td>720p with Privacy Shutter</td>\n",
       "      <td>1.41</td>\n",
       "      <td>2197</td>\n",
       "    </tr>\n",
       "    <tr>\n",
       "      <th>66</th>\n",
       "      <td>MSI</td>\n",
       "      <td>Modern 14 B11MOU-870</td>\n",
       "      <td>Core i3-1115G4</td>\n",
       "      <td>4</td>\n",
       "      <td>512</td>\n",
       "      <td>Windows 11 Home</td>\n",
       "      <td>14.0</td>\n",
       "      <td>Intel UHD Graphics Xe G4 48EUs</td>\n",
       "      <td>HD type (30fps @ 720p)</td>\n",
       "      <td>1.30</td>\n",
       "      <td>2497</td>\n",
       "    </tr>\n",
       "    <tr>\n",
       "      <th>69</th>\n",
       "      <td>Lenovo</td>\n",
       "      <td>IdeaPad 3 (82H700D9MJ</td>\n",
       "      <td>Core i3-1115G4</td>\n",
       "      <td>4</td>\n",
       "      <td>512</td>\n",
       "      <td>Windows 10 Home</td>\n",
       "      <td>14.0</td>\n",
       "      <td>Intel UHD Graphics Xe G4 48EUs</td>\n",
       "      <td>720p with Privacy Shutter</td>\n",
       "      <td>1.41</td>\n",
       "      <td>2299</td>\n",
       "    </tr>\n",
       "    <tr>\n",
       "      <th>122</th>\n",
       "      <td>Lenovo</td>\n",
       "      <td>IdeaPad 3 (82H700D8MJ)</td>\n",
       "      <td>Core i3-1115G4</td>\n",
       "      <td>4</td>\n",
       "      <td>512</td>\n",
       "      <td>Windows 10 Home</td>\n",
       "      <td>14.0</td>\n",
       "      <td>Intel UHD Graphics Xe G4 48EUs</td>\n",
       "      <td>720p, with privacy shutter, fixed focus</td>\n",
       "      <td>1.41</td>\n",
       "      <td>2499</td>\n",
       "    </tr>\n",
       "  </tbody>\n",
       "</table>\n",
       "</div>"
      ],
      "text/plain": [
       "      brand                   model             cpu  ram  storage  \\\n",
       "35   Lenovo  Ideapad 3 (81WD00N1MJ)  Core i3-1115G4    8      512   \n",
       "66      MSI    Modern 14 B11MOU-870  Core i3-1115G4    4      512   \n",
       "69   Lenovo   IdeaPad 3 (82H700D9MJ  Core i3-1115G4    4      512   \n",
       "122  Lenovo  IdeaPad 3 (82H700D8MJ)  Core i3-1115G4    4      512   \n",
       "\n",
       "                  os  screen_size                             gpu  \\\n",
       "35   Windows 10 Home         14.0  Intel UHD Graphics Xe G4 48EUs   \n",
       "66   Windows 11 Home         14.0  Intel UHD Graphics Xe G4 48EUs   \n",
       "69   Windows 10 Home         14.0  Intel UHD Graphics Xe G4 48EUs   \n",
       "122  Windows 10 Home         14.0  Intel UHD Graphics Xe G4 48EUs   \n",
       "\n",
       "                                      camera  weight  price  \n",
       "35                 720p with Privacy Shutter    1.41   2197  \n",
       "66                    HD type (30fps @ 720p)    1.30   2497  \n",
       "69                 720p with Privacy Shutter    1.41   2299  \n",
       "122  720p, with privacy shutter, fixed focus    1.41   2499  "
      ]
     },
     "metadata": {},
     "output_type": "display_data"
    },
    {
     "name": "stdout",
     "output_type": "stream",
     "text": [
      "\n",
      "\n"
     ]
    }
   ],
   "source": [
    "thresholds = [0, 0.5, 1]\n",
    "preferred_diagnosis = search_preferred_diagnosis(problem.constraint_list, real_data_path)\n",
    "print([c.__dict__ for c in preferred_diagnosis])\n",
    "print('\\n')\n",
    "\n",
    "for t in thresholds:\n",
    "    prob_copy = copy.deepcopy(problem)\n",
    "    prob_copy.relax(preferred_diagnosis, t)\n",
    "    \n",
    "    items = prob_copy.retrieve_items()\n",
    "    print(f'============= t = {t} =============')\n",
    "    if items is None:\n",
    "        print('No items have been found')\n",
    "    else:\n",
    "        display(items)\n",
    "    print('\\n')"
   ]
  },
  {
   "cell_type": "code",
   "execution_count": null,
   "id": "36549fea",
   "metadata": {},
   "outputs": [],
   "source": []
  }
 ],
 "metadata": {
  "kernelspec": {
   "display_name": "Python 3 (ipykernel)",
   "language": "python",
   "name": "python3"
  },
  "language_info": {
   "codemirror_mode": {
    "name": "ipython",
    "version": 3
   },
   "file_extension": ".py",
   "mimetype": "text/x-python",
   "name": "python",
   "nbconvert_exporter": "python",
   "pygments_lexer": "ipython3",
   "version": "3.9.7"
  }
 },
 "nbformat": 4,
 "nbformat_minor": 5
}
